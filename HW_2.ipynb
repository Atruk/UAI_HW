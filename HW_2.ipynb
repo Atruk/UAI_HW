{
  "nbformat": 4,
  "nbformat_minor": 0,
  "metadata": {
    "colab": {
      "name": "HW_2.ipynb",
      "provenance": [],
      "collapsed_sections": [
        "hVttJDelgTUL",
        "r5LosJa-Cl65"
      ],
      "mount_file_id": "1lV42d04Cy4XFLONQdxa9dxsCBN5w3IKa",
      "authorship_tag": "ABX9TyM7V3kfUptzGs8XJgGSV5XX",
      "include_colab_link": true
    },
    "kernelspec": {
      "name": "python3",
      "display_name": "Python 3"
    },
    "accelerator": "GPU"
  },
  "cells": [
    {
      "cell_type": "markdown",
      "metadata": {
        "id": "view-in-github",
        "colab_type": "text"
      },
      "source": [
        "<a href=\"https://colab.research.google.com/github/Atruk/UAI_HW/blob/master/HW_2.ipynb\" target=\"_parent\"><img src=\"https://colab.research.google.com/assets/colab-badge.svg\" alt=\"Open In Colab\"/></a>"
      ]
    },
    {
      "cell_type": "markdown",
      "metadata": {
        "id": "s4S8tw0SlvZd",
        "colab_type": "text"
      },
      "source": [
        "# Импорт модулей"
      ]
    },
    {
      "cell_type": "code",
      "metadata": {
        "id": "jrC14E_d18iX",
        "colab_type": "code",
        "colab": {}
      },
      "source": [
        "from tensorflow.keras.models import Sequential\n",
        "from tensorflow.keras.layers import Dense, Activation, Dropout, BatchNormalization\n",
        "from tensorflow.keras import utils\n",
        "from tensorflow.keras.preprocessing import image\n",
        "from tensorflow.keras.optimizers import Adam, Adadelta\n",
        "from sklearn.preprocessing import LabelEncoder, StandardScaler\n",
        "from sklearn import preprocessing\n",
        "from sklearn.model_selection import train_test_split\n",
        "import numpy as np\n",
        "import pandas as pd\n",
        "import matplotlib.pyplot as plt\n",
        "from PIL import Image\n",
        "from google.colab import files\n",
        "from google.colab import drive\n",
        "from keras.callbacks import History\n",
        "from pprint import pprint\n",
        "from tensorflow.keras.datasets import mnist\n",
        "%matplotlib inline"
      ],
      "execution_count": null,
      "outputs": []
    },
    {
      "cell_type": "code",
      "metadata": {
        "id": "ZI5e1Zvd0ybU",
        "colab_type": "code",
        "colab": {}
      },
      "source": [
        "#from google.colab import drive\n",
        "#drive.mount('/content/drive')"
      ],
      "execution_count": null,
      "outputs": []
    },
    {
      "cell_type": "markdown",
      "metadata": {
        "id": "hVttJDelgTUL",
        "colab_type": "text"
      },
      "source": [
        "# Light"
      ]
    },
    {
      "cell_type": "markdown",
      "metadata": {
        "id": "ycLtGdDz9qYj",
        "colab_type": "text"
      },
      "source": [
        "## 1-2"
      ]
    },
    {
      "cell_type": "code",
      "metadata": {
        "id": "1VwztGTn5h9z",
        "colab_type": "code",
        "colab": {}
      },
      "source": [
        "def prepare_data_mnist(n_train):\n",
        "  # Загрузка данных MNIST\n",
        "  (x_train_org, y_train_org), (x_test_org, y_test_org) = mnist.load_data()\n",
        "\n",
        "  # Изменение формата входных изображений с 28х28 на 784х1\n",
        "  x_train_org = x_train_org[:n_train]\n",
        "  y_train_org = y_train_org[:n_train]\n",
        "  x_train = x_train_org.reshape(n_train, 784)\n",
        "  x_test = x_test_org.reshape(10000, 784)\n",
        "\n",
        "  # print(x_train_org.shape)\n",
        "  # print(y_train_org.shape)\n",
        "  # print(x_test_org.shape)\n",
        "  # print(y_test_org.shape)\n",
        "\n",
        "  # Нормализация входных изображений\n",
        "  x_train = x_train.astype('float32')\n",
        "  x_train = x_train / 255\n",
        "  x_test = x_test.astype('float32')\n",
        "  x_test = x_test / 255\n",
        "\n",
        "  # Преобразование ответов в формат one_hot_encoding\n",
        "  y_train = utils.to_categorical(y_train_org, 10)\n",
        "  y_test = utils.to_categorical(y_test_org, 10)\n",
        "\n",
        "  return x_train, y_train, x_test, y_test\n"
      ],
      "execution_count": null,
      "outputs": []
    },
    {
      "cell_type": "code",
      "metadata": {
        "id": "oU-8Eb1p6ZGg",
        "colab_type": "code",
        "colab": {}
      },
      "source": [
        "def create_model_mnist():\n",
        "  # Создание НС\n",
        "  model = Sequential()\n",
        "  # Добавление слоев\n",
        "  model.add(Dense(800, input_dim=784, activation='relu'))\n",
        "  model.add(Dense(400, activation='relu'))\n",
        "  model.add(Dense(10, activation='softmax'))\n",
        "  # Компиляция НС\n",
        "  model.compile(loss='categorical_crossentropy', optimizer='adam', metrics=['accuracy'])\n",
        "\n",
        "  #print(model.summary())\n",
        "\n",
        "  return model"
      ],
      "execution_count": null,
      "outputs": []
    },
    {
      "cell_type": "code",
      "metadata": {
        "id": "dDVnfoSkeUna",
        "colab_type": "code",
        "colab": {
          "base_uri": "https://localhost:8080/",
          "height": 1000
        },
        "outputId": "83fb1e01-9329-4f8b-c8b9-43a8aa3f1c0e"
      },
      "source": [
        "n_train_arr = [60000, 50000, 10000, 1000, 500, 100]\n",
        "val_acc_arr = []\n",
        "acc_arr = []\n",
        "for n_train in n_train_arr:\n",
        "  print('*' * 30)\n",
        "  print(f'n_train={n_train}')\n",
        "  print('-' * 30)\n",
        "  x_train, y_train, x_test, y_test = prepare_data_mnist(n_train)\n",
        "  model = create_model_mnist()\n",
        "  history = model.fit(x_train, y_train, batch_size=128, epochs=15, verbose=1, validation_split=0.2)\n",
        "  acc_arr.append(history.history['accuracy'][-1])\n",
        "  val_acc_arr.append(history.history['val_accuracy'][-1])\n",
        "  print('*-' * 30)\n",
        "  print()\n",
        "\n",
        "print(f'acc_arr={acc_arr}')\n",
        "print(f'val_acc_arr={val_acc_arr}')\n",
        "\n"
      ],
      "execution_count": null,
      "outputs": [
        {
          "output_type": "stream",
          "text": [
            "******************************\n",
            "n_train=60000\n",
            "------------------------------\n",
            "Epoch 1/15\n",
            "375/375 [==============================] - 1s 4ms/step - loss: 0.2294 - accuracy: 0.9330 - val_loss: 0.1274 - val_accuracy: 0.9622\n",
            "Epoch 2/15\n",
            "375/375 [==============================] - 1s 3ms/step - loss: 0.0820 - accuracy: 0.9749 - val_loss: 0.0891 - val_accuracy: 0.9736\n",
            "Epoch 3/15\n",
            "375/375 [==============================] - 1s 3ms/step - loss: 0.0532 - accuracy: 0.9832 - val_loss: 0.0775 - val_accuracy: 0.9764\n",
            "Epoch 4/15\n",
            "375/375 [==============================] - 1s 3ms/step - loss: 0.0352 - accuracy: 0.9888 - val_loss: 0.0779 - val_accuracy: 0.9772\n",
            "Epoch 5/15\n",
            "375/375 [==============================] - 1s 3ms/step - loss: 0.0264 - accuracy: 0.9910 - val_loss: 0.0974 - val_accuracy: 0.9731\n",
            "Epoch 6/15\n",
            "375/375 [==============================] - 1s 3ms/step - loss: 0.0212 - accuracy: 0.9930 - val_loss: 0.0970 - val_accuracy: 0.9751\n",
            "Epoch 7/15\n",
            "375/375 [==============================] - 1s 3ms/step - loss: 0.0176 - accuracy: 0.9942 - val_loss: 0.0928 - val_accuracy: 0.9771\n",
            "Epoch 8/15\n",
            "375/375 [==============================] - 1s 3ms/step - loss: 0.0140 - accuracy: 0.9950 - val_loss: 0.1091 - val_accuracy: 0.9764\n",
            "Epoch 9/15\n",
            "375/375 [==============================] - 1s 3ms/step - loss: 0.0131 - accuracy: 0.9955 - val_loss: 0.0923 - val_accuracy: 0.9816\n",
            "Epoch 10/15\n",
            "375/375 [==============================] - 1s 3ms/step - loss: 0.0142 - accuracy: 0.9955 - val_loss: 0.0977 - val_accuracy: 0.9791\n",
            "Epoch 11/15\n",
            "375/375 [==============================] - 1s 3ms/step - loss: 0.0113 - accuracy: 0.9963 - val_loss: 0.0988 - val_accuracy: 0.9797\n",
            "Epoch 12/15\n",
            "375/375 [==============================] - 1s 3ms/step - loss: 0.0122 - accuracy: 0.9961 - val_loss: 0.1213 - val_accuracy: 0.9760\n",
            "Epoch 13/15\n",
            "375/375 [==============================] - 1s 3ms/step - loss: 0.0137 - accuracy: 0.9954 - val_loss: 0.1096 - val_accuracy: 0.9768\n",
            "Epoch 14/15\n",
            "375/375 [==============================] - 1s 3ms/step - loss: 0.0106 - accuracy: 0.9965 - val_loss: 0.1016 - val_accuracy: 0.9791\n",
            "Epoch 15/15\n",
            "375/375 [==============================] - 1s 3ms/step - loss: 0.0053 - accuracy: 0.9983 - val_loss: 0.1108 - val_accuracy: 0.9791\n",
            "*-*-*-*-*-*-*-*-*-*-*-*-*-*-*-*-*-*-*-*-*-*-*-*-*-*-*-*-*-*-\n",
            "\n",
            "******************************\n",
            "n_train=50000\n",
            "------------------------------\n",
            "Epoch 1/15\n",
            "313/313 [==============================] - 1s 4ms/step - loss: 0.2458 - accuracy: 0.9282 - val_loss: 0.1508 - val_accuracy: 0.9534\n",
            "Epoch 2/15\n",
            "313/313 [==============================] - 1s 4ms/step - loss: 0.0856 - accuracy: 0.9735 - val_loss: 0.1203 - val_accuracy: 0.9641\n",
            "Epoch 3/15\n",
            "313/313 [==============================] - 1s 4ms/step - loss: 0.0534 - accuracy: 0.9829 - val_loss: 0.1188 - val_accuracy: 0.9639\n",
            "Epoch 4/15\n",
            "313/313 [==============================] - 1s 4ms/step - loss: 0.0348 - accuracy: 0.9888 - val_loss: 0.1214 - val_accuracy: 0.9670\n",
            "Epoch 5/15\n",
            "313/313 [==============================] - 1s 4ms/step - loss: 0.0269 - accuracy: 0.9913 - val_loss: 0.1083 - val_accuracy: 0.9710\n",
            "Epoch 6/15\n",
            "313/313 [==============================] - 1s 4ms/step - loss: 0.0194 - accuracy: 0.9940 - val_loss: 0.1355 - val_accuracy: 0.9683\n",
            "Epoch 7/15\n",
            "313/313 [==============================] - 1s 4ms/step - loss: 0.0176 - accuracy: 0.9941 - val_loss: 0.1092 - val_accuracy: 0.9734\n",
            "Epoch 8/15\n",
            "313/313 [==============================] - 1s 4ms/step - loss: 0.0174 - accuracy: 0.9941 - val_loss: 0.1186 - val_accuracy: 0.9723\n",
            "Epoch 9/15\n",
            "313/313 [==============================] - 1s 4ms/step - loss: 0.0132 - accuracy: 0.9956 - val_loss: 0.2044 - val_accuracy: 0.9564\n",
            "Epoch 10/15\n",
            "313/313 [==============================] - 1s 4ms/step - loss: 0.0168 - accuracy: 0.9945 - val_loss: 0.1224 - val_accuracy: 0.9752\n",
            "Epoch 11/15\n",
            "313/313 [==============================] - 1s 4ms/step - loss: 0.0088 - accuracy: 0.9972 - val_loss: 0.1416 - val_accuracy: 0.9725\n",
            "Epoch 12/15\n",
            "313/313 [==============================] - 1s 4ms/step - loss: 0.0104 - accuracy: 0.9965 - val_loss: 0.1228 - val_accuracy: 0.9750\n",
            "Epoch 13/15\n",
            "313/313 [==============================] - 1s 4ms/step - loss: 0.0082 - accuracy: 0.9972 - val_loss: 0.1327 - val_accuracy: 0.9736\n",
            "Epoch 14/15\n",
            "313/313 [==============================] - 1s 4ms/step - loss: 0.0074 - accuracy: 0.9978 - val_loss: 0.1855 - val_accuracy: 0.9682\n",
            "Epoch 15/15\n",
            "313/313 [==============================] - 1s 4ms/step - loss: 0.0102 - accuracy: 0.9967 - val_loss: 0.1487 - val_accuracy: 0.9725\n",
            "*-*-*-*-*-*-*-*-*-*-*-*-*-*-*-*-*-*-*-*-*-*-*-*-*-*-*-*-*-*-\n",
            "\n",
            "******************************\n",
            "n_train=10000\n",
            "------------------------------\n",
            "Epoch 1/15\n",
            "63/63 [==============================] - 0s 5ms/step - loss: 0.5100 - accuracy: 0.8535 - val_loss: 0.2914 - val_accuracy: 0.9190\n",
            "Epoch 2/15\n",
            "63/63 [==============================] - 0s 4ms/step - loss: 0.1789 - accuracy: 0.9496 - val_loss: 0.2440 - val_accuracy: 0.9250\n",
            "Epoch 3/15\n",
            "63/63 [==============================] - 0s 4ms/step - loss: 0.1129 - accuracy: 0.9684 - val_loss: 0.2489 - val_accuracy: 0.9330\n",
            "Epoch 4/15\n",
            "63/63 [==============================] - 0s 4ms/step - loss: 0.0649 - accuracy: 0.9814 - val_loss: 0.2105 - val_accuracy: 0.9420\n",
            "Epoch 5/15\n",
            "63/63 [==============================] - 0s 4ms/step - loss: 0.0347 - accuracy: 0.9920 - val_loss: 0.2021 - val_accuracy: 0.9440\n",
            "Epoch 6/15\n",
            "63/63 [==============================] - 0s 4ms/step - loss: 0.0211 - accuracy: 0.9954 - val_loss: 0.2128 - val_accuracy: 0.9440\n",
            "Epoch 7/15\n",
            "63/63 [==============================] - 0s 4ms/step - loss: 0.0133 - accuracy: 0.9980 - val_loss: 0.2018 - val_accuracy: 0.9495\n",
            "Epoch 8/15\n",
            "63/63 [==============================] - 0s 4ms/step - loss: 0.0094 - accuracy: 0.9986 - val_loss: 0.2058 - val_accuracy: 0.9485\n",
            "Epoch 9/15\n",
            "63/63 [==============================] - 0s 4ms/step - loss: 0.0036 - accuracy: 1.0000 - val_loss: 0.1972 - val_accuracy: 0.9525\n",
            "Epoch 10/15\n",
            "63/63 [==============================] - 0s 4ms/step - loss: 0.0018 - accuracy: 1.0000 - val_loss: 0.1997 - val_accuracy: 0.9520\n",
            "Epoch 11/15\n",
            "63/63 [==============================] - 0s 4ms/step - loss: 0.0012 - accuracy: 1.0000 - val_loss: 0.2042 - val_accuracy: 0.9520\n",
            "Epoch 12/15\n",
            "63/63 [==============================] - 0s 4ms/step - loss: 9.3382e-04 - accuracy: 1.0000 - val_loss: 0.2095 - val_accuracy: 0.9510\n",
            "Epoch 13/15\n",
            "63/63 [==============================] - 0s 4ms/step - loss: 7.7275e-04 - accuracy: 1.0000 - val_loss: 0.2124 - val_accuracy: 0.9525\n",
            "Epoch 14/15\n",
            "63/63 [==============================] - 0s 4ms/step - loss: 6.5355e-04 - accuracy: 1.0000 - val_loss: 0.2142 - val_accuracy: 0.9530\n",
            "Epoch 15/15\n",
            "63/63 [==============================] - 0s 4ms/step - loss: 5.5715e-04 - accuracy: 1.0000 - val_loss: 0.2185 - val_accuracy: 0.9510\n",
            "*-*-*-*-*-*-*-*-*-*-*-*-*-*-*-*-*-*-*-*-*-*-*-*-*-*-*-*-*-*-\n",
            "\n",
            "******************************\n",
            "n_train=1000\n",
            "------------------------------\n",
            "Epoch 1/15\n",
            "7/7 [==============================] - 0s 21ms/step - loss: 1.5732 - accuracy: 0.5725 - val_loss: 0.7990 - val_accuracy: 0.7650\n",
            "Epoch 2/15\n",
            "7/7 [==============================] - 0s 5ms/step - loss: 0.5255 - accuracy: 0.8425 - val_loss: 0.5475 - val_accuracy: 0.8300\n",
            "Epoch 3/15\n",
            "7/7 [==============================] - 0s 5ms/step - loss: 0.3003 - accuracy: 0.8925 - val_loss: 0.4715 - val_accuracy: 0.8800\n",
            "Epoch 4/15\n",
            "7/7 [==============================] - 0s 5ms/step - loss: 0.1836 - accuracy: 0.9563 - val_loss: 0.5385 - val_accuracy: 0.8600\n",
            "Epoch 5/15\n",
            "7/7 [==============================] - 0s 5ms/step - loss: 0.1204 - accuracy: 0.9688 - val_loss: 0.4805 - val_accuracy: 0.8850\n",
            "Epoch 6/15\n",
            "7/7 [==============================] - 0s 5ms/step - loss: 0.0765 - accuracy: 0.9825 - val_loss: 0.5764 - val_accuracy: 0.8750\n",
            "Epoch 7/15\n",
            "7/7 [==============================] - 0s 6ms/step - loss: 0.0558 - accuracy: 0.9925 - val_loss: 0.5213 - val_accuracy: 0.8850\n",
            "Epoch 8/15\n",
            "7/7 [==============================] - 0s 5ms/step - loss: 0.0365 - accuracy: 0.9962 - val_loss: 0.5204 - val_accuracy: 0.8700\n",
            "Epoch 9/15\n",
            "7/7 [==============================] - 0s 5ms/step - loss: 0.0215 - accuracy: 0.9987 - val_loss: 0.5928 - val_accuracy: 0.8800\n",
            "Epoch 10/15\n",
            "7/7 [==============================] - 0s 5ms/step - loss: 0.0139 - accuracy: 1.0000 - val_loss: 0.5628 - val_accuracy: 0.8900\n",
            "Epoch 11/15\n",
            "7/7 [==============================] - 0s 5ms/step - loss: 0.0096 - accuracy: 1.0000 - val_loss: 0.5308 - val_accuracy: 0.8800\n",
            "Epoch 12/15\n",
            "7/7 [==============================] - 0s 5ms/step - loss: 0.0067 - accuracy: 1.0000 - val_loss: 0.5669 - val_accuracy: 0.8700\n",
            "Epoch 13/15\n",
            "7/7 [==============================] - 0s 5ms/step - loss: 0.0059 - accuracy: 1.0000 - val_loss: 0.5757 - val_accuracy: 0.8800\n",
            "Epoch 14/15\n",
            "7/7 [==============================] - 0s 5ms/step - loss: 0.0043 - accuracy: 1.0000 - val_loss: 0.5762 - val_accuracy: 0.8750\n",
            "Epoch 15/15\n",
            "7/7 [==============================] - 0s 5ms/step - loss: 0.0036 - accuracy: 1.0000 - val_loss: 0.5791 - val_accuracy: 0.8750\n",
            "*-*-*-*-*-*-*-*-*-*-*-*-*-*-*-*-*-*-*-*-*-*-*-*-*-*-*-*-*-*-\n",
            "\n",
            "******************************\n",
            "n_train=500\n",
            "------------------------------\n",
            "Epoch 1/15\n",
            "4/4 [==============================] - 0s 31ms/step - loss: 1.9532 - accuracy: 0.4325 - val_loss: 1.2116 - val_accuracy: 0.7700\n",
            "Epoch 2/15\n",
            "4/4 [==============================] - 0s 6ms/step - loss: 0.8672 - accuracy: 0.8625 - val_loss: 0.7290 - val_accuracy: 0.8000\n",
            "Epoch 3/15\n",
            "4/4 [==============================] - 0s 6ms/step - loss: 0.4088 - accuracy: 0.9000 - val_loss: 0.6535 - val_accuracy: 0.8400\n",
            "Epoch 4/15\n",
            "4/4 [==============================] - 0s 6ms/step - loss: 0.2805 - accuracy: 0.9350 - val_loss: 0.6107 - val_accuracy: 0.8500\n",
            "Epoch 5/15\n",
            "4/4 [==============================] - 0s 6ms/step - loss: 0.2104 - accuracy: 0.9300 - val_loss: 0.5914 - val_accuracy: 0.8200\n",
            "Epoch 6/15\n",
            "4/4 [==============================] - 0s 6ms/step - loss: 0.1182 - accuracy: 0.9725 - val_loss: 0.6821 - val_accuracy: 0.8400\n",
            "Epoch 7/15\n",
            "4/4 [==============================] - 0s 6ms/step - loss: 0.1037 - accuracy: 0.9650 - val_loss: 0.7006 - val_accuracy: 0.8300\n",
            "Epoch 8/15\n",
            "4/4 [==============================] - 0s 6ms/step - loss: 0.0761 - accuracy: 0.9800 - val_loss: 0.6681 - val_accuracy: 0.8300\n",
            "Epoch 9/15\n",
            "4/4 [==============================] - 0s 7ms/step - loss: 0.0350 - accuracy: 1.0000 - val_loss: 0.6372 - val_accuracy: 0.8600\n",
            "Epoch 10/15\n",
            "4/4 [==============================] - 0s 6ms/step - loss: 0.0369 - accuracy: 0.9975 - val_loss: 0.6249 - val_accuracy: 0.8500\n",
            "Epoch 11/15\n",
            "4/4 [==============================] - 0s 6ms/step - loss: 0.0156 - accuracy: 1.0000 - val_loss: 0.7246 - val_accuracy: 0.8300\n",
            "Epoch 12/15\n",
            "4/4 [==============================] - 0s 6ms/step - loss: 0.0189 - accuracy: 0.9975 - val_loss: 0.7154 - val_accuracy: 0.8600\n",
            "Epoch 13/15\n",
            "4/4 [==============================] - 0s 6ms/step - loss: 0.0087 - accuracy: 1.0000 - val_loss: 0.7120 - val_accuracy: 0.8300\n",
            "Epoch 14/15\n",
            "4/4 [==============================] - 0s 6ms/step - loss: 0.0079 - accuracy: 1.0000 - val_loss: 0.7220 - val_accuracy: 0.8300\n",
            "Epoch 15/15\n",
            "4/4 [==============================] - 0s 6ms/step - loss: 0.0066 - accuracy: 1.0000 - val_loss: 0.6975 - val_accuracy: 0.8400\n",
            "*-*-*-*-*-*-*-*-*-*-*-*-*-*-*-*-*-*-*-*-*-*-*-*-*-*-*-*-*-*-\n",
            "\n",
            "******************************\n",
            "n_train=100\n",
            "------------------------------\n",
            "Epoch 1/15\n",
            "1/1 [==============================] - 0s 124ms/step - loss: 2.3654 - accuracy: 0.0500 - val_loss: 1.8967 - val_accuracy: 0.4000\n",
            "Epoch 2/15\n",
            "1/1 [==============================] - 0s 21ms/step - loss: 1.7717 - accuracy: 0.6250 - val_loss: 1.5601 - val_accuracy: 0.6000\n",
            "Epoch 3/15\n",
            "1/1 [==============================] - 0s 16ms/step - loss: 1.3392 - accuracy: 0.7750 - val_loss: 1.2409 - val_accuracy: 0.7500\n",
            "Epoch 4/15\n",
            "1/1 [==============================] - 0s 16ms/step - loss: 0.9672 - accuracy: 0.8875 - val_loss: 0.9586 - val_accuracy: 0.8000\n",
            "Epoch 5/15\n",
            "1/1 [==============================] - 0s 16ms/step - loss: 0.6629 - accuracy: 0.9500 - val_loss: 0.7376 - val_accuracy: 0.8500\n",
            "Epoch 6/15\n",
            "1/1 [==============================] - 0s 16ms/step - loss: 0.4331 - accuracy: 0.9750 - val_loss: 0.5816 - val_accuracy: 0.8500\n",
            "Epoch 7/15\n",
            "1/1 [==============================] - 0s 16ms/step - loss: 0.2712 - accuracy: 0.9750 - val_loss: 0.4843 - val_accuracy: 0.8500\n",
            "Epoch 8/15\n",
            "1/1 [==============================] - 0s 18ms/step - loss: 0.1652 - accuracy: 1.0000 - val_loss: 0.4258 - val_accuracy: 0.8500\n",
            "Epoch 9/15\n",
            "1/1 [==============================] - 0s 16ms/step - loss: 0.0981 - accuracy: 1.0000 - val_loss: 0.3884 - val_accuracy: 0.8500\n",
            "Epoch 10/15\n",
            "1/1 [==============================] - 0s 16ms/step - loss: 0.0567 - accuracy: 1.0000 - val_loss: 0.3615 - val_accuracy: 0.9000\n",
            "Epoch 11/15\n",
            "1/1 [==============================] - 0s 16ms/step - loss: 0.0322 - accuracy: 1.0000 - val_loss: 0.3413 - val_accuracy: 0.9500\n",
            "Epoch 12/15\n",
            "1/1 [==============================] - 0s 16ms/step - loss: 0.0185 - accuracy: 1.0000 - val_loss: 0.3269 - val_accuracy: 0.9500\n",
            "Epoch 13/15\n",
            "1/1 [==============================] - 0s 15ms/step - loss: 0.0109 - accuracy: 1.0000 - val_loss: 0.3168 - val_accuracy: 0.9500\n",
            "Epoch 14/15\n",
            "1/1 [==============================] - 0s 16ms/step - loss: 0.0066 - accuracy: 1.0000 - val_loss: 0.3106 - val_accuracy: 0.9500\n",
            "Epoch 15/15\n",
            "1/1 [==============================] - 0s 16ms/step - loss: 0.0042 - accuracy: 1.0000 - val_loss: 0.3078 - val_accuracy: 0.9500\n",
            "*-*-*-*-*-*-*-*-*-*-*-*-*-*-*-*-*-*-*-*-*-*-*-*-*-*-*-*-*-*-\n",
            "\n",
            "acc_arr=[0.9983124732971191, 0.9967250227928162, 1.0, 1.0, 1.0, 1.0]\n",
            "val_acc_arr=[0.9790833592414856, 0.9725000262260437, 0.9509999752044678, 0.875, 0.8399999737739563, 0.949999988079071]\n"
          ],
          "name": "stdout"
        }
      ]
    },
    {
      "cell_type": "code",
      "metadata": {
        "id": "rmNyRUoTwc3z",
        "colab_type": "code",
        "colab": {
          "base_uri": "https://localhost:8080/",
          "height": 238
        },
        "outputId": "80c9dd14-7f5f-4fe8-fde7-0409c5996b18"
      },
      "source": [
        "# Сравнительная таблица\n",
        "df_dict = {'n_train': [60000, 50000, 10000, 1000, 500, 100],\n",
        "           'accuracy': acc_arr,\n",
        "           'val_accuracy': val_acc_arr}\n",
        "df = pd.DataFrame(df_dict)\n",
        "df"
      ],
      "execution_count": null,
      "outputs": [
        {
          "output_type": "execute_result",
          "data": {
            "text/html": [
              "<div>\n",
              "<style scoped>\n",
              "    .dataframe tbody tr th:only-of-type {\n",
              "        vertical-align: middle;\n",
              "    }\n",
              "\n",
              "    .dataframe tbody tr th {\n",
              "        vertical-align: top;\n",
              "    }\n",
              "\n",
              "    .dataframe thead th {\n",
              "        text-align: right;\n",
              "    }\n",
              "</style>\n",
              "<table border=\"1\" class=\"dataframe\">\n",
              "  <thead>\n",
              "    <tr style=\"text-align: right;\">\n",
              "      <th></th>\n",
              "      <th>n_train</th>\n",
              "      <th>accuracy</th>\n",
              "      <th>val_accuracy</th>\n",
              "    </tr>\n",
              "  </thead>\n",
              "  <tbody>\n",
              "    <tr>\n",
              "      <th>0</th>\n",
              "      <td>60000</td>\n",
              "      <td>0.998312</td>\n",
              "      <td>0.979083</td>\n",
              "    </tr>\n",
              "    <tr>\n",
              "      <th>1</th>\n",
              "      <td>50000</td>\n",
              "      <td>0.996725</td>\n",
              "      <td>0.972500</td>\n",
              "    </tr>\n",
              "    <tr>\n",
              "      <th>2</th>\n",
              "      <td>10000</td>\n",
              "      <td>1.000000</td>\n",
              "      <td>0.951000</td>\n",
              "    </tr>\n",
              "    <tr>\n",
              "      <th>3</th>\n",
              "      <td>1000</td>\n",
              "      <td>1.000000</td>\n",
              "      <td>0.875000</td>\n",
              "    </tr>\n",
              "    <tr>\n",
              "      <th>4</th>\n",
              "      <td>500</td>\n",
              "      <td>1.000000</td>\n",
              "      <td>0.840000</td>\n",
              "    </tr>\n",
              "    <tr>\n",
              "      <th>5</th>\n",
              "      <td>100</td>\n",
              "      <td>1.000000</td>\n",
              "      <td>0.950000</td>\n",
              "    </tr>\n",
              "  </tbody>\n",
              "</table>\n",
              "</div>"
            ],
            "text/plain": [
              "   n_train  accuracy  val_accuracy\n",
              "0    60000  0.998312      0.979083\n",
              "1    50000  0.996725      0.972500\n",
              "2    10000  1.000000      0.951000\n",
              "3     1000  1.000000      0.875000\n",
              "4      500  1.000000      0.840000\n",
              "5      100  1.000000      0.950000"
            ]
          },
          "metadata": {
            "tags": []
          },
          "execution_count": 46
        }
      ]
    },
    {
      "cell_type": "markdown",
      "metadata": {
        "id": "xZaa-62Rxb4v",
        "colab_type": "text"
      },
      "source": [
        "При уменьшении размеров выборок обучающих примеров val_accuracy уменьшается, но при n_train = 100 показывает высокую точность."
      ]
    },
    {
      "cell_type": "markdown",
      "metadata": {
        "id": "6MUsWXOExKVy",
        "colab_type": "text"
      },
      "source": [
        "## 3"
      ]
    },
    {
      "cell_type": "markdown",
      "metadata": {
        "id": "oeEQfsdU-4Vz",
        "colab_type": "text"
      },
      "source": [
        "### 4 Dense слоя"
      ]
    },
    {
      "cell_type": "code",
      "metadata": {
        "id": "fTZsqMXjy2W6",
        "colab_type": "code",
        "colab": {
          "base_uri": "https://localhost:8080/",
          "height": 1000
        },
        "outputId": "dc232c01-7eda-43ea-cb9a-960632ecfa2b"
      },
      "source": [
        "# 4 Dense слоя\n",
        "def create_model_mnist_4_dense():\n",
        "  # Создание НС\n",
        "  model = Sequential()\n",
        "  # Добавление слоев\n",
        "\n",
        "  model.add(Dense(800, input_dim=784, activation='relu'))\n",
        "  model.add(Dense(400, activation='relu'))\n",
        "  model.add(Dense(100, activation='relu'))\n",
        "  model.add(Dense(10, activation='softmax'))\n",
        "  # Компиляция НС\n",
        "  model.compile(loss='categorical_crossentropy', optimizer='adam', metrics=['accuracy'])\n",
        "\n",
        "  print(model.summary())\n",
        "\n",
        "  return model\n",
        "\n",
        "n_train = 60000\n",
        "x_train, y_train, x_test, y_test = prepare_data_mnist(n_train)\n",
        "model = create_model_mnist_4_dense()\n",
        "history = model.fit(x_train, y_train, batch_size=128, epochs=15, verbose=1, validation_split=0.2)\n",
        "\n",
        "# График точности\n",
        "plt.plot(history.history['accuracy'], \n",
        "         label='Доля верных ответов на обучающем наборе')\n",
        "plt.plot(history.history['val_accuracy'], \n",
        "         label='Доля верных ответов на проверочном наборе')\n",
        "plt.xlabel('Эпоха обучения')\n",
        "plt.ylabel('Доля верных ответов')\n",
        "plt.legend()\n",
        "plt.show()\n",
        "\n",
        "# График ошибки\n",
        "plt.plot(history.history['loss'], \n",
        "         label='Ошибка на обучающем наборе')\n",
        "plt.plot(history.history['val_loss'], \n",
        "         label='Ошибка на проверочном наборе')\n",
        "plt.xlabel('Эпоха обучения')\n",
        "plt.ylabel('Ошибка')\n",
        "plt.legend()\n",
        "plt.show()"
      ],
      "execution_count": null,
      "outputs": [
        {
          "output_type": "stream",
          "text": [
            "Model: \"sequential_24\"\n",
            "_________________________________________________________________\n",
            "Layer (type)                 Output Shape              Param #   \n",
            "=================================================================\n",
            "dense_71 (Dense)             (None, 800)               628000    \n",
            "_________________________________________________________________\n",
            "dense_72 (Dense)             (None, 400)               320400    \n",
            "_________________________________________________________________\n",
            "dense_73 (Dense)             (None, 100)               40100     \n",
            "_________________________________________________________________\n",
            "dense_74 (Dense)             (None, 10)                1010      \n",
            "=================================================================\n",
            "Total params: 989,510\n",
            "Trainable params: 989,510\n",
            "Non-trainable params: 0\n",
            "_________________________________________________________________\n",
            "None\n",
            "Epoch 1/15\n",
            "375/375 [==============================] - 1s 4ms/step - loss: 0.2339 - accuracy: 0.9310 - val_loss: 0.1206 - val_accuracy: 0.9638\n",
            "Epoch 2/15\n",
            "375/375 [==============================] - 1s 4ms/step - loss: 0.0871 - accuracy: 0.9737 - val_loss: 0.0964 - val_accuracy: 0.9705\n",
            "Epoch 3/15\n",
            "375/375 [==============================] - 1s 4ms/step - loss: 0.0564 - accuracy: 0.9821 - val_loss: 0.0937 - val_accuracy: 0.9732\n",
            "Epoch 4/15\n",
            "375/375 [==============================] - 1s 3ms/step - loss: 0.0399 - accuracy: 0.9871 - val_loss: 0.0857 - val_accuracy: 0.9762\n",
            "Epoch 5/15\n",
            "375/375 [==============================] - 1s 3ms/step - loss: 0.0301 - accuracy: 0.9901 - val_loss: 0.0876 - val_accuracy: 0.9747\n",
            "Epoch 6/15\n",
            "375/375 [==============================] - 1s 3ms/step - loss: 0.0235 - accuracy: 0.9923 - val_loss: 0.0935 - val_accuracy: 0.9776\n",
            "Epoch 7/15\n",
            "375/375 [==============================] - 1s 3ms/step - loss: 0.0244 - accuracy: 0.9920 - val_loss: 0.0904 - val_accuracy: 0.9774\n",
            "Epoch 8/15\n",
            "375/375 [==============================] - 1s 3ms/step - loss: 0.0201 - accuracy: 0.9929 - val_loss: 0.1055 - val_accuracy: 0.9762\n",
            "Epoch 9/15\n",
            "375/375 [==============================] - 1s 3ms/step - loss: 0.0178 - accuracy: 0.9941 - val_loss: 0.1241 - val_accuracy: 0.9721\n",
            "Epoch 10/15\n",
            "375/375 [==============================] - 1s 4ms/step - loss: 0.0136 - accuracy: 0.9954 - val_loss: 0.1204 - val_accuracy: 0.9747\n",
            "Epoch 11/15\n",
            "375/375 [==============================] - 1s 3ms/step - loss: 0.0164 - accuracy: 0.9947 - val_loss: 0.1049 - val_accuracy: 0.9775\n",
            "Epoch 12/15\n",
            "375/375 [==============================] - 1s 3ms/step - loss: 0.0107 - accuracy: 0.9965 - val_loss: 0.1127 - val_accuracy: 0.9771\n",
            "Epoch 13/15\n",
            "375/375 [==============================] - 1s 4ms/step - loss: 0.0176 - accuracy: 0.9942 - val_loss: 0.1077 - val_accuracy: 0.9770\n",
            "Epoch 14/15\n",
            "375/375 [==============================] - 1s 4ms/step - loss: 0.0075 - accuracy: 0.9976 - val_loss: 0.1100 - val_accuracy: 0.9784\n",
            "Epoch 15/15\n",
            "375/375 [==============================] - 1s 4ms/step - loss: 0.0122 - accuracy: 0.9961 - val_loss: 0.1211 - val_accuracy: 0.9786\n"
          ],
          "name": "stdout"
        },
        {
          "output_type": "display_data",
          "data": {
            "image/png": "[encoded data removed]",
            "text/plain": [
              "<Figure size 432x288 with 1 Axes>"
            ]
          },
          "metadata": {
            "tags": [],
            "needs_background": "light"
          }
        },
        {
          "output_type": "display_data",
          "data": {
            "image/png": "[encoded data removed]",
            "text/plain": [
              "<Figure size 432x288 with 1 Axes>"
            ]
          },
          "metadata": {
            "tags": [],
            "needs_background": "light"
          }
        }
      ]
    },
    {
      "cell_type": "markdown",
      "metadata": {
        "id": "wYZfTAXk_AAz",
        "colab_type": "text"
      },
      "source": [
        "### 3 Dropout слоя"
      ]
    },
    {
      "cell_type": "code",
      "metadata": {
        "id": "_pKKPnHWsxYK",
        "colab_type": "code",
        "colab": {
          "base_uri": "https://localhost:8080/",
          "height": 1000
        },
        "outputId": "948383b8-1dae-4219-aa29-b20313b42f60"
      },
      "source": [
        "# 3 Dropout слоя\n",
        "def create_model_mnist_3_dropout():\n",
        "  # Создание НС\n",
        "  model = Sequential()\n",
        "  # Добавление слоев\n",
        "  model.add(Dropout(0.3, input_shape=(784, )))\n",
        "  model.add(Dense(800, activation='relu'))\n",
        "  model.add(Dropout(0.3))\n",
        "  model.add(Dense(400, activation='relu'))\n",
        "  model.add(Dropout(0.3))\n",
        "  model.add(Dense(10, activation='softmax'))\n",
        "  # Компиляция НС\n",
        "  model.compile(loss='categorical_crossentropy', optimizer='adam', metrics=['accuracy'])\n",
        "\n",
        "  print(model.summary())\n",
        "\n",
        "  return model\n",
        "\n",
        "n_train = 60000\n",
        "x_train, y_train, x_test, y_test = prepare_data_mnist(n_train)\n",
        "model = create_model_mnist_3_dropout()\n",
        "history = model.fit(x_train, y_train, batch_size=128, epochs=15, verbose=1, validation_split=0.2)\n",
        "\n",
        "# График точности\n",
        "plt.plot(history.history['accuracy'], \n",
        "         label='Доля верных ответов на обучающем наборе')\n",
        "plt.plot(history.history['val_accuracy'], \n",
        "         label='Доля верных ответов на проверочном наборе')\n",
        "plt.xlabel('Эпоха обучения')\n",
        "plt.ylabel('Доля верных ответов')\n",
        "plt.legend()\n",
        "plt.show()\n",
        "\n",
        "# График ошибки\n",
        "plt.plot(history.history['loss'], \n",
        "         label='Ошибка на обучающем наборе')\n",
        "plt.plot(history.history['val_loss'], \n",
        "         label='Ошибка на проверочном наборе')\n",
        "plt.xlabel('Эпоха обучения')\n",
        "plt.ylabel('Ошибка')\n",
        "plt.legend()\n",
        "plt.show()"
      ],
      "execution_count": null,
      "outputs": [
        {
          "output_type": "stream",
          "text": [
            "Model: \"sequential_26\"\n",
            "_________________________________________________________________\n",
            "Layer (type)                 Output Shape              Param #   \n",
            "=================================================================\n",
            "dropout (Dropout)            (None, 784)               0         \n",
            "_________________________________________________________________\n",
            "dense_75 (Dense)             (None, 800)               628000    \n",
            "_________________________________________________________________\n",
            "dropout_1 (Dropout)          (None, 800)               0         \n",
            "_________________________________________________________________\n",
            "dense_76 (Dense)             (None, 400)               320400    \n",
            "_________________________________________________________________\n",
            "dropout_2 (Dropout)          (None, 400)               0         \n",
            "_________________________________________________________________\n",
            "dense_77 (Dense)             (None, 10)                4010      \n",
            "=================================================================\n",
            "Total params: 952,410\n",
            "Trainable params: 952,410\n",
            "Non-trainable params: 0\n",
            "_________________________________________________________________\n",
            "None\n",
            "Epoch 1/15\n",
            "375/375 [==============================] - 1s 4ms/step - loss: 0.3758 - accuracy: 0.8846 - val_loss: 0.1306 - val_accuracy: 0.9633\n",
            "Epoch 2/15\n",
            "375/375 [==============================] - 1s 3ms/step - loss: 0.1771 - accuracy: 0.9449 - val_loss: 0.1083 - val_accuracy: 0.9670\n",
            "Epoch 3/15\n",
            "375/375 [==============================] - 1s 3ms/step - loss: 0.1399 - accuracy: 0.9559 - val_loss: 0.0864 - val_accuracy: 0.9745\n",
            "Epoch 4/15\n",
            "375/375 [==============================] - 1s 3ms/step - loss: 0.1165 - accuracy: 0.9628 - val_loss: 0.0840 - val_accuracy: 0.9728\n",
            "Epoch 5/15\n",
            "375/375 [==============================] - 1s 3ms/step - loss: 0.1033 - accuracy: 0.9662 - val_loss: 0.0724 - val_accuracy: 0.9772\n",
            "Epoch 6/15\n",
            "375/375 [==============================] - 1s 3ms/step - loss: 0.0918 - accuracy: 0.9712 - val_loss: 0.0706 - val_accuracy: 0.9781\n",
            "Epoch 7/15\n",
            "375/375 [==============================] - 1s 3ms/step - loss: 0.0867 - accuracy: 0.9729 - val_loss: 0.0759 - val_accuracy: 0.9772\n",
            "Epoch 8/15\n",
            "375/375 [==============================] - 1s 3ms/step - loss: 0.0797 - accuracy: 0.9737 - val_loss: 0.0673 - val_accuracy: 0.9808\n",
            "Epoch 9/15\n",
            "375/375 [==============================] - 1s 3ms/step - loss: 0.0747 - accuracy: 0.9756 - val_loss: 0.0692 - val_accuracy: 0.9806\n",
            "Epoch 10/15\n",
            "375/375 [==============================] - 1s 3ms/step - loss: 0.0717 - accuracy: 0.9765 - val_loss: 0.0698 - val_accuracy: 0.9793\n",
            "Epoch 11/15\n",
            "375/375 [==============================] - 1s 3ms/step - loss: 0.0682 - accuracy: 0.9780 - val_loss: 0.0693 - val_accuracy: 0.9803\n",
            "Epoch 12/15\n",
            "375/375 [==============================] - 1s 3ms/step - loss: 0.0640 - accuracy: 0.9797 - val_loss: 0.0681 - val_accuracy: 0.9805\n",
            "Epoch 13/15\n",
            "375/375 [==============================] - 1s 3ms/step - loss: 0.0593 - accuracy: 0.9803 - val_loss: 0.0739 - val_accuracy: 0.9806\n",
            "Epoch 14/15\n",
            "375/375 [==============================] - 1s 3ms/step - loss: 0.0558 - accuracy: 0.9816 - val_loss: 0.0707 - val_accuracy: 0.9810\n",
            "Epoch 15/15\n",
            "375/375 [==============================] - 1s 3ms/step - loss: 0.0564 - accuracy: 0.9821 - val_loss: 0.0639 - val_accuracy: 0.9816\n"
          ],
          "name": "stdout"
        },
        {
          "output_type": "display_data",
          "data": {
            "image/png": "[encoded data removed]",
            "text/plain": [
              "<Figure size 432x288 with 1 Axes>"
            ]
          },
          "metadata": {
            "tags": [],
            "needs_background": "light"
          }
        },
        {
          "output_type": "display_data",
          "data": {
            "image/png": "[encoded data removed]",
            "text/plain": [
              "<Figure size 432x288 with 1 Axes>"
            ]
          },
          "metadata": {
            "tags": [],
            "needs_background": "light"
          }
        }
      ]
    },
    {
      "cell_type": "markdown",
      "metadata": {
        "id": "HcLENl3i_F1q",
        "colab_type": "text"
      },
      "source": [
        "### 3 BatchNormalization слоя"
      ]
    },
    {
      "cell_type": "code",
      "metadata": {
        "id": "Dv2NOAIJsxd6",
        "colab_type": "code",
        "colab": {
          "base_uri": "https://localhost:8080/",
          "height": 1000
        },
        "outputId": "e6e1b871-eb1e-4a00-87b6-a4aa5678e58d"
      },
      "source": [
        "# 3 BatchNormalization слоя\n",
        "def create_model_mnist_3_batchnorm():\n",
        "  # Создание НС\n",
        "  model = Sequential()\n",
        "  # Добавление слоев\n",
        "  model.add(BatchNormalization(input_shape=(784, )))\n",
        "  model.add(Dense(800, activation='relu'))\n",
        "  model.add(BatchNormalization())\n",
        "  model.add(Dense(400, activation='relu'))\n",
        "  model.add(BatchNormalization())\n",
        "  model.add(Dense(10, activation='softmax'))\n",
        "  # Компиляция НС\n",
        "  model.compile(loss='categorical_crossentropy', optimizer='adam', metrics=['accuracy'])\n",
        "\n",
        "  print(model.summary())\n",
        "\n",
        "  return model\n",
        "\n",
        "n_train = 60000\n",
        "x_train, y_train, x_test, y_test = prepare_data_mnist(n_train)\n",
        "model = create_model_mnist_3_batchnorm()\n",
        "history = model.fit(x_train, y_train, batch_size=128, epochs=15, verbose=1, validation_split=0.2)\n",
        "\n",
        "# График точности\n",
        "plt.plot(history.history['accuracy'], \n",
        "         label='Доля верных ответов на обучающем наборе')\n",
        "plt.plot(history.history['val_accuracy'], \n",
        "         label='Доля верных ответов на проверочном наборе')\n",
        "plt.xlabel('Эпоха обучения')\n",
        "plt.ylabel('Доля верных ответов')\n",
        "plt.legend()\n",
        "plt.show()\n",
        "\n",
        "# График ошибки\n",
        "plt.plot(history.history['loss'], \n",
        "         label='Ошибка на обучающем наборе')\n",
        "plt.plot(history.history['val_loss'], \n",
        "         label='Ошибка на проверочном наборе')\n",
        "plt.xlabel('Эпоха обучения')\n",
        "plt.ylabel('Ошибка')\n",
        "plt.legend()\n",
        "plt.show()"
      ],
      "execution_count": null,
      "outputs": [
        {
          "output_type": "stream",
          "text": [
            "Model: \"sequential_28\"\n",
            "_________________________________________________________________\n",
            "Layer (type)                 Output Shape              Param #   \n",
            "=================================================================\n",
            "batch_normalization (BatchNo (None, 784)               3136      \n",
            "_________________________________________________________________\n",
            "dense_78 (Dense)             (None, 800)               628000    \n",
            "_________________________________________________________________\n",
            "batch_normalization_1 (Batch (None, 800)               3200      \n",
            "_________________________________________________________________\n",
            "dense_79 (Dense)             (None, 400)               320400    \n",
            "_________________________________________________________________\n",
            "batch_normalization_2 (Batch (None, 400)               1600      \n",
            "_________________________________________________________________\n",
            "dense_80 (Dense)             (None, 10)                4010      \n",
            "=================================================================\n",
            "Total params: 960,346\n",
            "Trainable params: 956,378\n",
            "Non-trainable params: 3,968\n",
            "_________________________________________________________________\n",
            "None\n",
            "Epoch 1/15\n",
            "375/375 [==============================] - 2s 5ms/step - loss: 0.1975 - accuracy: 0.9407 - val_loss: 0.1093 - val_accuracy: 0.9657\n",
            "Epoch 2/15\n",
            "375/375 [==============================] - 1s 4ms/step - loss: 0.0686 - accuracy: 0.9786 - val_loss: 0.0959 - val_accuracy: 0.9719\n",
            "Epoch 3/15\n",
            "375/375 [==============================] - 1s 4ms/step - loss: 0.0446 - accuracy: 0.9863 - val_loss: 0.0899 - val_accuracy: 0.9733\n",
            "Epoch 4/15\n",
            "375/375 [==============================] - 1s 4ms/step - loss: 0.0298 - accuracy: 0.9905 - val_loss: 0.1001 - val_accuracy: 0.9737\n",
            "Epoch 5/15\n",
            "375/375 [==============================] - 1s 4ms/step - loss: 0.0256 - accuracy: 0.9918 - val_loss: 0.1011 - val_accuracy: 0.9741\n",
            "Epoch 6/15\n",
            "375/375 [==============================] - 1s 4ms/step - loss: 0.0238 - accuracy: 0.9920 - val_loss: 0.0913 - val_accuracy: 0.9774\n",
            "Epoch 7/15\n",
            "375/375 [==============================] - 2s 4ms/step - loss: 0.0145 - accuracy: 0.9953 - val_loss: 0.1029 - val_accuracy: 0.9762\n",
            "Epoch 8/15\n",
            "375/375 [==============================] - 1s 4ms/step - loss: 0.0186 - accuracy: 0.9940 - val_loss: 0.0930 - val_accuracy: 0.9762\n",
            "Epoch 9/15\n",
            "375/375 [==============================] - 1s 4ms/step - loss: 0.0162 - accuracy: 0.9943 - val_loss: 0.0953 - val_accuracy: 0.9772\n",
            "Epoch 10/15\n",
            "375/375 [==============================] - 1s 4ms/step - loss: 0.0115 - accuracy: 0.9964 - val_loss: 0.0996 - val_accuracy: 0.9772\n",
            "Epoch 11/15\n",
            "375/375 [==============================] - 1s 4ms/step - loss: 0.0134 - accuracy: 0.9959 - val_loss: 0.0925 - val_accuracy: 0.9782\n",
            "Epoch 12/15\n",
            "375/375 [==============================] - 1s 4ms/step - loss: 0.0123 - accuracy: 0.9958 - val_loss: 0.1083 - val_accuracy: 0.9755\n",
            "Epoch 13/15\n",
            "375/375 [==============================] - 1s 4ms/step - loss: 0.0117 - accuracy: 0.9962 - val_loss: 0.1027 - val_accuracy: 0.9753\n",
            "Epoch 14/15\n",
            "375/375 [==============================] - 1s 4ms/step - loss: 0.0103 - accuracy: 0.9967 - val_loss: 0.1061 - val_accuracy: 0.9760\n",
            "Epoch 15/15\n",
            "375/375 [==============================] - 1s 4ms/step - loss: 0.0093 - accuracy: 0.9970 - val_loss: 0.1021 - val_accuracy: 0.9770\n"
          ],
          "name": "stdout"
        },
        {
          "output_type": "display_data",
          "data": {
            "image/png": "[encoded data removed]",
            "text/plain": [
              "<Figure size 432x288 with 1 Axes>"
            ]
          },
          "metadata": {
            "tags": [],
            "needs_background": "light"
          }
        },
        {
          "output_type": "display_data",
          "data": {
            "image/png": "[encoded data removed]",
            "text/plain": [
              "<Figure size 432x288 with 1 Axes>"
            ]
          },
          "metadata": {
            "tags": [],
            "needs_background": "light"
          }
        }
      ]
    },
    {
      "cell_type": "markdown",
      "metadata": {
        "id": "_wSFNm9IAeKf",
        "colab_type": "text"
      },
      "source": [
        "\n",
        "При Dropout и BatchNormalization ошибке ниже, чем при 4 слоях  Dense. Точность при использовании Dropout выше, чем остальных. Точность при 4 слоях Dense и BatchNormalization примерно одинаковы."
      ]
    },
    {
      "cell_type": "markdown",
      "metadata": {
        "id": "GeBTdvfnBRZV",
        "colab_type": "text"
      },
      "source": [
        "### Все слои вместе"
      ]
    },
    {
      "cell_type": "code",
      "metadata": {
        "id": "Eqvv6oSTBQkl",
        "colab_type": "code",
        "colab": {
          "base_uri": "https://localhost:8080/",
          "height": 1000
        },
        "outputId": "801c38f2-5308-4798-93c4-9c897117a3f7"
      },
      "source": [
        "# 4 Dense слоя\n",
        "def create_model_mnist_all_layers():\n",
        "  # Создание НС\n",
        "  model = Sequential()\n",
        "  # Добавление слоев\n",
        "  model.add(Dropout(0.3, input_shape=(784, )))\n",
        "  model.add(BatchNormalization())\n",
        "  model.add(Dense(800, activation='relu'))\n",
        "  model.add(Dropout(0.3))\n",
        "  model.add(BatchNormalization())\n",
        "  model.add(Dense(400, activation='relu'))\n",
        "  model.add(Dropout(0.3))\n",
        "  model.add(BatchNormalization())\n",
        "  model.add(Dense(100, activation='relu'))\n",
        "  model.add(Dense(10, activation='softmax'))\n",
        "  # Компиляция НС\n",
        "  model.compile(loss='categorical_crossentropy', optimizer='adam', metrics=['accuracy'])\n",
        "\n",
        "  print(model.summary())\n",
        "\n",
        "  return model\n",
        "\n",
        "n_train = 60000\n",
        "x_train, y_train, x_test, y_test = prepare_data_mnist(n_train)\n",
        "model = create_model_mnist_all_layers()\n",
        "history = model.fit(x_train, y_train, batch_size=128, epochs=15, verbose=1, validation_split=0.2)\n",
        "\n",
        "# График точности\n",
        "plt.plot(history.history['accuracy'], \n",
        "         label='Доля верных ответов на обучающем наборе')\n",
        "plt.plot(history.history['val_accuracy'], \n",
        "         label='Доля верных ответов на проверочном наборе')\n",
        "plt.xlabel('Эпоха обучения')\n",
        "plt.ylabel('Доля верных ответов')\n",
        "plt.legend()\n",
        "plt.show()\n",
        "\n",
        "# График ошибки\n",
        "plt.plot(history.history['loss'], \n",
        "         label='Ошибка на обучающем наборе')\n",
        "plt.plot(history.history['val_loss'], \n",
        "         label='Ошибка на проверочном наборе')\n",
        "plt.xlabel('Эпоха обучения')\n",
        "plt.ylabel('Ошибка')\n",
        "plt.legend()\n",
        "plt.show()"
      ],
      "execution_count": null,
      "outputs": [
        {
          "output_type": "stream",
          "text": [
            "Model: \"sequential_29\"\n",
            "_________________________________________________________________\n",
            "Layer (type)                 Output Shape              Param #   \n",
            "=================================================================\n",
            "dropout_3 (Dropout)          (None, 784)               0         \n",
            "_________________________________________________________________\n",
            "batch_normalization_3 (Batch (None, 784)               3136      \n",
            "_________________________________________________________________\n",
            "dense_81 (Dense)             (None, 800)               628000    \n",
            "_________________________________________________________________\n",
            "dropout_4 (Dropout)          (None, 800)               0         \n",
            "_________________________________________________________________\n",
            "batch_normalization_4 (Batch (None, 800)               3200      \n",
            "_________________________________________________________________\n",
            "dense_82 (Dense)             (None, 400)               320400    \n",
            "_________________________________________________________________\n",
            "dropout_5 (Dropout)          (None, 400)               0         \n",
            "_________________________________________________________________\n",
            "batch_normalization_5 (Batch (None, 400)               1600      \n",
            "_________________________________________________________________\n",
            "dense_83 (Dense)             (None, 100)               40100     \n",
            "_________________________________________________________________\n",
            "dense_84 (Dense)             (None, 10)                1010      \n",
            "=================================================================\n",
            "Total params: 997,446\n",
            "Trainable params: 993,478\n",
            "Non-trainable params: 3,968\n",
            "_________________________________________________________________\n",
            "None\n",
            "Epoch 1/15\n",
            "375/375 [==============================] - 2s 5ms/step - loss: 0.3945 - accuracy: 0.8747 - val_loss: 0.1281 - val_accuracy: 0.9599\n",
            "Epoch 2/15\n",
            "375/375 [==============================] - 1s 4ms/step - loss: 0.2045 - accuracy: 0.9343 - val_loss: 0.1185 - val_accuracy: 0.9645\n",
            "Epoch 3/15\n",
            "375/375 [==============================] - 1s 4ms/step - loss: 0.1670 - accuracy: 0.9467 - val_loss: 0.0912 - val_accuracy: 0.9710\n",
            "Epoch 4/15\n",
            "375/375 [==============================] - 1s 4ms/step - loss: 0.1411 - accuracy: 0.9541 - val_loss: 0.0901 - val_accuracy: 0.9727\n",
            "Epoch 5/15\n",
            "375/375 [==============================] - 1s 4ms/step - loss: 0.1236 - accuracy: 0.9603 - val_loss: 0.0844 - val_accuracy: 0.9742\n",
            "Epoch 6/15\n",
            "375/375 [==============================] - 1s 4ms/step - loss: 0.1127 - accuracy: 0.9631 - val_loss: 0.0771 - val_accuracy: 0.9770\n",
            "Epoch 7/15\n",
            "375/375 [==============================] - 1s 4ms/step - loss: 0.1006 - accuracy: 0.9671 - val_loss: 0.0803 - val_accuracy: 0.9764\n",
            "Epoch 8/15\n",
            "375/375 [==============================] - 2s 4ms/step - loss: 0.0977 - accuracy: 0.9681 - val_loss: 0.0821 - val_accuracy: 0.9753\n",
            "Epoch 9/15\n",
            "375/375 [==============================] - 2s 4ms/step - loss: 0.0884 - accuracy: 0.9702 - val_loss: 0.0704 - val_accuracy: 0.9787\n",
            "Epoch 10/15\n",
            "375/375 [==============================] - 2s 4ms/step - loss: 0.0862 - accuracy: 0.9720 - val_loss: 0.0669 - val_accuracy: 0.9802\n",
            "Epoch 11/15\n",
            "375/375 [==============================] - 2s 4ms/step - loss: 0.0823 - accuracy: 0.9729 - val_loss: 0.0667 - val_accuracy: 0.9817\n",
            "Epoch 12/15\n",
            "375/375 [==============================] - 1s 4ms/step - loss: 0.0803 - accuracy: 0.9741 - val_loss: 0.0707 - val_accuracy: 0.9791\n",
            "Epoch 13/15\n",
            "375/375 [==============================] - 2s 4ms/step - loss: 0.0730 - accuracy: 0.9758 - val_loss: 0.0704 - val_accuracy: 0.9795\n",
            "Epoch 14/15\n",
            "375/375 [==============================] - 1s 4ms/step - loss: 0.0712 - accuracy: 0.9770 - val_loss: 0.0691 - val_accuracy: 0.9808\n",
            "Epoch 15/15\n",
            "375/375 [==============================] - 1s 4ms/step - loss: 0.0681 - accuracy: 0.9773 - val_loss: 0.0637 - val_accuracy: 0.9833\n"
          ],
          "name": "stdout"
        },
        {
          "output_type": "display_data",
          "data": {
            "image/png": "[encoded data removed]",
            "text/plain": [
              "<Figure size 432x288 with 1 Axes>"
            ]
          },
          "metadata": {
            "tags": [],
            "needs_background": "light"
          }
        },
        {
          "output_type": "display_data",
          "data": {
            "image/png": "[encoded data removed]",
            "text/plain": [
              "<Figure size 432x288 with 1 Axes>"
            ]
          },
          "metadata": {
            "tags": [],
            "needs_background": "light"
          }
        }
      ]
    },
    {
      "cell_type": "markdown",
      "metadata": {
        "id": "fd9GBphTB94Q",
        "colab_type": "text"
      },
      "source": [
        "При использовании Dropout, BatchNormalization + дополнительный слой Dense - высокая точность, уменьшение ошибки"
      ]
    },
    {
      "cell_type": "markdown",
      "metadata": {
        "id": "1Bo8nmkFoXxq",
        "colab_type": "text"
      },
      "source": [
        "# Pro"
      ]
    },
    {
      "cell_type": "markdown",
      "metadata": {
        "id": "r5LosJa-Cl65",
        "colab_type": "text"
      },
      "source": [
        "## 1 Вариант"
      ]
    },
    {
      "cell_type": "markdown",
      "metadata": {
        "id": "jCcWN2JfEFEI",
        "colab_type": "text"
      },
      "source": [
        "### Подготовка данных"
      ]
    },
    {
      "cell_type": "code",
      "metadata": {
        "id": "vD7_JuLACtbO",
        "colab_type": "code",
        "colab": {
          "base_uri": "https://localhost:8080/",
          "height": 226
        },
        "outputId": "0e5726b0-2238-4abc-fd35-e2e795ca42e2"
      },
      "source": [
        "# Загрузка данных из sonar.csv\n",
        "df = pd.read_csv(\"/content/drive/My Drive/sonar.csv\", header=None)   \n",
        "df.head()   "
      ],
      "execution_count": null,
      "outputs": [
        {
          "output_type": "execute_result",
          "data": {
            "text/html": [
              "<div>\n",
              "<style scoped>\n",
              "    .dataframe tbody tr th:only-of-type {\n",
              "        vertical-align: middle;\n",
              "    }\n",
              "\n",
              "    .dataframe tbody tr th {\n",
              "        vertical-align: top;\n",
              "    }\n",
              "\n",
              "    .dataframe thead th {\n",
              "        text-align: right;\n",
              "    }\n",
              "</style>\n",
              "<table border=\"1\" class=\"dataframe\">\n",
              "  <thead>\n",
              "    <tr style=\"text-align: right;\">\n",
              "      <th></th>\n",
              "      <th>0</th>\n",
              "      <th>1</th>\n",
              "      <th>2</th>\n",
              "      <th>3</th>\n",
              "      <th>4</th>\n",
              "      <th>5</th>\n",
              "      <th>6</th>\n",
              "      <th>7</th>\n",
              "      <th>8</th>\n",
              "      <th>9</th>\n",
              "      <th>10</th>\n",
              "      <th>11</th>\n",
              "      <th>12</th>\n",
              "      <th>13</th>\n",
              "      <th>14</th>\n",
              "      <th>15</th>\n",
              "      <th>16</th>\n",
              "      <th>17</th>\n",
              "      <th>18</th>\n",
              "      <th>19</th>\n",
              "      <th>20</th>\n",
              "      <th>21</th>\n",
              "      <th>22</th>\n",
              "      <th>23</th>\n",
              "      <th>24</th>\n",
              "      <th>25</th>\n",
              "      <th>26</th>\n",
              "      <th>27</th>\n",
              "      <th>28</th>\n",
              "      <th>29</th>\n",
              "      <th>30</th>\n",
              "      <th>31</th>\n",
              "      <th>32</th>\n",
              "      <th>33</th>\n",
              "      <th>34</th>\n",
              "      <th>35</th>\n",
              "      <th>36</th>\n",
              "      <th>37</th>\n",
              "      <th>38</th>\n",
              "      <th>39</th>\n",
              "      <th>40</th>\n",
              "      <th>41</th>\n",
              "      <th>42</th>\n",
              "      <th>43</th>\n",
              "      <th>44</th>\n",
              "      <th>45</th>\n",
              "      <th>46</th>\n",
              "      <th>47</th>\n",
              "      <th>48</th>\n",
              "      <th>49</th>\n",
              "      <th>50</th>\n",
              "      <th>51</th>\n",
              "      <th>52</th>\n",
              "      <th>53</th>\n",
              "      <th>54</th>\n",
              "      <th>55</th>\n",
              "      <th>56</th>\n",
              "      <th>57</th>\n",
              "      <th>58</th>\n",
              "      <th>59</th>\n",
              "      <th>60</th>\n",
              "    </tr>\n",
              "  </thead>\n",
              "  <tbody>\n",
              "    <tr>\n",
              "      <th>0</th>\n",
              "      <td>0.0200</td>\n",
              "      <td>0.0371</td>\n",
              "      <td>0.0428</td>\n",
              "      <td>0.0207</td>\n",
              "      <td>0.0954</td>\n",
              "      <td>0.0986</td>\n",
              "      <td>0.1539</td>\n",
              "      <td>0.1601</td>\n",
              "      <td>0.3109</td>\n",
              "      <td>0.2111</td>\n",
              "      <td>0.1609</td>\n",
              "      <td>0.1582</td>\n",
              "      <td>0.2238</td>\n",
              "      <td>0.0645</td>\n",
              "      <td>0.0660</td>\n",
              "      <td>0.2273</td>\n",
              "      <td>0.3100</td>\n",
              "      <td>0.2999</td>\n",
              "      <td>0.5078</td>\n",
              "      <td>0.4797</td>\n",
              "      <td>0.5783</td>\n",
              "      <td>0.5071</td>\n",
              "      <td>0.4328</td>\n",
              "      <td>0.5550</td>\n",
              "      <td>0.6711</td>\n",
              "      <td>0.6415</td>\n",
              "      <td>0.7104</td>\n",
              "      <td>0.8080</td>\n",
              "      <td>0.6791</td>\n",
              "      <td>0.3857</td>\n",
              "      <td>0.1307</td>\n",
              "      <td>0.2604</td>\n",
              "      <td>0.5121</td>\n",
              "      <td>0.7547</td>\n",
              "      <td>0.8537</td>\n",
              "      <td>0.8507</td>\n",
              "      <td>0.6692</td>\n",
              "      <td>0.6097</td>\n",
              "      <td>0.4943</td>\n",
              "      <td>0.2744</td>\n",
              "      <td>0.0510</td>\n",
              "      <td>0.2834</td>\n",
              "      <td>0.2825</td>\n",
              "      <td>0.4256</td>\n",
              "      <td>0.2641</td>\n",
              "      <td>0.1386</td>\n",
              "      <td>0.1051</td>\n",
              "      <td>0.1343</td>\n",
              "      <td>0.0383</td>\n",
              "      <td>0.0324</td>\n",
              "      <td>0.0232</td>\n",
              "      <td>0.0027</td>\n",
              "      <td>0.0065</td>\n",
              "      <td>0.0159</td>\n",
              "      <td>0.0072</td>\n",
              "      <td>0.0167</td>\n",
              "      <td>0.0180</td>\n",
              "      <td>0.0084</td>\n",
              "      <td>0.0090</td>\n",
              "      <td>0.0032</td>\n",
              "      <td>R</td>\n",
              "    </tr>\n",
              "    <tr>\n",
              "      <th>1</th>\n",
              "      <td>0.0453</td>\n",
              "      <td>0.0523</td>\n",
              "      <td>0.0843</td>\n",
              "      <td>0.0689</td>\n",
              "      <td>0.1183</td>\n",
              "      <td>0.2583</td>\n",
              "      <td>0.2156</td>\n",
              "      <td>0.3481</td>\n",
              "      <td>0.3337</td>\n",
              "      <td>0.2872</td>\n",
              "      <td>0.4918</td>\n",
              "      <td>0.6552</td>\n",
              "      <td>0.6919</td>\n",
              "      <td>0.7797</td>\n",
              "      <td>0.7464</td>\n",
              "      <td>0.9444</td>\n",
              "      <td>1.0000</td>\n",
              "      <td>0.8874</td>\n",
              "      <td>0.8024</td>\n",
              "      <td>0.7818</td>\n",
              "      <td>0.5212</td>\n",
              "      <td>0.4052</td>\n",
              "      <td>0.3957</td>\n",
              "      <td>0.3914</td>\n",
              "      <td>0.3250</td>\n",
              "      <td>0.3200</td>\n",
              "      <td>0.3271</td>\n",
              "      <td>0.2767</td>\n",
              "      <td>0.4423</td>\n",
              "      <td>0.2028</td>\n",
              "      <td>0.3788</td>\n",
              "      <td>0.2947</td>\n",
              "      <td>0.1984</td>\n",
              "      <td>0.2341</td>\n",
              "      <td>0.1306</td>\n",
              "      <td>0.4182</td>\n",
              "      <td>0.3835</td>\n",
              "      <td>0.1057</td>\n",
              "      <td>0.1840</td>\n",
              "      <td>0.1970</td>\n",
              "      <td>0.1674</td>\n",
              "      <td>0.0583</td>\n",
              "      <td>0.1401</td>\n",
              "      <td>0.1628</td>\n",
              "      <td>0.0621</td>\n",
              "      <td>0.0203</td>\n",
              "      <td>0.0530</td>\n",
              "      <td>0.0742</td>\n",
              "      <td>0.0409</td>\n",
              "      <td>0.0061</td>\n",
              "      <td>0.0125</td>\n",
              "      <td>0.0084</td>\n",
              "      <td>0.0089</td>\n",
              "      <td>0.0048</td>\n",
              "      <td>0.0094</td>\n",
              "      <td>0.0191</td>\n",
              "      <td>0.0140</td>\n",
              "      <td>0.0049</td>\n",
              "      <td>0.0052</td>\n",
              "      <td>0.0044</td>\n",
              "      <td>R</td>\n",
              "    </tr>\n",
              "    <tr>\n",
              "      <th>2</th>\n",
              "      <td>0.0262</td>\n",
              "      <td>0.0582</td>\n",
              "      <td>0.1099</td>\n",
              "      <td>0.1083</td>\n",
              "      <td>0.0974</td>\n",
              "      <td>0.2280</td>\n",
              "      <td>0.2431</td>\n",
              "      <td>0.3771</td>\n",
              "      <td>0.5598</td>\n",
              "      <td>0.6194</td>\n",
              "      <td>0.6333</td>\n",
              "      <td>0.7060</td>\n",
              "      <td>0.5544</td>\n",
              "      <td>0.5320</td>\n",
              "      <td>0.6479</td>\n",
              "      <td>0.6931</td>\n",
              "      <td>0.6759</td>\n",
              "      <td>0.7551</td>\n",
              "      <td>0.8929</td>\n",
              "      <td>0.8619</td>\n",
              "      <td>0.7974</td>\n",
              "      <td>0.6737</td>\n",
              "      <td>0.4293</td>\n",
              "      <td>0.3648</td>\n",
              "      <td>0.5331</td>\n",
              "      <td>0.2413</td>\n",
              "      <td>0.5070</td>\n",
              "      <td>0.8533</td>\n",
              "      <td>0.6036</td>\n",
              "      <td>0.8514</td>\n",
              "      <td>0.8512</td>\n",
              "      <td>0.5045</td>\n",
              "      <td>0.1862</td>\n",
              "      <td>0.2709</td>\n",
              "      <td>0.4232</td>\n",
              "      <td>0.3043</td>\n",
              "      <td>0.6116</td>\n",
              "      <td>0.6756</td>\n",
              "      <td>0.5375</td>\n",
              "      <td>0.4719</td>\n",
              "      <td>0.4647</td>\n",
              "      <td>0.2587</td>\n",
              "      <td>0.2129</td>\n",
              "      <td>0.2222</td>\n",
              "      <td>0.2111</td>\n",
              "      <td>0.0176</td>\n",
              "      <td>0.1348</td>\n",
              "      <td>0.0744</td>\n",
              "      <td>0.0130</td>\n",
              "      <td>0.0106</td>\n",
              "      <td>0.0033</td>\n",
              "      <td>0.0232</td>\n",
              "      <td>0.0166</td>\n",
              "      <td>0.0095</td>\n",
              "      <td>0.0180</td>\n",
              "      <td>0.0244</td>\n",
              "      <td>0.0316</td>\n",
              "      <td>0.0164</td>\n",
              "      <td>0.0095</td>\n",
              "      <td>0.0078</td>\n",
              "      <td>R</td>\n",
              "    </tr>\n",
              "    <tr>\n",
              "      <th>3</th>\n",
              "      <td>0.0100</td>\n",
              "      <td>0.0171</td>\n",
              "      <td>0.0623</td>\n",
              "      <td>0.0205</td>\n",
              "      <td>0.0205</td>\n",
              "      <td>0.0368</td>\n",
              "      <td>0.1098</td>\n",
              "      <td>0.1276</td>\n",
              "      <td>0.0598</td>\n",
              "      <td>0.1264</td>\n",
              "      <td>0.0881</td>\n",
              "      <td>0.1992</td>\n",
              "      <td>0.0184</td>\n",
              "      <td>0.2261</td>\n",
              "      <td>0.1729</td>\n",
              "      <td>0.2131</td>\n",
              "      <td>0.0693</td>\n",
              "      <td>0.2281</td>\n",
              "      <td>0.4060</td>\n",
              "      <td>0.3973</td>\n",
              "      <td>0.2741</td>\n",
              "      <td>0.3690</td>\n",
              "      <td>0.5556</td>\n",
              "      <td>0.4846</td>\n",
              "      <td>0.3140</td>\n",
              "      <td>0.5334</td>\n",
              "      <td>0.5256</td>\n",
              "      <td>0.2520</td>\n",
              "      <td>0.2090</td>\n",
              "      <td>0.3559</td>\n",
              "      <td>0.6260</td>\n",
              "      <td>0.7340</td>\n",
              "      <td>0.6120</td>\n",
              "      <td>0.3497</td>\n",
              "      <td>0.3953</td>\n",
              "      <td>0.3012</td>\n",
              "      <td>0.5408</td>\n",
              "      <td>0.8814</td>\n",
              "      <td>0.9857</td>\n",
              "      <td>0.9167</td>\n",
              "      <td>0.6121</td>\n",
              "      <td>0.5006</td>\n",
              "      <td>0.3210</td>\n",
              "      <td>0.3202</td>\n",
              "      <td>0.4295</td>\n",
              "      <td>0.3654</td>\n",
              "      <td>0.2655</td>\n",
              "      <td>0.1576</td>\n",
              "      <td>0.0681</td>\n",
              "      <td>0.0294</td>\n",
              "      <td>0.0241</td>\n",
              "      <td>0.0121</td>\n",
              "      <td>0.0036</td>\n",
              "      <td>0.0150</td>\n",
              "      <td>0.0085</td>\n",
              "      <td>0.0073</td>\n",
              "      <td>0.0050</td>\n",
              "      <td>0.0044</td>\n",
              "      <td>0.0040</td>\n",
              "      <td>0.0117</td>\n",
              "      <td>R</td>\n",
              "    </tr>\n",
              "    <tr>\n",
              "      <th>4</th>\n",
              "      <td>0.0762</td>\n",
              "      <td>0.0666</td>\n",
              "      <td>0.0481</td>\n",
              "      <td>0.0394</td>\n",
              "      <td>0.0590</td>\n",
              "      <td>0.0649</td>\n",
              "      <td>0.1209</td>\n",
              "      <td>0.2467</td>\n",
              "      <td>0.3564</td>\n",
              "      <td>0.4459</td>\n",
              "      <td>0.4152</td>\n",
              "      <td>0.3952</td>\n",
              "      <td>0.4256</td>\n",
              "      <td>0.4135</td>\n",
              "      <td>0.4528</td>\n",
              "      <td>0.5326</td>\n",
              "      <td>0.7306</td>\n",
              "      <td>0.6193</td>\n",
              "      <td>0.2032</td>\n",
              "      <td>0.4636</td>\n",
              "      <td>0.4148</td>\n",
              "      <td>0.4292</td>\n",
              "      <td>0.5730</td>\n",
              "      <td>0.5399</td>\n",
              "      <td>0.3161</td>\n",
              "      <td>0.2285</td>\n",
              "      <td>0.6995</td>\n",
              "      <td>1.0000</td>\n",
              "      <td>0.7262</td>\n",
              "      <td>0.4724</td>\n",
              "      <td>0.5103</td>\n",
              "      <td>0.5459</td>\n",
              "      <td>0.2881</td>\n",
              "      <td>0.0981</td>\n",
              "      <td>0.1951</td>\n",
              "      <td>0.4181</td>\n",
              "      <td>0.4604</td>\n",
              "      <td>0.3217</td>\n",
              "      <td>0.2828</td>\n",
              "      <td>0.2430</td>\n",
              "      <td>0.1979</td>\n",
              "      <td>0.2444</td>\n",
              "      <td>0.1847</td>\n",
              "      <td>0.0841</td>\n",
              "      <td>0.0692</td>\n",
              "      <td>0.0528</td>\n",
              "      <td>0.0357</td>\n",
              "      <td>0.0085</td>\n",
              "      <td>0.0230</td>\n",
              "      <td>0.0046</td>\n",
              "      <td>0.0156</td>\n",
              "      <td>0.0031</td>\n",
              "      <td>0.0054</td>\n",
              "      <td>0.0105</td>\n",
              "      <td>0.0110</td>\n",
              "      <td>0.0015</td>\n",
              "      <td>0.0072</td>\n",
              "      <td>0.0048</td>\n",
              "      <td>0.0107</td>\n",
              "      <td>0.0094</td>\n",
              "      <td>R</td>\n",
              "    </tr>\n",
              "  </tbody>\n",
              "</table>\n",
              "</div>"
            ],
            "text/plain": [
              "       0       1       2       3       4   ...      56      57      58      59  60\n",
              "0  0.0200  0.0371  0.0428  0.0207  0.0954  ...  0.0180  0.0084  0.0090  0.0032   R\n",
              "1  0.0453  0.0523  0.0843  0.0689  0.1183  ...  0.0140  0.0049  0.0052  0.0044   R\n",
              "2  0.0262  0.0582  0.1099  0.1083  0.0974  ...  0.0316  0.0164  0.0095  0.0078   R\n",
              "3  0.0100  0.0171  0.0623  0.0205  0.0205  ...  0.0050  0.0044  0.0040  0.0117   R\n",
              "4  0.0762  0.0666  0.0481  0.0394  0.0590  ...  0.0072  0.0048  0.0107  0.0094   R\n",
              "\n",
              "[5 rows x 61 columns]"
            ]
          },
          "metadata": {
            "tags": []
          },
          "execution_count": 57
        }
      ]
    },
    {
      "cell_type": "code",
      "metadata": {
        "id": "Nw3KzJeYDacY",
        "colab_type": "code",
        "colab": {
          "base_uri": "https://localhost:8080/",
          "height": 35
        },
        "outputId": "7fd4035d-f2ed-4a5e-ec59-dbd5285dea6f"
      },
      "source": [
        "print(df.shape) # Размерность данных"
      ],
      "execution_count": null,
      "outputs": [
        {
          "output_type": "stream",
          "text": [
            "(208, 61)\n"
          ],
          "name": "stdout"
        }
      ]
    },
    {
      "cell_type": "code",
      "metadata": {
        "id": "cBLG-MtlDet5",
        "colab_type": "code",
        "colab": {
          "base_uri": "https://localhost:8080/",
          "height": 164
        },
        "outputId": "2f657e51-1747-43fb-f676-d569a906db08"
      },
      "source": [
        "dataset = df.values                 \n",
        "X = dataset[:,:-1].astype(float)   \n",
        "Y = dataset[:,-1]                  \n",
        "Y[Y=='R']='0'                      \n",
        "Y[Y=='M']='1'                      \n",
        "Y = Y.astype(int)                   \n",
        "print(X.shape) # Размерность X                      \n",
        "print(Y.shape) # Размерность Y                    \n",
        "print(Y)        "
      ],
      "execution_count": null,
      "outputs": [
        {
          "output_type": "stream",
          "text": [
            "(208, 60)\n",
            "(208,)\n",
            "[0 0 0 0 0 0 0 0 0 0 0 0 0 0 0 0 0 0 0 0 0 0 0 0 0 0 0 0 0 0 0 0 0 0 0 0 0\n",
            " 0 0 0 0 0 0 0 0 0 0 0 0 0 0 0 0 0 0 0 0 0 0 0 0 0 0 0 0 0 0 0 0 0 0 0 0 0\n",
            " 0 0 0 0 0 0 0 0 0 0 0 0 0 0 0 0 0 0 0 0 0 0 0 1 1 1 1 1 1 1 1 1 1 1 1 1 1\n",
            " 1 1 1 1 1 1 1 1 1 1 1 1 1 1 1 1 1 1 1 1 1 1 1 1 1 1 1 1 1 1 1 1 1 1 1 1 1\n",
            " 1 1 1 1 1 1 1 1 1 1 1 1 1 1 1 1 1 1 1 1 1 1 1 1 1 1 1 1 1 1 1 1 1 1 1 1 1\n",
            " 1 1 1 1 1 1 1 1 1 1 1 1 1 1 1 1 1 1 1 1 1 1 1]\n"
          ],
          "name": "stdout"
        }
      ]
    },
    {
      "cell_type": "code",
      "metadata": {
        "id": "U59XjxfnDe1f",
        "colab_type": "code",
        "colab": {
          "base_uri": "https://localhost:8080/",
          "height": 90
        },
        "outputId": "8bd01526-e1f6-497c-f7ca-25579c135c31"
      },
      "source": [
        "x_train, x_test, y_train, y_test = train_test_split(X, Y, test_size=0.2, shuffle=True)    \n",
        "print (x_train.shape)\n",
        "print (x_test.shape)\n",
        "print (y_train.shape)\n",
        "print (y_test.shape)"
      ],
      "execution_count": null,
      "outputs": [
        {
          "output_type": "stream",
          "text": [
            "(166, 60)\n",
            "(42, 60)\n",
            "(166,)\n",
            "(42,)\n"
          ],
          "name": "stdout"
        }
      ]
    },
    {
      "cell_type": "markdown",
      "metadata": {
        "id": "cIw8byw_EU3m",
        "colab_type": "text"
      },
      "source": [
        "### Создание НС"
      ]
    },
    {
      "cell_type": "code",
      "metadata": {
        "id": "vSsJllaWDe4m",
        "colab_type": "code",
        "colab": {}
      },
      "source": [
        "def create_model_sonar():\n",
        "  model = Sequential()\n",
        "  model.add(Dropout(0.1, input_shape=(60,)))\n",
        "  #model.add(BatchNormalization())\n",
        "  model.add(Dense(60, activation='relu'))\n",
        "  model.add(Dropout(0.1))\n",
        "  #model.add(BatchNormalization())\n",
        "  model.add(Dense(30,  activation='relu'))\n",
        "  model.add(Dropout(0.1))\n",
        "  #model.add(BatchNormalization())\n",
        "  model.add(Dense(20,  activation='relu'))\n",
        "  model.add(Dropout(0.1))\n",
        "  #model.add(BatchNormalization())\n",
        "  model.add(Dense(1, activation='sigmoid'))\n",
        "\n",
        "  model.compile(loss='binary_crossentropy', optimizer=Adam(lr=0.001), metrics=['accuracy'])\n",
        "\n",
        "  return model\n",
        "\n",
        "\n"
      ],
      "execution_count": null,
      "outputs": []
    },
    {
      "cell_type": "code",
      "metadata": {
        "id": "rjETjsb0De7M",
        "colab_type": "code",
        "colab": {
          "base_uri": "https://localhost:8080/",
          "height": 1000
        },
        "outputId": "19ac9940-861f-4978-f0f2-674d7f700e40"
      },
      "source": [
        "x_train_new, x_val, y_train_new, y_val = train_test_split(x_train,\n",
        "                                                          y_train,\n",
        "                                                          test_size=0.2)\n",
        "\n",
        "print(x_train_new.shape)\n",
        "print(x_val.shape)\n",
        "print(y_train_new.shape)\n",
        "print(y_val.shape)\n",
        "\n",
        "model = create_model_sonar()\n",
        "\n",
        "history = model.fit(x_train,\n",
        "                    y_train,\n",
        "                    batch_size=15, #8, 15\n",
        "                    epochs=200, #100\n",
        "                    validation_split=0.2,\n",
        "                    verbose=1)\n",
        "\n",
        "# График точности\n",
        "plt.plot(history.history['accuracy'], label='accuracy')\n",
        "plt.plot(history.history['val_accuracy'], label='val_accuracy')\n",
        "plt.xlabel('Эпоха обучения')\n",
        "plt.ylabel('Точность')\n",
        "plt.legend()\n",
        "plt.show()\n",
        "\n",
        "# График ошибки\n",
        "plt.plot(history.history['loss'], label='loss')\n",
        "plt.plot(history.history['val_loss'], label='val_loss')\n",
        "plt.xlabel('Эпоха обучения')\n",
        "plt.ylabel('Ошибка')\n",
        "plt.legend()\n",
        "plt.show()\n",
        "\n",
        "print(model.evaluate(x_test, y_test))"
      ],
      "execution_count": null,
      "outputs": [
        {
          "output_type": "stream",
          "text": [
            "(132, 60)\n",
            "(34, 60)\n",
            "(132,)\n",
            "(34,)\n",
            "Epoch 1/200\n",
            "9/9 [==============================] - 0s 16ms/step - loss: 0.7131 - accuracy: 0.4167 - val_loss: 0.6988 - val_accuracy: 0.4706\n",
            "Epoch 2/200\n",
            "9/9 [==============================] - 0s 5ms/step - loss: 0.6915 - accuracy: 0.5227 - val_loss: 0.6904 - val_accuracy: 0.5588\n",
            "Epoch 3/200\n",
            "9/9 [==============================] - 0s 4ms/step - loss: 0.6914 - accuracy: 0.5227 - val_loss: 0.6845 - val_accuracy: 0.6765\n",
            "Epoch 4/200\n",
            "9/9 [==============================] - 0s 5ms/step - loss: 0.6858 - accuracy: 0.5530 - val_loss: 0.6806 - val_accuracy: 0.6765\n",
            "Epoch 5/200\n",
            "9/9 [==============================] - 0s 4ms/step - loss: 0.6809 - accuracy: 0.5606 - val_loss: 0.6795 - val_accuracy: 0.6471\n",
            "Epoch 6/200\n",
            "9/9 [==============================] - 0s 4ms/step - loss: 0.6825 - accuracy: 0.5682 - val_loss: 0.6787 - val_accuracy: 0.5882\n",
            "Epoch 7/200\n",
            "9/9 [==============================] - 0s 4ms/step - loss: 0.6811 - accuracy: 0.5909 - val_loss: 0.6789 - val_accuracy: 0.5588\n",
            "Epoch 8/200\n",
            "9/9 [==============================] - 0s 4ms/step - loss: 0.6721 - accuracy: 0.5758 - val_loss: 0.6634 - val_accuracy: 0.6176\n",
            "Epoch 9/200\n",
            "9/9 [==============================] - 0s 4ms/step - loss: 0.6663 - accuracy: 0.5909 - val_loss: 0.6635 - val_accuracy: 0.6471\n",
            "Epoch 10/200\n",
            "9/9 [==============================] - 0s 5ms/step - loss: 0.6474 - accuracy: 0.6515 - val_loss: 0.6526 - val_accuracy: 0.7059\n",
            "Epoch 11/200\n",
            "9/9 [==============================] - 0s 5ms/step - loss: 0.6351 - accuracy: 0.6742 - val_loss: 0.6498 - val_accuracy: 0.6471\n",
            "Epoch 12/200\n",
            "9/9 [==============================] - 0s 5ms/step - loss: 0.6364 - accuracy: 0.6439 - val_loss: 0.6309 - val_accuracy: 0.6765\n",
            "Epoch 13/200\n",
            "9/9 [==============================] - 0s 5ms/step - loss: 0.6129 - accuracy: 0.6591 - val_loss: 0.6055 - val_accuracy: 0.6471\n",
            "Epoch 14/200\n",
            "9/9 [==============================] - 0s 4ms/step - loss: 0.5843 - accuracy: 0.6742 - val_loss: 0.6336 - val_accuracy: 0.6765\n",
            "Epoch 15/200\n",
            "9/9 [==============================] - 0s 4ms/step - loss: 0.5767 - accuracy: 0.7273 - val_loss: 0.5984 - val_accuracy: 0.6765\n",
            "Epoch 16/200\n",
            "9/9 [==============================] - 0s 4ms/step - loss: 0.5667 - accuracy: 0.7045 - val_loss: 0.5900 - val_accuracy: 0.6765\n",
            "Epoch 17/200\n",
            "9/9 [==============================] - 0s 4ms/step - loss: 0.5535 - accuracy: 0.7576 - val_loss: 0.5842 - val_accuracy: 0.6765\n",
            "Epoch 18/200\n",
            "9/9 [==============================] - 0s 4ms/step - loss: 0.5537 - accuracy: 0.7273 - val_loss: 0.5717 - val_accuracy: 0.7059\n",
            "Epoch 19/200\n",
            "9/9 [==============================] - 0s 5ms/step - loss: 0.5442 - accuracy: 0.7424 - val_loss: 0.5581 - val_accuracy: 0.7059\n",
            "Epoch 20/200\n",
            "9/9 [==============================] - 0s 4ms/step - loss: 0.5675 - accuracy: 0.6818 - val_loss: 0.5609 - val_accuracy: 0.7353\n",
            "Epoch 21/200\n",
            "9/9 [==============================] - 0s 5ms/step - loss: 0.5478 - accuracy: 0.7121 - val_loss: 0.5521 - val_accuracy: 0.7353\n",
            "Epoch 22/200\n",
            "9/9 [==============================] - 0s 4ms/step - loss: 0.5142 - accuracy: 0.7500 - val_loss: 0.5565 - val_accuracy: 0.7353\n",
            "Epoch 23/200\n",
            "9/9 [==============================] - 0s 5ms/step - loss: 0.5226 - accuracy: 0.7879 - val_loss: 0.5555 - val_accuracy: 0.7353\n",
            "Epoch 24/200\n",
            "9/9 [==============================] - 0s 4ms/step - loss: 0.5551 - accuracy: 0.6667 - val_loss: 0.5606 - val_accuracy: 0.7353\n",
            "Epoch 25/200\n",
            "9/9 [==============================] - 0s 5ms/step - loss: 0.5132 - accuracy: 0.7424 - val_loss: 0.5544 - val_accuracy: 0.7059\n",
            "Epoch 26/200\n",
            "9/9 [==============================] - 0s 4ms/step - loss: 0.5234 - accuracy: 0.7500 - val_loss: 0.5600 - val_accuracy: 0.7647\n",
            "Epoch 27/200\n",
            "9/9 [==============================] - 0s 4ms/step - loss: 0.4577 - accuracy: 0.7348 - val_loss: 0.5425 - val_accuracy: 0.6765\n",
            "Epoch 28/200\n",
            "9/9 [==============================] - 0s 4ms/step - loss: 0.4733 - accuracy: 0.8106 - val_loss: 0.5381 - val_accuracy: 0.7353\n",
            "Epoch 29/200\n",
            "9/9 [==============================] - 0s 4ms/step - loss: 0.4611 - accuracy: 0.7727 - val_loss: 0.5387 - val_accuracy: 0.7353\n",
            "Epoch 30/200\n",
            "9/9 [==============================] - 0s 4ms/step - loss: 0.4580 - accuracy: 0.8030 - val_loss: 0.5319 - val_accuracy: 0.7353\n",
            "Epoch 31/200\n",
            "9/9 [==============================] - 0s 4ms/step - loss: 0.4748 - accuracy: 0.7576 - val_loss: 0.5224 - val_accuracy: 0.7647\n",
            "Epoch 32/200\n",
            "9/9 [==============================] - 0s 4ms/step - loss: 0.4754 - accuracy: 0.7273 - val_loss: 0.5253 - val_accuracy: 0.7647\n",
            "Epoch 33/200\n",
            "9/9 [==============================] - 0s 4ms/step - loss: 0.4782 - accuracy: 0.7348 - val_loss: 0.5260 - val_accuracy: 0.7647\n",
            "Epoch 34/200\n",
            "9/9 [==============================] - 0s 4ms/step - loss: 0.4870 - accuracy: 0.7652 - val_loss: 0.5338 - val_accuracy: 0.7353\n",
            "Epoch 35/200\n",
            "9/9 [==============================] - 0s 6ms/step - loss: 0.4689 - accuracy: 0.7955 - val_loss: 0.5270 - val_accuracy: 0.7647\n",
            "Epoch 36/200\n",
            "9/9 [==============================] - 0s 4ms/step - loss: 0.4243 - accuracy: 0.8106 - val_loss: 0.5166 - val_accuracy: 0.7941\n",
            "Epoch 37/200\n",
            "9/9 [==============================] - 0s 4ms/step - loss: 0.4106 - accuracy: 0.7879 - val_loss: 0.5241 - val_accuracy: 0.7353\n",
            "Epoch 38/200\n",
            "9/9 [==============================] - 0s 4ms/step - loss: 0.4321 - accuracy: 0.8030 - val_loss: 0.5156 - val_accuracy: 0.7353\n",
            "Epoch 39/200\n",
            "9/9 [==============================] - 0s 5ms/step - loss: 0.4432 - accuracy: 0.8030 - val_loss: 0.4962 - val_accuracy: 0.7647\n",
            "Epoch 40/200\n",
            "9/9 [==============================] - 0s 4ms/step - loss: 0.4386 - accuracy: 0.7803 - val_loss: 0.5065 - val_accuracy: 0.7353\n",
            "Epoch 41/200\n",
            "9/9 [==============================] - 0s 5ms/step - loss: 0.4375 - accuracy: 0.7879 - val_loss: 0.4857 - val_accuracy: 0.7941\n",
            "Epoch 42/200\n",
            "9/9 [==============================] - 0s 4ms/step - loss: 0.4732 - accuracy: 0.7652 - val_loss: 0.4900 - val_accuracy: 0.7941\n",
            "Epoch 43/200\n",
            "9/9 [==============================] - 0s 5ms/step - loss: 0.4322 - accuracy: 0.7955 - val_loss: 0.4795 - val_accuracy: 0.8529\n",
            "Epoch 44/200\n",
            "9/9 [==============================] - 0s 4ms/step - loss: 0.4992 - accuracy: 0.7424 - val_loss: 0.4885 - val_accuracy: 0.7941\n",
            "Epoch 45/200\n",
            "9/9 [==============================] - 0s 4ms/step - loss: 0.4617 - accuracy: 0.8106 - val_loss: 0.4914 - val_accuracy: 0.7647\n",
            "Epoch 46/200\n",
            "9/9 [==============================] - 0s 4ms/step - loss: 0.3749 - accuracy: 0.8258 - val_loss: 0.5073 - val_accuracy: 0.7353\n",
            "Epoch 47/200\n",
            "9/9 [==============================] - 0s 6ms/step - loss: 0.4186 - accuracy: 0.8182 - val_loss: 0.5012 - val_accuracy: 0.7647\n",
            "Epoch 48/200\n",
            "9/9 [==============================] - 0s 6ms/step - loss: 0.4395 - accuracy: 0.8030 - val_loss: 0.4978 - val_accuracy: 0.7647\n",
            "Epoch 49/200\n",
            "9/9 [==============================] - 0s 4ms/step - loss: 0.4230 - accuracy: 0.8030 - val_loss: 0.5155 - val_accuracy: 0.7647\n",
            "Epoch 50/200\n",
            "9/9 [==============================] - 0s 4ms/step - loss: 0.4425 - accuracy: 0.7727 - val_loss: 0.4998 - val_accuracy: 0.7647\n",
            "Epoch 51/200\n",
            "9/9 [==============================] - 0s 4ms/step - loss: 0.4028 - accuracy: 0.8182 - val_loss: 0.4837 - val_accuracy: 0.8235\n",
            "Epoch 52/200\n",
            "9/9 [==============================] - 0s 4ms/step - loss: 0.3980 - accuracy: 0.8333 - val_loss: 0.4643 - val_accuracy: 0.8235\n",
            "Epoch 53/200\n",
            "9/9 [==============================] - 0s 4ms/step - loss: 0.4101 - accuracy: 0.7727 - val_loss: 0.4551 - val_accuracy: 0.8235\n",
            "Epoch 54/200\n",
            "9/9 [==============================] - 0s 4ms/step - loss: 0.3595 - accuracy: 0.8182 - val_loss: 0.4713 - val_accuracy: 0.7941\n",
            "Epoch 55/200\n",
            "9/9 [==============================] - 0s 5ms/step - loss: 0.4078 - accuracy: 0.7727 - val_loss: 0.4856 - val_accuracy: 0.7647\n",
            "Epoch 56/200\n",
            "9/9 [==============================] - 0s 6ms/step - loss: 0.3933 - accuracy: 0.8333 - val_loss: 0.4933 - val_accuracy: 0.7647\n",
            "Epoch 57/200\n",
            "9/9 [==============================] - 0s 4ms/step - loss: 0.3949 - accuracy: 0.7803 - val_loss: 0.4908 - val_accuracy: 0.8235\n",
            "Epoch 58/200\n",
            "9/9 [==============================] - 0s 4ms/step - loss: 0.3720 - accuracy: 0.8409 - val_loss: 0.4864 - val_accuracy: 0.8235\n",
            "Epoch 59/200\n",
            "9/9 [==============================] - 0s 4ms/step - loss: 0.3969 - accuracy: 0.7879 - val_loss: 0.4789 - val_accuracy: 0.8235\n",
            "Epoch 60/200\n",
            "9/9 [==============================] - 0s 4ms/step - loss: 0.3807 - accuracy: 0.8258 - val_loss: 0.4503 - val_accuracy: 0.8529\n",
            "Epoch 61/200\n",
            "9/9 [==============================] - 0s 5ms/step - loss: 0.3830 - accuracy: 0.8106 - val_loss: 0.4671 - val_accuracy: 0.8235\n",
            "Epoch 62/200\n",
            "9/9 [==============================] - 0s 4ms/step - loss: 0.4087 - accuracy: 0.7652 - val_loss: 0.4558 - val_accuracy: 0.8235\n",
            "Epoch 63/200\n",
            "9/9 [==============================] - 0s 4ms/step - loss: 0.3476 - accuracy: 0.8258 - val_loss: 0.4321 - val_accuracy: 0.8529\n",
            "Epoch 64/200\n",
            "9/9 [==============================] - 0s 4ms/step - loss: 0.3220 - accuracy: 0.8333 - val_loss: 0.4518 - val_accuracy: 0.8235\n",
            "Epoch 65/200\n",
            "9/9 [==============================] - 0s 4ms/step - loss: 0.3984 - accuracy: 0.7879 - val_loss: 0.4930 - val_accuracy: 0.7941\n",
            "Epoch 66/200\n",
            "9/9 [==============================] - 0s 4ms/step - loss: 0.3194 - accuracy: 0.8864 - val_loss: 0.4660 - val_accuracy: 0.8235\n",
            "Epoch 67/200\n",
            "9/9 [==============================] - 0s 4ms/step - loss: 0.3845 - accuracy: 0.8333 - val_loss: 0.4609 - val_accuracy: 0.7941\n",
            "Epoch 68/200\n",
            "9/9 [==============================] - 0s 4ms/step - loss: 0.3904 - accuracy: 0.8485 - val_loss: 0.4597 - val_accuracy: 0.7941\n",
            "Epoch 69/200\n",
            "9/9 [==============================] - 0s 5ms/step - loss: 0.3548 - accuracy: 0.8333 - val_loss: 0.4602 - val_accuracy: 0.7941\n",
            "Epoch 70/200\n",
            "9/9 [==============================] - 0s 4ms/step - loss: 0.3483 - accuracy: 0.8561 - val_loss: 0.5011 - val_accuracy: 0.7353\n",
            "Epoch 71/200\n",
            "9/9 [==============================] - 0s 5ms/step - loss: 0.3457 - accuracy: 0.8409 - val_loss: 0.4986 - val_accuracy: 0.7647\n",
            "Epoch 72/200\n",
            "9/9 [==============================] - 0s 4ms/step - loss: 0.3730 - accuracy: 0.7955 - val_loss: 0.4589 - val_accuracy: 0.7941\n",
            "Epoch 73/200\n",
            "9/9 [==============================] - 0s 4ms/step - loss: 0.3880 - accuracy: 0.8106 - val_loss: 0.4484 - val_accuracy: 0.7941\n",
            "Epoch 74/200\n",
            "9/9 [==============================] - 0s 4ms/step - loss: 0.3771 - accuracy: 0.7955 - val_loss: 0.4694 - val_accuracy: 0.7647\n",
            "Epoch 75/200\n",
            "9/9 [==============================] - 0s 4ms/step - loss: 0.3464 - accuracy: 0.8106 - val_loss: 0.4414 - val_accuracy: 0.7941\n",
            "Epoch 76/200\n",
            "9/9 [==============================] - 0s 5ms/step - loss: 0.3399 - accuracy: 0.8409 - val_loss: 0.4407 - val_accuracy: 0.8235\n",
            "Epoch 77/200\n",
            "9/9 [==============================] - 0s 5ms/step - loss: 0.3645 - accuracy: 0.8485 - val_loss: 0.4482 - val_accuracy: 0.8529\n",
            "Epoch 78/200\n",
            "9/9 [==============================] - 0s 6ms/step - loss: 0.2939 - accuracy: 0.8788 - val_loss: 0.4620 - val_accuracy: 0.7647\n",
            "Epoch 79/200\n",
            "9/9 [==============================] - 0s 4ms/step - loss: 0.3327 - accuracy: 0.8485 - val_loss: 0.5295 - val_accuracy: 0.7353\n",
            "Epoch 80/200\n",
            "9/9 [==============================] - 0s 4ms/step - loss: 0.2908 - accuracy: 0.8712 - val_loss: 0.4894 - val_accuracy: 0.8235\n",
            "Epoch 81/200\n",
            "9/9 [==============================] - 0s 4ms/step - loss: 0.3233 - accuracy: 0.8333 - val_loss: 0.4675 - val_accuracy: 0.7941\n",
            "Epoch 82/200\n",
            "9/9 [==============================] - 0s 4ms/step - loss: 0.3478 - accuracy: 0.8485 - val_loss: 0.4633 - val_accuracy: 0.8235\n",
            "Epoch 83/200\n",
            "9/9 [==============================] - 0s 4ms/step - loss: 0.2774 - accuracy: 0.8712 - val_loss: 0.4610 - val_accuracy: 0.8235\n",
            "Epoch 84/200\n",
            "9/9 [==============================] - 0s 4ms/step - loss: 0.3601 - accuracy: 0.8485 - val_loss: 0.4444 - val_accuracy: 0.7941\n",
            "Epoch 85/200\n",
            "9/9 [==============================] - 0s 5ms/step - loss: 0.3421 - accuracy: 0.8182 - val_loss: 0.4157 - val_accuracy: 0.7941\n",
            "Epoch 86/200\n",
            "9/9 [==============================] - 0s 4ms/step - loss: 0.2837 - accuracy: 0.8485 - val_loss: 0.4173 - val_accuracy: 0.7941\n",
            "Epoch 87/200\n",
            "9/9 [==============================] - 0s 4ms/step - loss: 0.3114 - accuracy: 0.8712 - val_loss: 0.4756 - val_accuracy: 0.7353\n",
            "Epoch 88/200\n",
            "9/9 [==============================] - 0s 4ms/step - loss: 0.2967 - accuracy: 0.8561 - val_loss: 0.4229 - val_accuracy: 0.7941\n",
            "Epoch 89/200\n",
            "9/9 [==============================] - 0s 4ms/step - loss: 0.3944 - accuracy: 0.8106 - val_loss: 0.4182 - val_accuracy: 0.8235\n",
            "Epoch 90/200\n",
            "9/9 [==============================] - 0s 5ms/step - loss: 0.3448 - accuracy: 0.8409 - val_loss: 0.4240 - val_accuracy: 0.7941\n",
            "Epoch 91/200\n",
            "9/9 [==============================] - 0s 4ms/step - loss: 0.3321 - accuracy: 0.8106 - val_loss: 0.4208 - val_accuracy: 0.7941\n",
            "Epoch 92/200\n",
            "9/9 [==============================] - 0s 4ms/step - loss: 0.2921 - accuracy: 0.8788 - val_loss: 0.4098 - val_accuracy: 0.8529\n",
            "Epoch 93/200\n",
            "9/9 [==============================] - 0s 4ms/step - loss: 0.2747 - accuracy: 0.8712 - val_loss: 0.4042 - val_accuracy: 0.8529\n",
            "Epoch 94/200\n",
            "9/9 [==============================] - 0s 4ms/step - loss: 0.3191 - accuracy: 0.8485 - val_loss: 0.4329 - val_accuracy: 0.8235\n",
            "Epoch 95/200\n",
            "9/9 [==============================] - 0s 4ms/step - loss: 0.3140 - accuracy: 0.8636 - val_loss: 0.4527 - val_accuracy: 0.8235\n",
            "Epoch 96/200\n",
            "9/9 [==============================] - 0s 5ms/step - loss: 0.3518 - accuracy: 0.8485 - val_loss: 0.4709 - val_accuracy: 0.7941\n",
            "Epoch 97/200\n",
            "9/9 [==============================] - 0s 4ms/step - loss: 0.3067 - accuracy: 0.8561 - val_loss: 0.4669 - val_accuracy: 0.8235\n",
            "Epoch 98/200\n",
            "9/9 [==============================] - 0s 4ms/step - loss: 0.2747 - accuracy: 0.8864 - val_loss: 0.4663 - val_accuracy: 0.8235\n",
            "Epoch 99/200\n",
            "9/9 [==============================] - 0s 4ms/step - loss: 0.3520 - accuracy: 0.8409 - val_loss: 0.4903 - val_accuracy: 0.7647\n",
            "Epoch 100/200\n",
            "9/9 [==============================] - 0s 5ms/step - loss: 0.2904 - accuracy: 0.8636 - val_loss: 0.4502 - val_accuracy: 0.8235\n",
            "Epoch 101/200\n",
            "9/9 [==============================] - 0s 4ms/step - loss: 0.3889 - accuracy: 0.7727 - val_loss: 0.4383 - val_accuracy: 0.7941\n",
            "Epoch 102/200\n",
            "9/9 [==============================] - 0s 5ms/step - loss: 0.3089 - accuracy: 0.8485 - val_loss: 0.4355 - val_accuracy: 0.7941\n",
            "Epoch 103/200\n",
            "9/9 [==============================] - 0s 4ms/step - loss: 0.2824 - accuracy: 0.9015 - val_loss: 0.4085 - val_accuracy: 0.8235\n",
            "Epoch 104/200\n",
            "9/9 [==============================] - 0s 5ms/step - loss: 0.2335 - accuracy: 0.8864 - val_loss: 0.4150 - val_accuracy: 0.8235\n",
            "Epoch 105/200\n",
            "9/9 [==============================] - 0s 4ms/step - loss: 0.3353 - accuracy: 0.8333 - val_loss: 0.4219 - val_accuracy: 0.7941\n",
            "Epoch 106/200\n",
            "9/9 [==============================] - 0s 4ms/step - loss: 0.3362 - accuracy: 0.8333 - val_loss: 0.4329 - val_accuracy: 0.7647\n",
            "Epoch 107/200\n",
            "9/9 [==============================] - 0s 4ms/step - loss: 0.2801 - accuracy: 0.8788 - val_loss: 0.4690 - val_accuracy: 0.7353\n",
            "Epoch 108/200\n",
            "9/9 [==============================] - 0s 4ms/step - loss: 0.3145 - accuracy: 0.8333 - val_loss: 0.4525 - val_accuracy: 0.7941\n",
            "Epoch 109/200\n",
            "9/9 [==============================] - 0s 5ms/step - loss: 0.3104 - accuracy: 0.8258 - val_loss: 0.4555 - val_accuracy: 0.7647\n",
            "Epoch 110/200\n",
            "9/9 [==============================] - 0s 5ms/step - loss: 0.2972 - accuracy: 0.8333 - val_loss: 0.4074 - val_accuracy: 0.8235\n",
            "Epoch 111/200\n",
            "9/9 [==============================] - 0s 5ms/step - loss: 0.2686 - accuracy: 0.9015 - val_loss: 0.4697 - val_accuracy: 0.7647\n",
            "Epoch 112/200\n",
            "9/9 [==============================] - 0s 4ms/step - loss: 0.2709 - accuracy: 0.8864 - val_loss: 0.4047 - val_accuracy: 0.8235\n",
            "Epoch 113/200\n",
            "9/9 [==============================] - 0s 5ms/step - loss: 0.2326 - accuracy: 0.9167 - val_loss: 0.4214 - val_accuracy: 0.7941\n",
            "Epoch 114/200\n",
            "9/9 [==============================] - 0s 4ms/step - loss: 0.2890 - accuracy: 0.8712 - val_loss: 0.4518 - val_accuracy: 0.7647\n",
            "Epoch 115/200\n",
            "9/9 [==============================] - 0s 4ms/step - loss: 0.2518 - accuracy: 0.9091 - val_loss: 0.4103 - val_accuracy: 0.8529\n",
            "Epoch 116/200\n",
            "9/9 [==============================] - 0s 5ms/step - loss: 0.2935 - accuracy: 0.8333 - val_loss: 0.4279 - val_accuracy: 0.8235\n",
            "Epoch 117/200\n",
            "9/9 [==============================] - 0s 4ms/step - loss: 0.2482 - accuracy: 0.8864 - val_loss: 0.4956 - val_accuracy: 0.7353\n",
            "Epoch 118/200\n",
            "9/9 [==============================] - 0s 4ms/step - loss: 0.3340 - accuracy: 0.8636 - val_loss: 0.4736 - val_accuracy: 0.7647\n",
            "Epoch 119/200\n",
            "9/9 [==============================] - 0s 4ms/step - loss: 0.3520 - accuracy: 0.8258 - val_loss: 0.4408 - val_accuracy: 0.7941\n",
            "Epoch 120/200\n",
            "9/9 [==============================] - 0s 5ms/step - loss: 0.2161 - accuracy: 0.9318 - val_loss: 0.4917 - val_accuracy: 0.7647\n",
            "Epoch 121/200\n",
            "9/9 [==============================] - 0s 6ms/step - loss: 0.2789 - accuracy: 0.8939 - val_loss: 0.4817 - val_accuracy: 0.7647\n",
            "Epoch 122/200\n",
            "9/9 [==============================] - 0s 5ms/step - loss: 0.3188 - accuracy: 0.8636 - val_loss: 0.4402 - val_accuracy: 0.7941\n",
            "Epoch 123/200\n",
            "9/9 [==============================] - 0s 4ms/step - loss: 0.2120 - accuracy: 0.9015 - val_loss: 0.4089 - val_accuracy: 0.8235\n",
            "Epoch 124/200\n",
            "9/9 [==============================] - 0s 4ms/step - loss: 0.2931 - accuracy: 0.8333 - val_loss: 0.4138 - val_accuracy: 0.7941\n",
            "Epoch 125/200\n",
            "9/9 [==============================] - 0s 4ms/step - loss: 0.3155 - accuracy: 0.8636 - val_loss: 0.4232 - val_accuracy: 0.7647\n",
            "Epoch 126/200\n",
            "9/9 [==============================] - 0s 4ms/step - loss: 0.2381 - accuracy: 0.9167 - val_loss: 0.4158 - val_accuracy: 0.8235\n",
            "Epoch 127/200\n",
            "9/9 [==============================] - 0s 4ms/step - loss: 0.2006 - accuracy: 0.9167 - val_loss: 0.4354 - val_accuracy: 0.7941\n",
            "Epoch 128/200\n",
            "9/9 [==============================] - 0s 4ms/step - loss: 0.3071 - accuracy: 0.8712 - val_loss: 0.4281 - val_accuracy: 0.8529\n",
            "Epoch 129/200\n",
            "9/9 [==============================] - 0s 4ms/step - loss: 0.2394 - accuracy: 0.9015 - val_loss: 0.4641 - val_accuracy: 0.7941\n",
            "Epoch 130/200\n",
            "9/9 [==============================] - 0s 4ms/step - loss: 0.2536 - accuracy: 0.8939 - val_loss: 0.4762 - val_accuracy: 0.7941\n",
            "Epoch 131/200\n",
            "9/9 [==============================] - 0s 4ms/step - loss: 0.2736 - accuracy: 0.8712 - val_loss: 0.4402 - val_accuracy: 0.8235\n",
            "Epoch 132/200\n",
            "9/9 [==============================] - 0s 4ms/step - loss: 0.1913 - accuracy: 0.9242 - val_loss: 0.5000 - val_accuracy: 0.7941\n",
            "Epoch 133/200\n",
            "9/9 [==============================] - 0s 5ms/step - loss: 0.2641 - accuracy: 0.9167 - val_loss: 0.4105 - val_accuracy: 0.8235\n",
            "Epoch 134/200\n",
            "9/9 [==============================] - 0s 4ms/step - loss: 0.2230 - accuracy: 0.9091 - val_loss: 0.4359 - val_accuracy: 0.7941\n",
            "Epoch 135/200\n",
            "9/9 [==============================] - 0s 4ms/step - loss: 0.3583 - accuracy: 0.8485 - val_loss: 0.3947 - val_accuracy: 0.8235\n",
            "Epoch 136/200\n",
            "9/9 [==============================] - 0s 4ms/step - loss: 0.2432 - accuracy: 0.8939 - val_loss: 0.4067 - val_accuracy: 0.7941\n",
            "Epoch 137/200\n",
            "9/9 [==============================] - 0s 4ms/step - loss: 0.2609 - accuracy: 0.8939 - val_loss: 0.4342 - val_accuracy: 0.7941\n",
            "Epoch 138/200\n",
            "9/9 [==============================] - 0s 4ms/step - loss: 0.2898 - accuracy: 0.8636 - val_loss: 0.4595 - val_accuracy: 0.7941\n",
            "Epoch 139/200\n",
            "9/9 [==============================] - 0s 4ms/step - loss: 0.2957 - accuracy: 0.8712 - val_loss: 0.3891 - val_accuracy: 0.8235\n",
            "Epoch 140/200\n",
            "9/9 [==============================] - 0s 4ms/step - loss: 0.2463 - accuracy: 0.8939 - val_loss: 0.5113 - val_accuracy: 0.7647\n",
            "Epoch 141/200\n",
            "9/9 [==============================] - 0s 4ms/step - loss: 0.2191 - accuracy: 0.9318 - val_loss: 0.4051 - val_accuracy: 0.8235\n",
            "Epoch 142/200\n",
            "9/9 [==============================] - 0s 4ms/step - loss: 0.2053 - accuracy: 0.9394 - val_loss: 0.4072 - val_accuracy: 0.8235\n",
            "Epoch 143/200\n",
            "9/9 [==============================] - 0s 5ms/step - loss: 0.2357 - accuracy: 0.9015 - val_loss: 0.4625 - val_accuracy: 0.7647\n",
            "Epoch 144/200\n",
            "9/9 [==============================] - 0s 4ms/step - loss: 0.2205 - accuracy: 0.9167 - val_loss: 0.4243 - val_accuracy: 0.8235\n",
            "Epoch 145/200\n",
            "9/9 [==============================] - 0s 5ms/step - loss: 0.2550 - accuracy: 0.8788 - val_loss: 0.4566 - val_accuracy: 0.7647\n",
            "Epoch 146/200\n",
            "9/9 [==============================] - 0s 4ms/step - loss: 0.2966 - accuracy: 0.8939 - val_loss: 0.4241 - val_accuracy: 0.8235\n",
            "Epoch 147/200\n",
            "9/9 [==============================] - 0s 4ms/step - loss: 0.2301 - accuracy: 0.8864 - val_loss: 0.3759 - val_accuracy: 0.8529\n",
            "Epoch 148/200\n",
            "9/9 [==============================] - 0s 4ms/step - loss: 0.2741 - accuracy: 0.9015 - val_loss: 0.4142 - val_accuracy: 0.8235\n",
            "Epoch 149/200\n",
            "9/9 [==============================] - 0s 4ms/step - loss: 0.2595 - accuracy: 0.8712 - val_loss: 0.4350 - val_accuracy: 0.7941\n",
            "Epoch 150/200\n",
            "9/9 [==============================] - 0s 4ms/step - loss: 0.2405 - accuracy: 0.8939 - val_loss: 0.4766 - val_accuracy: 0.7647\n",
            "Epoch 151/200\n",
            "9/9 [==============================] - 0s 4ms/step - loss: 0.2126 - accuracy: 0.9242 - val_loss: 0.4104 - val_accuracy: 0.8235\n",
            "Epoch 152/200\n",
            "9/9 [==============================] - 0s 4ms/step - loss: 0.2759 - accuracy: 0.8636 - val_loss: 0.4049 - val_accuracy: 0.8235\n",
            "Epoch 153/200\n",
            "9/9 [==============================] - 0s 4ms/step - loss: 0.2268 - accuracy: 0.9167 - val_loss: 0.4684 - val_accuracy: 0.7647\n",
            "Epoch 154/200\n",
            "9/9 [==============================] - 0s 4ms/step - loss: 0.2953 - accuracy: 0.8636 - val_loss: 0.4154 - val_accuracy: 0.8235\n",
            "Epoch 155/200\n",
            "9/9 [==============================] - 0s 5ms/step - loss: 0.2891 - accuracy: 0.8788 - val_loss: 0.3629 - val_accuracy: 0.8235\n",
            "Epoch 156/200\n",
            "9/9 [==============================] - 0s 4ms/step - loss: 0.3022 - accuracy: 0.8636 - val_loss: 0.3899 - val_accuracy: 0.8235\n",
            "Epoch 157/200\n",
            "9/9 [==============================] - 0s 4ms/step - loss: 0.2680 - accuracy: 0.8939 - val_loss: 0.4459 - val_accuracy: 0.7941\n",
            "Epoch 158/200\n",
            "9/9 [==============================] - 0s 4ms/step - loss: 0.2279 - accuracy: 0.9015 - val_loss: 0.3389 - val_accuracy: 0.8529\n",
            "Epoch 159/200\n",
            "9/9 [==============================] - 0s 4ms/step - loss: 0.2293 - accuracy: 0.9167 - val_loss: 0.3732 - val_accuracy: 0.8235\n",
            "Epoch 160/200\n",
            "9/9 [==============================] - 0s 4ms/step - loss: 0.2663 - accuracy: 0.8561 - val_loss: 0.4374 - val_accuracy: 0.7647\n",
            "Epoch 161/200\n",
            "9/9 [==============================] - 0s 4ms/step - loss: 0.2655 - accuracy: 0.8712 - val_loss: 0.4407 - val_accuracy: 0.7941\n",
            "Epoch 162/200\n",
            "9/9 [==============================] - 0s 4ms/step - loss: 0.2671 - accuracy: 0.8636 - val_loss: 0.4791 - val_accuracy: 0.7647\n",
            "Epoch 163/200\n",
            "9/9 [==============================] - 0s 4ms/step - loss: 0.2420 - accuracy: 0.9015 - val_loss: 0.4547 - val_accuracy: 0.7941\n",
            "Epoch 164/200\n",
            "9/9 [==============================] - 0s 4ms/step - loss: 0.2675 - accuracy: 0.8485 - val_loss: 0.3297 - val_accuracy: 0.8235\n",
            "Epoch 165/200\n",
            "9/9 [==============================] - 0s 5ms/step - loss: 0.2118 - accuracy: 0.9015 - val_loss: 0.3451 - val_accuracy: 0.8235\n",
            "Epoch 166/200\n",
            "9/9 [==============================] - 0s 5ms/step - loss: 0.1978 - accuracy: 0.9167 - val_loss: 0.3619 - val_accuracy: 0.8235\n",
            "Epoch 167/200\n",
            "9/9 [==============================] - 0s 4ms/step - loss: 0.2050 - accuracy: 0.9242 - val_loss: 0.4234 - val_accuracy: 0.7941\n",
            "Epoch 168/200\n",
            "9/9 [==============================] - 0s 4ms/step - loss: 0.2323 - accuracy: 0.8788 - val_loss: 0.4600 - val_accuracy: 0.7941\n",
            "Epoch 169/200\n",
            "9/9 [==============================] - 0s 4ms/step - loss: 0.1922 - accuracy: 0.9394 - val_loss: 0.4699 - val_accuracy: 0.7941\n",
            "Epoch 170/200\n",
            "9/9 [==============================] - 0s 5ms/step - loss: 0.1860 - accuracy: 0.9167 - val_loss: 0.4471 - val_accuracy: 0.7941\n",
            "Epoch 171/200\n",
            "9/9 [==============================] - 0s 4ms/step - loss: 0.2308 - accuracy: 0.9167 - val_loss: 0.4743 - val_accuracy: 0.7647\n",
            "Epoch 172/200\n",
            "9/9 [==============================] - 0s 5ms/step - loss: 0.2377 - accuracy: 0.9091 - val_loss: 0.4026 - val_accuracy: 0.8235\n",
            "Epoch 173/200\n",
            "9/9 [==============================] - 0s 5ms/step - loss: 0.1947 - accuracy: 0.9015 - val_loss: 0.4785 - val_accuracy: 0.8235\n",
            "Epoch 174/200\n",
            "9/9 [==============================] - 0s 4ms/step - loss: 0.2196 - accuracy: 0.9091 - val_loss: 0.4723 - val_accuracy: 0.7941\n",
            "Epoch 175/200\n",
            "9/9 [==============================] - 0s 4ms/step - loss: 0.1786 - accuracy: 0.9091 - val_loss: 0.4497 - val_accuracy: 0.7941\n",
            "Epoch 176/200\n",
            "9/9 [==============================] - 0s 4ms/step - loss: 0.2213 - accuracy: 0.9015 - val_loss: 0.5579 - val_accuracy: 0.7647\n",
            "Epoch 177/200\n",
            "9/9 [==============================] - 0s 5ms/step - loss: 0.2679 - accuracy: 0.8561 - val_loss: 0.4286 - val_accuracy: 0.7941\n",
            "Epoch 178/200\n",
            "9/9 [==============================] - 0s 4ms/step - loss: 0.1709 - accuracy: 0.9318 - val_loss: 0.3677 - val_accuracy: 0.8529\n",
            "Epoch 179/200\n",
            "9/9 [==============================] - 0s 5ms/step - loss: 0.1597 - accuracy: 0.9470 - val_loss: 0.3763 - val_accuracy: 0.8529\n",
            "Epoch 180/200\n",
            "9/9 [==============================] - 0s 5ms/step - loss: 0.2139 - accuracy: 0.9015 - val_loss: 0.4176 - val_accuracy: 0.8235\n",
            "Epoch 181/200\n",
            "9/9 [==============================] - 0s 4ms/step - loss: 0.3175 - accuracy: 0.8561 - val_loss: 0.3977 - val_accuracy: 0.8235\n",
            "Epoch 182/200\n",
            "9/9 [==============================] - 0s 4ms/step - loss: 0.2340 - accuracy: 0.8939 - val_loss: 0.3722 - val_accuracy: 0.8235\n",
            "Epoch 183/200\n",
            "9/9 [==============================] - 0s 4ms/step - loss: 0.2236 - accuracy: 0.9015 - val_loss: 0.4175 - val_accuracy: 0.8235\n",
            "Epoch 184/200\n",
            "9/9 [==============================] - 0s 4ms/step - loss: 0.1701 - accuracy: 0.9318 - val_loss: 0.3998 - val_accuracy: 0.8235\n",
            "Epoch 185/200\n",
            "9/9 [==============================] - 0s 4ms/step - loss: 0.2857 - accuracy: 0.8939 - val_loss: 0.4183 - val_accuracy: 0.7941\n",
            "Epoch 186/200\n",
            "9/9 [==============================] - 0s 5ms/step - loss: 0.1779 - accuracy: 0.9470 - val_loss: 0.4485 - val_accuracy: 0.8235\n",
            "Epoch 187/200\n",
            "9/9 [==============================] - 0s 5ms/step - loss: 0.2212 - accuracy: 0.9394 - val_loss: 0.4013 - val_accuracy: 0.8235\n",
            "Epoch 188/200\n",
            "9/9 [==============================] - 0s 5ms/step - loss: 0.2020 - accuracy: 0.9167 - val_loss: 0.3680 - val_accuracy: 0.8235\n",
            "Epoch 189/200\n",
            "9/9 [==============================] - 0s 4ms/step - loss: 0.1851 - accuracy: 0.9242 - val_loss: 0.3630 - val_accuracy: 0.8235\n",
            "Epoch 190/200\n",
            "9/9 [==============================] - 0s 4ms/step - loss: 0.2268 - accuracy: 0.9167 - val_loss: 0.4172 - val_accuracy: 0.8235\n",
            "Epoch 191/200\n",
            "9/9 [==============================] - 0s 5ms/step - loss: 0.1991 - accuracy: 0.8939 - val_loss: 0.3966 - val_accuracy: 0.8235\n",
            "Epoch 192/200\n",
            "9/9 [==============================] - 0s 5ms/step - loss: 0.2220 - accuracy: 0.9242 - val_loss: 0.5203 - val_accuracy: 0.7647\n",
            "Epoch 193/200\n",
            "9/9 [==============================] - 0s 4ms/step - loss: 0.2057 - accuracy: 0.9091 - val_loss: 0.4687 - val_accuracy: 0.7647\n",
            "Epoch 194/200\n",
            "9/9 [==============================] - 0s 4ms/step - loss: 0.2123 - accuracy: 0.9091 - val_loss: 0.4132 - val_accuracy: 0.8824\n",
            "Epoch 195/200\n",
            "9/9 [==============================] - 0s 4ms/step - loss: 0.2301 - accuracy: 0.9015 - val_loss: 0.4201 - val_accuracy: 0.7941\n",
            "Epoch 196/200\n",
            "9/9 [==============================] - 0s 4ms/step - loss: 0.2104 - accuracy: 0.8939 - val_loss: 0.4339 - val_accuracy: 0.8235\n",
            "Epoch 197/200\n",
            "9/9 [==============================] - 0s 4ms/step - loss: 0.1228 - accuracy: 0.9848 - val_loss: 0.4129 - val_accuracy: 0.8529\n",
            "Epoch 198/200\n",
            "9/9 [==============================] - 0s 5ms/step - loss: 0.1787 - accuracy: 0.9242 - val_loss: 0.4150 - val_accuracy: 0.8235\n",
            "Epoch 199/200\n",
            "9/9 [==============================] - 0s 4ms/step - loss: 0.2292 - accuracy: 0.9167 - val_loss: 0.4175 - val_accuracy: 0.8529\n",
            "Epoch 200/200\n",
            "9/9 [==============================] - 0s 4ms/step - loss: 0.2040 - accuracy: 0.9015 - val_loss: 0.3694 - val_accuracy: 0.8235\n"
          ],
          "name": "stdout"
        },
        {
          "output_type": "display_data",
          "data": {
            "image/png": "[encoded data removed]",
            "text/plain": [
              "<Figure size 432x288 with 1 Axes>"
            ]
          },
          "metadata": {
            "tags": [],
            "needs_background": "light"
          }
        },
        {
          "output_type": "display_data",
          "data": {
            "image/png": "[encoded data removed]",
            "text/plain": [
              "<Figure size 432x288 with 1 Axes>"
            ]
          },
          "metadata": {
            "tags": [],
            "needs_background": "light"
          }
        },
        {
          "output_type": "stream",
          "text": [
            "2/2 [==============================] - 0s 2ms/step - loss: 0.2164 - accuracy: 0.9048\n",
            "[0.2163863629102707, 0.9047619104385376]\n"
          ],
          "name": "stdout"
        }
      ]
    },
    {
      "cell_type": "markdown",
      "metadata": {
        "id": "m9d1hmjKCqLx",
        "colab_type": "text"
      },
      "source": [
        "## 2 Вариант"
      ]
    },
    {
      "cell_type": "code",
      "metadata": {
        "id": "v6Pso1Y0CpiU",
        "colab_type": "code",
        "colab": {
          "base_uri": "https://localhost:8080/",
          "height": 459
        },
        "outputId": "4b24c35f-c898-4605-8cba-66bd44748eae"
      },
      "source": [
        "cars = pd.read_csv('/content/drive/My Drive/cars_new.csv', sep=',')\n",
        "cars"
      ],
      "execution_count": null,
      "outputs": [
        {
          "output_type": "execute_result",
          "data": {
            "text/html": [
              "<div>\n",
              "<style scoped>\n",
              "    .dataframe tbody tr th:only-of-type {\n",
              "        vertical-align: middle;\n",
              "    }\n",
              "\n",
              "    .dataframe tbody tr th {\n",
              "        vertical-align: top;\n",
              "    }\n",
              "\n",
              "    .dataframe thead th {\n",
              "        text-align: right;\n",
              "    }\n",
              "</style>\n",
              "<table border=\"1\" class=\"dataframe\">\n",
              "  <thead>\n",
              "    <tr style=\"text-align: right;\">\n",
              "      <th></th>\n",
              "      <th>mark</th>\n",
              "      <th>model</th>\n",
              "      <th>price</th>\n",
              "      <th>year</th>\n",
              "      <th>mileage</th>\n",
              "      <th>body</th>\n",
              "      <th>kpp</th>\n",
              "      <th>fuel</th>\n",
              "      <th>volume</th>\n",
              "      <th>power</th>\n",
              "    </tr>\n",
              "  </thead>\n",
              "  <tbody>\n",
              "    <tr>\n",
              "      <th>0</th>\n",
              "      <td>kia</td>\n",
              "      <td>cerato</td>\n",
              "      <td>996000</td>\n",
              "      <td>2018</td>\n",
              "      <td>28000</td>\n",
              "      <td>седан</td>\n",
              "      <td>автомат</td>\n",
              "      <td>бензин</td>\n",
              "      <td>2.0</td>\n",
              "      <td>150.0</td>\n",
              "    </tr>\n",
              "    <tr>\n",
              "      <th>1</th>\n",
              "      <td>daewoo</td>\n",
              "      <td>nexia 1 поколение [2-й рестайлинг]</td>\n",
              "      <td>140200</td>\n",
              "      <td>2012</td>\n",
              "      <td>60500</td>\n",
              "      <td>седан</td>\n",
              "      <td>механика</td>\n",
              "      <td>бензин</td>\n",
              "      <td>1.5</td>\n",
              "      <td>80.0</td>\n",
              "    </tr>\n",
              "    <tr>\n",
              "      <th>2</th>\n",
              "      <td>suzuki</td>\n",
              "      <td>jimny 3 поколение [рестайлинг]</td>\n",
              "      <td>750000</td>\n",
              "      <td>2011</td>\n",
              "      <td>29000</td>\n",
              "      <td>внедорожник</td>\n",
              "      <td>автомат</td>\n",
              "      <td>бензин</td>\n",
              "      <td>1.3</td>\n",
              "      <td>85.0</td>\n",
              "    </tr>\n",
              "    <tr>\n",
              "      <th>3</th>\n",
              "      <td>bmw</td>\n",
              "      <td>x1 18 e84 [рестайлинг]</td>\n",
              "      <td>970000</td>\n",
              "      <td>2014</td>\n",
              "      <td>49500</td>\n",
              "      <td>кроссовер</td>\n",
              "      <td>автомат</td>\n",
              "      <td>бензин</td>\n",
              "      <td>2.0</td>\n",
              "      <td>150.0</td>\n",
              "    </tr>\n",
              "    <tr>\n",
              "      <th>4</th>\n",
              "      <td>chevrolet</td>\n",
              "      <td>lacetti 1 поколение</td>\n",
              "      <td>205000</td>\n",
              "      <td>2007</td>\n",
              "      <td>151445</td>\n",
              "      <td>седан</td>\n",
              "      <td>механика</td>\n",
              "      <td>бензин</td>\n",
              "      <td>1.4</td>\n",
              "      <td>95.0</td>\n",
              "    </tr>\n",
              "    <tr>\n",
              "      <th>...</th>\n",
              "      <td>...</td>\n",
              "      <td>...</td>\n",
              "      <td>...</td>\n",
              "      <td>...</td>\n",
              "      <td>...</td>\n",
              "      <td>...</td>\n",
              "      <td>...</td>\n",
              "      <td>...</td>\n",
              "      <td>...</td>\n",
              "      <td>...</td>\n",
              "    </tr>\n",
              "    <tr>\n",
              "      <th>70114</th>\n",
              "      <td>skoda</td>\n",
              "      <td>fabia 5j [рестайлинг]</td>\n",
              "      <td>310000</td>\n",
              "      <td>2011</td>\n",
              "      <td>165000</td>\n",
              "      <td>хетчбэк</td>\n",
              "      <td>механика</td>\n",
              "      <td>бензин</td>\n",
              "      <td>1.2</td>\n",
              "      <td>70.0</td>\n",
              "    </tr>\n",
              "    <tr>\n",
              "      <th>70115</th>\n",
              "      <td>ford</td>\n",
              "      <td>focus 3 поколение</td>\n",
              "      <td>400000</td>\n",
              "      <td>2011</td>\n",
              "      <td>125000</td>\n",
              "      <td>хетчбэк</td>\n",
              "      <td>механика</td>\n",
              "      <td>бензин</td>\n",
              "      <td>1.6</td>\n",
              "      <td>105.0</td>\n",
              "    </tr>\n",
              "    <tr>\n",
              "      <th>70116</th>\n",
              "      <td>mazda</td>\n",
              "      <td>cx-5 1 поколение</td>\n",
              "      <td>1140000</td>\n",
              "      <td>2013</td>\n",
              "      <td>89981</td>\n",
              "      <td>кроссовер</td>\n",
              "      <td>автомат</td>\n",
              "      <td>бензин</td>\n",
              "      <td>2.0</td>\n",
              "      <td>150.0</td>\n",
              "    </tr>\n",
              "    <tr>\n",
              "      <th>70117</th>\n",
              "      <td>toyota</td>\n",
              "      <td>bb 2 поколение</td>\n",
              "      <td>550550</td>\n",
              "      <td>2006</td>\n",
              "      <td>183000</td>\n",
              "      <td>минивэн</td>\n",
              "      <td>автомат</td>\n",
              "      <td>бензин</td>\n",
              "      <td>1.3</td>\n",
              "      <td>92.0</td>\n",
              "    </tr>\n",
              "    <tr>\n",
              "      <th>70118</th>\n",
              "      <td>chevrolet</td>\n",
              "      <td>trailblazer 1 поколение</td>\n",
              "      <td>430000</td>\n",
              "      <td>2004</td>\n",
              "      <td>205000</td>\n",
              "      <td>внедорожник</td>\n",
              "      <td>автомат</td>\n",
              "      <td>бензин</td>\n",
              "      <td>4.2</td>\n",
              "      <td>275.0</td>\n",
              "    </tr>\n",
              "  </tbody>\n",
              "</table>\n",
              "<p>70119 rows × 10 columns</p>\n",
              "</div>"
            ],
            "text/plain": [
              "            mark                               model  ...  volume  power\n",
              "0            kia                              cerato  ...     2.0  150.0\n",
              "1         daewoo  nexia 1 поколение [2-й рестайлинг]  ...     1.5   80.0\n",
              "2         suzuki      jimny 3 поколение [рестайлинг]  ...     1.3   85.0\n",
              "3            bmw              x1 18 e84 [рестайлинг]  ...     2.0  150.0\n",
              "4      chevrolet                 lacetti 1 поколение  ...     1.4   95.0\n",
              "...          ...                                 ...  ...     ...    ...\n",
              "70114      skoda               fabia 5j [рестайлинг]  ...     1.2   70.0\n",
              "70115       ford                   focus 3 поколение  ...     1.6  105.0\n",
              "70116      mazda                    cx-5 1 поколение  ...     2.0  150.0\n",
              "70117     toyota                      bb 2 поколение  ...     1.3   92.0\n",
              "70118  chevrolet             trailblazer 1 поколение  ...     4.2  275.0\n",
              "\n",
              "[70119 rows x 10 columns]"
            ]
          },
          "metadata": {
            "tags": []
          },
          "execution_count": 4
        }
      ]
    },
    {
      "cell_type": "code",
      "metadata": {
        "id": "ROYBKzFZnal5",
        "colab_type": "code",
        "colab": {
          "base_uri": "https://localhost:8080/",
          "height": 35
        },
        "outputId": "973fdfa6-62b5-4eab-8b19-030bbd05c57e"
      },
      "source": [
        "print(cars.values.shape)"
      ],
      "execution_count": null,
      "outputs": [
        {
          "output_type": "stream",
          "text": [
            "(70119, 10)\n"
          ],
          "name": "stdout"
        }
      ]
    },
    {
      "cell_type": "code",
      "metadata": {
        "id": "k-zOnWIsuA4_",
        "colab_type": "code",
        "colab": {}
      },
      "source": [
        "# Создание словаря\n",
        "def create_dict(s):\n",
        "  ret = {}                          \n",
        "  for _id, name in enumerate(s):    \n",
        "    ret.update({name: _id})         \n",
        "  return ret\n",
        "\n",
        "# Функция преобразования в one hot encoding\n",
        "def to_ohe(value, d):\n",
        "  arr = [0] * len(d)\n",
        "  arr[d[value]] = 1\n",
        "  return arr"
      ],
      "execution_count": null,
      "outputs": []
    },
    {
      "cell_type": "code",
      "metadata": {
        "id": "hu43Bjw6a6ow",
        "colab_type": "code",
        "colab": {}
      },
      "source": [
        "# Создание словарей по всем текстовым колонкам\n",
        "marks_dict = create_dict(set(cars['mark']))\n",
        "models_dict = create_dict(set(cars['model']))\n",
        "bodies_dict = create_dict(set(cars['body']))\n",
        "kpps_dict = create_dict(set(cars['kpp']))\n",
        "fuels_dict = create_dict(set(cars['fuel']))\n",
        "\n",
        "# Цены\n",
        "prices = np.array(cars['price'], dtype=np.float)\n",
        "\n",
        "# числовые параметры и нормирование\n",
        "years = preprocessing.scale(cars['year'])\n",
        "mileages = preprocessing.scale(cars['mileage'])\n",
        "volumes = preprocessing.scale(cars['volume'])\n",
        "powers = preprocessing.scale(cars['power'])"
      ],
      "execution_count": null,
      "outputs": []
    },
    {
      "cell_type": "code",
      "metadata": {
        "id": "ej_k-ua_bpJ8",
        "colab_type": "code",
        "colab": {}
      },
      "source": [
        "# Создание пустой обучающей выборки\n",
        "x_train = []\n",
        "y_train = []\n",
        "\n",
        "# Проход по всем машинам\n",
        "for _id, car in enumerate(np.array(cars)):\n",
        "  # Добавление цены в y_train\n",
        "  y_train.append(prices[_id])\n",
        "  \n",
        "  # Объединение всех параметров в x_train\n",
        "  x_tr = to_ohe(car[0], marks_dict) + \\\n",
        "        to_ohe(car[1], models_dict) + \\\n",
        "        to_ohe(car[5], bodies_dict) + \\\n",
        "        to_ohe(car[6], kpps_dict) + \\\n",
        "        to_ohe(car[7], fuels_dict) + \\\n",
        "        [years[_id]] + \\\n",
        "        [mileages[_id]] + \\\n",
        "        [volumes[_id]] + \\\n",
        "        [powers[_id]]\n",
        "  \n",
        "  x_train.append(x_tr)\n",
        "\n",
        "x_train = np.array(x_train, dtype=np.float)\n",
        "y_train = np.array(y_train, dtype=np.float)"
      ],
      "execution_count": null,
      "outputs": []
    },
    {
      "cell_type": "code",
      "metadata": {
        "id": "ItqP7RstcGoB",
        "colab_type": "code",
        "colab": {
          "base_uri": "https://localhost:8080/",
          "height": 54
        },
        "outputId": "6d52c118-dc46-4560-91e8-bfceb41c4604"
      },
      "source": [
        "# Размеры выборок\n",
        "print(x_train.shape)\n",
        "print(y_train.shape)"
      ],
      "execution_count": null,
      "outputs": [
        {
          "output_type": "stream",
          "text": [
            "(70119, 3208)\n",
            "(70119,)\n"
          ],
          "name": "stdout"
        }
      ]
    },
    {
      "cell_type": "code",
      "metadata": {
        "id": "NvyQ7camcOHn",
        "colab_type": "code",
        "colab": {
          "base_uri": "https://localhost:8080/",
          "height": 109
        },
        "outputId": "4e6d678b-3c58-455f-8553-efb5a6d01de5"
      },
      "source": [
        "print(x_train[0,:20])\n",
        "print(x_train[0,-20:])"
      ],
      "execution_count": null,
      "outputs": [
        {
          "output_type": "stream",
          "text": [
            "[0. 0. 0. 0. 0. 0. 0. 0. 0. 0. 0. 0. 0. 1. 0. 0. 0. 0. 0. 0.]\n",
            "[ 0.          0.          0.          0.          0.          0.\n",
            "  0.          0.          0.          1.          0.          0.\n",
            "  0.          1.          0.          0.          1.5200145  -1.40018212\n",
            "  0.12288486  0.22905575]\n"
          ],
          "name": "stdout"
        }
      ]
    },
    {
      "cell_type": "code",
      "metadata": {
        "id": "A4ZfBSTPce4h",
        "colab_type": "code",
        "colab": {
          "base_uri": "https://localhost:8080/",
          "height": 54
        },
        "outputId": "bea692f6-a057-47ef-f181-b5cc855b152f"
      },
      "source": [
        "print(y_train[:10])"
      ],
      "execution_count": null,
      "outputs": [
        {
          "output_type": "stream",
          "text": [
            "[ 996000.  140200.  750000.  970000.  205000.  985000.  589000.  500000.\n",
            " 1320000.  270000.]\n"
          ],
          "name": "stdout"
        }
      ]
    },
    {
      "cell_type": "code",
      "metadata": {
        "id": "MgZmVzCpchhB",
        "colab_type": "code",
        "colab": {
          "base_uri": "https://localhost:8080/",
          "height": 35
        },
        "outputId": "9af9d4d8-c209-41d8-e49b-6b51298a9d37"
      },
      "source": [
        "y_train.shape"
      ],
      "execution_count": null,
      "outputs": [
        {
          "output_type": "execute_result",
          "data": {
            "text/plain": [
              "(70119,)"
            ]
          },
          "metadata": {
            "tags": []
          },
          "execution_count": 12
        }
      ]
    },
    {
      "cell_type": "code",
      "metadata": {
        "id": "9bjuPSZ2cjDg",
        "colab_type": "code",
        "colab": {
          "base_uri": "https://localhost:8080/",
          "height": 35
        },
        "outputId": "b90f8953-3f99-4292-bc4b-b74fd6648a41"
      },
      "source": [
        "y_train.reshape(-1,1).shape"
      ],
      "execution_count": null,
      "outputs": [
        {
          "output_type": "execute_result",
          "data": {
            "text/plain": [
              "(70119, 1)"
            ]
          },
          "metadata": {
            "tags": []
          },
          "execution_count": 13
        }
      ]
    },
    {
      "cell_type": "code",
      "metadata": {
        "id": "1XLZ2D8z2ScT",
        "colab_type": "code",
        "colab": {
          "base_uri": "https://localhost:8080/",
          "height": 146
        },
        "outputId": "3f41da39-c908-4d17-b05f-7ec370548711"
      },
      "source": [
        "y_train.reshape(-1,1)"
      ],
      "execution_count": null,
      "outputs": [
        {
          "output_type": "execute_result",
          "data": {
            "text/plain": [
              "array([[-0.20479438],\n",
              "       [ 0.54078061],\n",
              "       [-0.63770889],\n",
              "       ...,\n",
              "       [ 0.04373062],\n",
              "       [-0.44530244],\n",
              "       [ 1.57496528]])"
            ]
          },
          "metadata": {
            "tags": []
          },
          "execution_count": 39
        }
      ]
    },
    {
      "cell_type": "code",
      "metadata": {
        "id": "fb_djqqrcm5r",
        "colab_type": "code",
        "colab": {}
      },
      "source": [
        "# Нормализация y_train\n",
        "y_scaler = StandardScaler()\n",
        "y_train_scaled = y_scaler.fit_transform(y_train.reshape(-1,1)).flatten()"
      ],
      "execution_count": null,
      "outputs": []
    },
    {
      "cell_type": "code",
      "metadata": {
        "id": "i6E06LAsc0Iu",
        "colab_type": "code",
        "colab": {
          "base_uri": "https://localhost:8080/",
          "height": 35
        },
        "outputId": "2eef7f7f-00a4-45a3-e2c4-620384fe581c"
      },
      "source": [
        "y_train_scaled.shape"
      ],
      "execution_count": null,
      "outputs": [
        {
          "output_type": "execute_result",
          "data": {
            "text/plain": [
              "(70119,)"
            ]
          },
          "metadata": {
            "tags": []
          },
          "execution_count": 15
        }
      ]
    },
    {
      "cell_type": "code",
      "metadata": {
        "id": "L7xg92frc61X",
        "colab_type": "code",
        "colab": {
          "base_uri": "https://localhost:8080/",
          "height": 90
        },
        "outputId": "7a33b3a8-7929-4193-adef-d7fea78c3e1e"
      },
      "source": [
        "# Базовый и нормированный y_train\n",
        "print(y_train[:10])\n",
        "print(y_train_scaled[:10])"
      ],
      "execution_count": null,
      "outputs": [
        {
          "output_type": "stream",
          "text": [
            "[ 996000.  140200.  750000.  970000.  205000.  985000.  589000.  500000.\n",
            " 1320000.  270000.]\n",
            "[ 0.75082432 -0.62135434  0.3563911   0.70913625 -0.51745486  0.73318706\n",
            "  0.09824578 -0.04445567  1.27032173 -0.4132347 ]\n"
          ],
          "name": "stdout"
        }
      ]
    },
    {
      "cell_type": "code",
      "metadata": {
        "id": "RInr-1UDc9oF",
        "colab_type": "code",
        "colab": {
          "base_uri": "https://localhost:8080/",
          "height": 35
        },
        "outputId": "bc1af4df-8eb0-41c1-f86f-001848b1b369"
      },
      "source": [
        "y_scaler.inverse_transform(y_train_scaled)"
      ],
      "execution_count": null,
      "outputs": [
        {
          "output_type": "execute_result",
          "data": {
            "text/plain": [
              "array([ 996000.,  140200.,  750000., ..., 1140000.,  550550.,  430000.])"
            ]
          },
          "metadata": {
            "tags": []
          },
          "execution_count": 17
        }
      ]
    },
    {
      "cell_type": "code",
      "metadata": {
        "id": "kwArw_axg8_L",
        "colab_type": "code",
        "colab": {}
      },
      "source": [
        "def create_model_cars():\n",
        "  # Создание НС\n",
        "  model_ula = Sequential()\n",
        "  # Добавление слоев\n",
        "  model_ula.add(Dropout(0.3, input_shape=(3208, )))\n",
        "  model_ula.add(Dense(3208, activation='relu'))\n",
        "  model_ula.add(Dropout(0.3))\n",
        "  model_ula.add(Dense(1604, activation='relu'))\n",
        "  model_ula.add(Dropout(0.3))\n",
        "  model_ula.add(Dense(802, activation='relu'))\n",
        "  model_ula.add(Dropout(0.3))\n",
        "  model_ula.add(Dense(1, activation='sigmoid'))\n",
        "  # Компиляция НС\n",
        "  model_ula.compile(loss='mse', optimizer=Adam(lr=0.001))\n",
        "\n",
        "  #print(model.summary())\n",
        "\n",
        "  return model_ula"
      ],
      "execution_count": null,
      "outputs": []
    },
    {
      "cell_type": "code",
      "metadata": {
        "id": "CXCW-w3SiSej",
        "colab_type": "code",
        "colab": {}
      },
      "source": [
        "# x_tr_new, x_valid, y_tr_new, y_valid = train_test_split(x_train,\n",
        "#                                                           y_train_scaled,\n",
        "#                                                           test_size=0.2,\n",
        "#                                                           shuffle=True)\n",
        "\n",
        "# print(x_tr_new.shape)\n",
        "# print(x_valid.shape)\n",
        "# print(y_tr_new.shape)\n",
        "# print(y_valid.shape)\n",
        "\n",
        "# model_ula = create_model_cars()\n",
        "\n",
        "# model_ula.fit(x_tr_new, y_tr_new, batch_size=1000, epochs=100, validation_data=(x_valid, y_valid), verbose=True)\n"
      ],
      "execution_count": null,
      "outputs": []
    },
    {
      "cell_type": "code",
      "metadata": {
        "id": "6S2FUpNBxePN",
        "colab_type": "code",
        "colab": {
          "base_uri": "https://localhost:8080/",
          "height": 1000
        },
        "outputId": "d4c178bd-fa95-460a-cd28-83e19346e84b"
      },
      "source": [
        "x_train, x_test, y_train, y_test = train_test_split(x_train,\n",
        "                                                    y_train_scaled,\n",
        "                                                    test_size=0.2,\n",
        "                                                    shuffle=True)\n",
        "\n",
        "print(x_train.shape)\n",
        "print(x_test.shape)\n",
        "print(y_train.shape)\n",
        "print(y_test.shape)\n",
        "\n",
        "model_ula = create_model_cars()\n",
        "\n",
        "model_ula.fit(x_tr_new, y_tr_new, batch_size=1000, epochs=100, verbose=True)\n"
      ],
      "execution_count": null,
      "outputs": [
        {
          "output_type": "stream",
          "text": [
            "(56095, 3208)\n",
            "(14024, 3208)\n",
            "(56095,)\n",
            "(14024,)\n",
            "Epoch 1/100\n",
            "57/57 [==============================] - 2s 31ms/step - loss: 0.7557\n",
            "Epoch 2/100\n",
            "57/57 [==============================] - 2s 30ms/step - loss: 0.7052\n",
            "Epoch 3/100\n",
            "57/57 [==============================] - 2s 30ms/step - loss: 0.6995\n",
            "Epoch 4/100\n",
            "57/57 [==============================] - 2s 30ms/step - loss: 0.6960\n",
            "Epoch 5/100\n",
            "57/57 [==============================] - 2s 30ms/step - loss: 0.6950\n",
            "Epoch 6/100\n",
            "57/57 [==============================] - 2s 30ms/step - loss: 0.6929\n",
            "Epoch 7/100\n",
            "57/57 [==============================] - 2s 30ms/step - loss: 0.6937\n",
            "Epoch 8/100\n",
            "57/57 [==============================] - 2s 30ms/step - loss: 0.6920\n",
            "Epoch 9/100\n",
            "57/57 [==============================] - 2s 30ms/step - loss: 0.6928\n",
            "Epoch 10/100\n",
            "57/57 [==============================] - 2s 30ms/step - loss: 0.6932\n",
            "Epoch 11/100\n",
            "57/57 [==============================] - 2s 30ms/step - loss: 0.6916\n",
            "Epoch 12/100\n",
            "57/57 [==============================] - 2s 30ms/step - loss: 0.6909\n",
            "Epoch 13/100\n",
            "57/57 [==============================] - 2s 30ms/step - loss: 0.6910\n",
            "Epoch 14/100\n",
            "57/57 [==============================] - 2s 30ms/step - loss: 0.6914\n",
            "Epoch 15/100\n",
            "57/57 [==============================] - 2s 29ms/step - loss: 0.6893\n",
            "Epoch 16/100\n",
            "57/57 [==============================] - 2s 30ms/step - loss: 0.6907\n",
            "Epoch 17/100\n",
            "57/57 [==============================] - 2s 29ms/step - loss: 0.6894\n",
            "Epoch 18/100\n",
            "57/57 [==============================] - 2s 30ms/step - loss: 0.6902\n",
            "Epoch 19/100\n",
            "57/57 [==============================] - 2s 30ms/step - loss: 0.6892\n",
            "Epoch 20/100\n",
            "57/57 [==============================] - 2s 29ms/step - loss: 0.6892\n",
            "Epoch 21/100\n",
            "57/57 [==============================] - 2s 29ms/step - loss: 0.6889\n",
            "Epoch 22/100\n",
            "57/57 [==============================] - 2s 29ms/step - loss: 0.6899\n",
            "Epoch 23/100\n",
            "57/57 [==============================] - 2s 29ms/step - loss: 0.6895\n",
            "Epoch 24/100\n",
            "57/57 [==============================] - 2s 29ms/step - loss: 0.6885\n",
            "Epoch 25/100\n",
            "57/57 [==============================] - 2s 29ms/step - loss: 0.6881\n",
            "Epoch 26/100\n",
            "57/57 [==============================] - 2s 29ms/step - loss: 0.6881\n",
            "Epoch 27/100\n",
            "57/57 [==============================] - 2s 29ms/step - loss: 0.6890\n",
            "Epoch 28/100\n",
            "57/57 [==============================] - 2s 29ms/step - loss: 0.6891\n",
            "Epoch 29/100\n",
            "57/57 [==============================] - 2s 29ms/step - loss: 0.6888\n",
            "Epoch 30/100\n",
            "57/57 [==============================] - 2s 29ms/step - loss: 0.6884\n",
            "Epoch 31/100\n",
            "57/57 [==============================] - 2s 29ms/step - loss: 0.6875\n",
            "Epoch 32/100\n",
            "57/57 [==============================] - 2s 29ms/step - loss: 0.6881\n",
            "Epoch 33/100\n",
            "57/57 [==============================] - 2s 29ms/step - loss: 0.6894\n",
            "Epoch 34/100\n",
            "57/57 [==============================] - 2s 29ms/step - loss: 0.6869\n",
            "Epoch 35/100\n",
            "57/57 [==============================] - 2s 29ms/step - loss: 0.6885\n",
            "Epoch 36/100\n",
            "57/57 [==============================] - 2s 29ms/step - loss: 0.6892\n",
            "Epoch 37/100\n",
            "57/57 [==============================] - 2s 29ms/step - loss: 0.6875\n",
            "Epoch 38/100\n",
            "57/57 [==============================] - 2s 29ms/step - loss: 0.6880\n",
            "Epoch 39/100\n",
            "57/57 [==============================] - 2s 29ms/step - loss: 0.6880\n",
            "Epoch 40/100\n",
            "57/57 [==============================] - 2s 29ms/step - loss: 0.6872\n",
            "Epoch 41/100\n",
            "57/57 [==============================] - 2s 29ms/step - loss: 0.6878\n",
            "Epoch 42/100\n",
            "57/57 [==============================] - 2s 29ms/step - loss: 0.6878\n",
            "Epoch 43/100\n",
            "57/57 [==============================] - 2s 29ms/step - loss: 0.6865\n",
            "Epoch 44/100\n",
            "57/57 [==============================] - 2s 29ms/step - loss: 0.6877\n",
            "Epoch 45/100\n",
            "57/57 [==============================] - 2s 29ms/step - loss: 0.6873\n",
            "Epoch 46/100\n",
            "57/57 [==============================] - 2s 29ms/step - loss: 0.6874\n",
            "Epoch 47/100\n",
            "57/57 [==============================] - 2s 29ms/step - loss: 0.6872\n",
            "Epoch 48/100\n",
            "57/57 [==============================] - 2s 29ms/step - loss: 0.6865\n",
            "Epoch 49/100\n",
            "57/57 [==============================] - 2s 29ms/step - loss: 0.6869\n",
            "Epoch 50/100\n",
            "57/57 [==============================] - 2s 29ms/step - loss: 0.6865\n",
            "Epoch 51/100\n",
            "57/57 [==============================] - 2s 29ms/step - loss: 0.6872\n",
            "Epoch 52/100\n",
            "57/57 [==============================] - 2s 29ms/step - loss: 0.6865\n",
            "Epoch 53/100\n",
            "57/57 [==============================] - 2s 29ms/step - loss: 0.6869\n",
            "Epoch 54/100\n",
            "57/57 [==============================] - 2s 29ms/step - loss: 0.6869\n",
            "Epoch 55/100\n",
            "57/57 [==============================] - 2s 29ms/step - loss: 0.6864\n",
            "Epoch 56/100\n",
            "57/57 [==============================] - 2s 29ms/step - loss: 0.6873\n",
            "Epoch 57/100\n",
            "57/57 [==============================] - 2s 29ms/step - loss: 0.6860\n",
            "Epoch 58/100\n",
            "57/57 [==============================] - 2s 29ms/step - loss: 0.6864\n",
            "Epoch 59/100\n",
            "57/57 [==============================] - 2s 29ms/step - loss: 0.6891\n",
            "Epoch 60/100\n",
            "57/57 [==============================] - 2s 29ms/step - loss: 0.6864\n",
            "Epoch 61/100\n",
            "57/57 [==============================] - 2s 29ms/step - loss: 0.6881\n",
            "Epoch 62/100\n",
            "57/57 [==============================] - 2s 29ms/step - loss: 0.6865\n",
            "Epoch 63/100\n",
            "57/57 [==============================] - 2s 29ms/step - loss: 0.6878\n",
            "Epoch 64/100\n",
            "57/57 [==============================] - 2s 29ms/step - loss: 0.6872\n",
            "Epoch 65/100\n",
            "57/57 [==============================] - 2s 29ms/step - loss: 0.6869\n",
            "Epoch 66/100\n",
            "57/57 [==============================] - 2s 29ms/step - loss: 0.6860\n",
            "Epoch 67/100\n",
            "57/57 [==============================] - 2s 29ms/step - loss: 0.6871\n",
            "Epoch 68/100\n",
            "57/57 [==============================] - 2s 29ms/step - loss: 0.6893\n",
            "Epoch 69/100\n",
            "57/57 [==============================] - 2s 29ms/step - loss: 0.6870\n",
            "Epoch 70/100\n",
            "57/57 [==============================] - 2s 29ms/step - loss: 0.6872\n",
            "Epoch 71/100\n",
            "57/57 [==============================] - 2s 29ms/step - loss: 0.6868\n",
            "Epoch 72/100\n",
            "57/57 [==============================] - 2s 29ms/step - loss: 0.6875\n",
            "Epoch 73/100\n",
            "57/57 [==============================] - 2s 29ms/step - loss: 0.6866\n",
            "Epoch 74/100\n",
            "57/57 [==============================] - 2s 29ms/step - loss: 0.6865\n",
            "Epoch 75/100\n",
            "57/57 [==============================] - 2s 29ms/step - loss: 0.6867\n",
            "Epoch 76/100\n",
            "57/57 [==============================] - 2s 29ms/step - loss: 0.6868\n",
            "Epoch 77/100\n",
            "57/57 [==============================] - 2s 29ms/step - loss: 0.6863\n",
            "Epoch 78/100\n",
            "57/57 [==============================] - 2s 29ms/step - loss: 0.6867\n",
            "Epoch 79/100\n",
            "57/57 [==============================] - 2s 29ms/step - loss: 0.6858\n",
            "Epoch 80/100\n",
            "57/57 [==============================] - 2s 28ms/step - loss: 0.6864\n",
            "Epoch 81/100\n",
            "57/57 [==============================] - 2s 29ms/step - loss: 0.6871\n",
            "Epoch 82/100\n",
            "57/57 [==============================] - 2s 28ms/step - loss: 0.6862\n",
            "Epoch 83/100\n",
            "57/57 [==============================] - 2s 29ms/step - loss: 0.6866\n",
            "Epoch 84/100\n",
            "57/57 [==============================] - 2s 29ms/step - loss: 0.6866\n",
            "Epoch 85/100\n",
            "57/57 [==============================] - 2s 28ms/step - loss: 0.6865\n",
            "Epoch 86/100\n",
            "57/57 [==============================] - 2s 28ms/step - loss: 0.6858\n",
            "Epoch 87/100\n",
            "57/57 [==============================] - 2s 29ms/step - loss: 0.6866\n",
            "Epoch 88/100\n",
            "57/57 [==============================] - 2s 28ms/step - loss: 0.6860\n",
            "Epoch 89/100\n",
            "57/57 [==============================] - 2s 28ms/step - loss: 0.6857\n",
            "Epoch 90/100\n",
            "57/57 [==============================] - 2s 29ms/step - loss: 0.6865\n",
            "Epoch 91/100\n",
            "57/57 [==============================] - 2s 29ms/step - loss: 0.6864\n",
            "Epoch 92/100\n",
            "57/57 [==============================] - 2s 28ms/step - loss: 0.6864\n",
            "Epoch 93/100\n",
            "57/57 [==============================] - 2s 29ms/step - loss: 0.6855\n",
            "Epoch 94/100\n",
            "57/57 [==============================] - 2s 29ms/step - loss: 0.6862\n",
            "Epoch 95/100\n",
            "57/57 [==============================] - 2s 29ms/step - loss: 0.6853\n",
            "Epoch 96/100\n",
            "57/57 [==============================] - 2s 29ms/step - loss: 0.6864\n",
            "Epoch 97/100\n",
            "57/57 [==============================] - 2s 28ms/step - loss: 0.6871\n",
            "Epoch 98/100\n",
            "57/57 [==============================] - 2s 28ms/step - loss: 0.6854\n",
            "Epoch 99/100\n",
            "57/57 [==============================] - 2s 29ms/step - loss: 0.6853\n",
            "Epoch 100/100\n",
            "57/57 [==============================] - 2s 28ms/step - loss: 0.6856\n"
          ],
          "name": "stdout"
        },
        {
          "output_type": "execute_result",
          "data": {
            "text/plain": [
              "<tensorflow.python.keras.callbacks.History at 0x7f8410604f98>"
            ]
          },
          "metadata": {
            "tags": []
          },
          "execution_count": 23
        }
      ]
    },
    {
      "cell_type": "code",
      "metadata": {
        "id": "eZFl0VGEhEyq",
        "colab_type": "code",
        "colab": {}
      },
      "source": [
        "predict = model_ula.predict(x_test)"
      ],
      "execution_count": null,
      "outputs": []
    },
    {
      "cell_type": "code",
      "metadata": {
        "id": "v_cg9oNTdS53",
        "colab_type": "code",
        "colab": {
          "base_uri": "https://localhost:8080/",
          "height": 35
        },
        "outputId": "58b242d0-35ca-46a8-ffb0-f6638d6189a8"
      },
      "source": [
        "y_scaler.inverse_transform(y_train_scaled).shape"
      ],
      "execution_count": null,
      "outputs": [
        {
          "output_type": "execute_result",
          "data": {
            "text/plain": [
              "(70119,)"
            ]
          },
          "metadata": {
            "tags": []
          },
          "execution_count": 30
        }
      ]
    },
    {
      "cell_type": "code",
      "metadata": {
        "id": "ysY6AnREdcpb",
        "colab_type": "code",
        "colab": {
          "base_uri": "https://localhost:8080/",
          "height": 54
        },
        "outputId": "bbb97be7-9153-4aaf-f31a-663d6a47de0a"
      },
      "source": [
        "predict_inverse = y_scaler.inverse_transform(predict).flatten()\n",
        "predict_inverse"
      ],
      "execution_count": null,
      "outputs": [
        {
          "output_type": "execute_result",
          "data": {
            "text/plain": [
              "array([723343.8, 527726.1, 527726.1, ..., 527726.1, 527726.1, 754419.8],\n",
              "      dtype=float32)"
            ]
          },
          "metadata": {
            "tags": []
          },
          "execution_count": 31
        }
      ]
    },
    {
      "cell_type": "code",
      "metadata": {
        "id": "UmUdWEAP2y0l",
        "colab_type": "code",
        "colab": {
          "base_uri": "https://localhost:8080/",
          "height": 35
        },
        "outputId": "9347ebf8-de38-4dd3-b90b-f79b0debebff"
      },
      "source": [
        "y_test_inverse = y_scaler.inverse_transform(y_test).flatten()\n",
        "y_test_inverse"
      ],
      "execution_count": null,
      "outputs": [
        {
          "output_type": "execute_result",
          "data": {
            "text/plain": [
              "array([750000., 250000., 425000., ..., 250000., 365000., 880000.])"
            ]
          },
          "metadata": {
            "tags": []
          },
          "execution_count": 45
        }
      ]
    },
    {
      "cell_type": "code",
      "metadata": {
        "id": "4hDvPUko01fT",
        "colab_type": "code",
        "colab": {
          "base_uri": "https://localhost:8080/",
          "height": 146
        },
        "outputId": "797c3830-d511-4594-b874-ce515b0fd637"
      },
      "source": [
        "predict.reshape(-1, 1)"
      ],
      "execution_count": null,
      "outputs": [
        {
          "output_type": "execute_result",
          "data": {
            "text/plain": [
              "array([[3.1365094e-01],\n",
              "       [0.0000000e+00],\n",
              "       [1.9094780e-18],\n",
              "       ...,\n",
              "       [0.0000000e+00],\n",
              "       [4.9364847e-29],\n",
              "       [3.6347774e-01]], dtype=float32)"
            ]
          },
          "metadata": {
            "tags": []
          },
          "execution_count": 42
        }
      ]
    },
    {
      "cell_type": "code",
      "metadata": {
        "id": "Oiji6nvJ1D3k",
        "colab_type": "code",
        "colab": {
          "base_uri": "https://localhost:8080/",
          "height": 54
        },
        "outputId": "d5704411-1d5f-4fd3-cf7d-8b2e3e4f5a1b"
      },
      "source": [
        "y_test"
      ],
      "execution_count": null,
      "outputs": [
        {
          "output_type": "execute_result",
          "data": {
            "text/plain": [
              "array([ 0.3563911 , -0.44530244, -0.1647097 , ..., -0.44530244,\n",
              "       -0.26091293,  0.56483142])"
            ]
          },
          "metadata": {
            "tags": []
          },
          "execution_count": 43
        }
      ]
    },
    {
      "cell_type": "code",
      "metadata": {
        "id": "jhp2EQh-t3x6",
        "colab_type": "code",
        "colab": {
          "base_uri": "https://localhost:8080/",
          "height": 35
        },
        "outputId": "752218cb-2ca4-43fa-bfc4-7249fae1f891"
      },
      "source": [
        "# суммарная ошибка\n",
        "(abs(predict_inverse - y_test_inverse)).mean() / (y_test_inverse.mean())"
      ],
      "execution_count": null,
      "outputs": [
        {
          "output_type": "execute_result",
          "data": {
            "text/plain": [
              "0.4985121035894201"
            ]
          },
          "metadata": {
            "tags": []
          },
          "execution_count": 51
        }
      ]
    },
    {
      "cell_type": "code",
      "metadata": {
        "id": "OwtOM61y3QrO",
        "colab_type": "code",
        "colab": {
          "base_uri": "https://localhost:8080/",
          "height": 54
        },
        "outputId": "adc7f881-2531-41ad-8444-3fddcb38ca8a"
      },
      "source": [
        "abs(predict_inverse - y_test_inverse) / y_test_inverse"
      ],
      "execution_count": null,
      "outputs": [
        {
          "output_type": "execute_result",
          "data": {
            "text/plain": [
              "array([0.03554158, 1.1109045 , 0.24170853, ..., 1.1109045 , 0.445825  ,\n",
              "       0.14270476])"
            ]
          },
          "metadata": {
            "tags": []
          },
          "execution_count": 55
        }
      ]
    },
    {
      "cell_type": "code",
      "metadata": {
        "id": "uD8Jx51Q35ga",
        "colab_type": "code",
        "colab": {}
      },
      "source": [
        ""
      ],
      "execution_count": null,
      "outputs": []
    }
  ]
}