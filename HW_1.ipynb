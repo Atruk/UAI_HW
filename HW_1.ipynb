{
  "nbformat": 4,
  "nbformat_minor": 0,
  "metadata": {
    "colab": {
      "name": "HW_1.ipynb",
      "provenance": [],
      "collapsed_sections": [],
      "toc_visible": true,
      "mount_file_id": "1kTAM-3DALzdPzkvBAEMKJOLsrlT-pxpl",
      "authorship_tag": "ABX9TyPQp8LQ8kxmfF3EROuxwTWQ",
      "include_colab_link": true
    },
    "kernelspec": {
      "name": "python3",
      "display_name": "Python 3"
    },
    "accelerator": "GPU"
  },
  "cells": [
    {
      "cell_type": "markdown",
      "metadata": {
        "id": "view-in-github",
        "colab_type": "text"
      },
      "source": [
        "<a href=\"https://colab.research.google.com/github/Atruk/UAI_HW/blob/master/HW_1.ipynb\" target=\"_parent\"><img src=\"https://colab.research.google.com/assets/colab-badge.svg\" alt=\"Open In Colab\"/></a>"
      ]
    },
    {
      "cell_type": "markdown",
      "metadata": {
        "id": "s4S8tw0SlvZd",
        "colab_type": "text"
      },
      "source": [
        "# Импорт модулей"
      ]
    },
    {
      "cell_type": "code",
      "metadata": {
        "id": "jrC14E_d18iX",
        "colab_type": "code",
        "colab": {}
      },
      "source": [
        "from tensorflow.keras.datasets import mnist\n",
        "from tensorflow.keras.models import Sequential\n",
        "from tensorflow.keras.layers import Dense\n",
        "from tensorflow.keras.optimizers import Adam\n",
        "from tensorflow.keras import utils\n",
        "from tensorflow.keras.preprocessing import image\n",
        "import numpy as np\n",
        "import pandas as pd\n",
        "import pylab\n",
        "from google.colab import files\n",
        "import matplotlib.pyplot as plt\n",
        "from PIL import Image\n",
        "from google.colab import drive\n",
        "from keras.callbacks import History\n",
        "from pprint import pprint\n",
        "\n",
        "%matplotlib inline"
      ],
      "execution_count": null,
      "outputs": []
    },
    {
      "cell_type": "code",
      "metadata": {
        "id": "ZI5e1Zvd0ybU",
        "colab_type": "code",
        "colab": {}
      },
      "source": [
        "#from google.colab import drive\n",
        "#drive.mount('/content/drive')"
      ],
      "execution_count": null,
      "outputs": []
    },
    {
      "cell_type": "markdown",
      "metadata": {
        "id": "6L-nVVC4ANac",
        "colab_type": "text"
      },
      "source": [
        "# Вариант 1"
      ]
    },
    {
      "cell_type": "code",
      "metadata": {
        "id": "CWUoFGGp9dE-",
        "colab_type": "code",
        "colab": {
          "base_uri": "https://localhost:8080/",
          "height": 1000
        },
        "outputId": "37e89197-1bd1-4490-8a8f-3c65df797c7f"
      },
      "source": [
        "def predict_hand_number_simple(n_rec):\n",
        "  # Загрузка данных MNIST\n",
        "  (x_train_org, y_train_org), (x_test_org, y_test_org) = mnist.load_data()\n",
        "\n",
        "  #print(x_train_org[0])\n",
        "\n",
        "  # n = 89 # номер изображения\n",
        "  # plt.imshow(Image.fromarray(x_train_org[n]).convert('RGBA'))\n",
        "  # plt.show()\n",
        "\n",
        "  # Изменение формата входных изображений с 28х28 на 784х1\n",
        "  x_train = x_train_org.reshape(60000, 784)\n",
        "  x_test = x_test_org.reshape(10000, 784)\n",
        "  #print(x_train_org.shape)\n",
        "  # print(x_train.shape)\n",
        "  # print(x_test_org.shape)\n",
        "  # print(x_test.shape)\n",
        "\n",
        "  # Нормализация входных изображений\n",
        "  x_train = x_train.astype('float32')\n",
        "  x_train = x_train / 255\n",
        "  x_test = x_test.astype('float32')\n",
        "  x_test = x_test / 255\n",
        "\n",
        "  # print(y_train_org[0])\n",
        "  # print(utils.to_categorical(y_train_org[0], 10))\n",
        "\n",
        "  # Преобразование ответов в формат one_hot_encoding\n",
        "  y_train = utils.to_categorical(y_train_org, 10)\n",
        "  y_test = utils.to_categorical(y_test_org, 10)\n",
        "\n",
        "  # print(y_train.shape)\n",
        "  # print(y_test.shape)\n",
        "  # #print(y_train[n])\n",
        "  # #print(y_test[n])\n",
        "  # print(y_train_org.shape)\n",
        "  # print(y_test_org.shape)\n",
        "  # print(y_train_org[16])\n",
        "  # print(y_train_org[5])\n",
        "\n",
        "  # Создание НС\n",
        "  model = Sequential()\n",
        "  model.add(Dense(800, input_dim=784, activation='relu'))\n",
        "  model.add(Dense(400, activation='relu'))\n",
        "  model.add(Dense(10, activation='softmax'))\n",
        "  model.compile(loss='categorical_crossentropy', optimizer='adam', metrics=['accuracy'])\n",
        "  print(model.summary())\n",
        "\n",
        "  # Обучение НС\n",
        "  model.fit(x_train, y_train, batch_size=128, epochs=15, verbose=1, validation_split=0.2)\n",
        "\n",
        "  model.save_weights('model.h5')\n",
        "  model.load_weights('model.h5')\n",
        "\n",
        "  # Распознование рукописных цифр\n",
        "  #n_rec = 5245 # номер тестовой цифры, которую нужно распознать\n",
        "  plt.imshow(Image.fromarray(x_test_org[n_rec]).convert('RGBA')) # Отрисовка нужной цифры\n",
        "  plt.show()\n",
        "\n",
        "  x = x_test[n_rec] # Отбор нужного изображения из тестовой выборки\n",
        "  #print(x.shape)\n",
        "\n",
        "  x = np.expand_dims(x, axis=0)\n",
        "  #print(x.shape)\n",
        "\n",
        "  prediction = model.predict(x) # Распознавание выбранного примера\n",
        "  print('Распознавание выбранного примера: ', prediction)\n",
        "\n",
        "  prediction = np.argmax(prediction) # Вывод результата (10 цифр)\n",
        "  print('Вывод результата (10 цифр): ', prediction)\n",
        "\n",
        "  prediction = np.argmax(prediction) # Индекс самого большого элемента - итоговая цифра, которую распознала сеть\n",
        "  print('Индекс самого большого элемента (Итоговая цифра): ', prediction)\n",
        "\n",
        "  print('Правильный ответ: ', y_test_org[n_rec]) # Правильный ответ\n",
        "\n",
        "\n",
        "\n",
        "\n",
        "n_rec = 8223\n",
        "predict_hand_number_simple(n_rec)"
      ],
      "execution_count": null,
      "outputs": [
        {
          "output_type": "stream",
          "text": [
            "Model: \"sequential_1\"\n",
            "_________________________________________________________________\n",
            "Layer (type)                 Output Shape              Param #   \n",
            "=================================================================\n",
            "dense_3 (Dense)              (None, 800)               628000    \n",
            "_________________________________________________________________\n",
            "dense_4 (Dense)              (None, 400)               320400    \n",
            "_________________________________________________________________\n",
            "dense_5 (Dense)              (None, 10)                4010      \n",
            "=================================================================\n",
            "Total params: 952,410\n",
            "Trainable params: 952,410\n",
            "Non-trainable params: 0\n",
            "_________________________________________________________________\n",
            "None\n",
            "Epoch 1/15\n",
            "375/375 [==============================] - 1s 3ms/step - loss: 0.2280 - accuracy: 0.9327 - val_loss: 0.1159 - val_accuracy: 0.9640\n",
            "Epoch 2/15\n",
            "375/375 [==============================] - 1s 3ms/step - loss: 0.0852 - accuracy: 0.9734 - val_loss: 0.0916 - val_accuracy: 0.9716\n",
            "Epoch 3/15\n",
            "375/375 [==============================] - 1s 3ms/step - loss: 0.0509 - accuracy: 0.9840 - val_loss: 0.0936 - val_accuracy: 0.9725\n",
            "Epoch 4/15\n",
            "375/375 [==============================] - 1s 3ms/step - loss: 0.0343 - accuracy: 0.9897 - val_loss: 0.0797 - val_accuracy: 0.9757\n",
            "Epoch 5/15\n",
            "375/375 [==============================] - 1s 3ms/step - loss: 0.0269 - accuracy: 0.9911 - val_loss: 0.1006 - val_accuracy: 0.9735\n",
            "Epoch 6/15\n",
            "375/375 [==============================] - 1s 4ms/step - loss: 0.0249 - accuracy: 0.9912 - val_loss: 0.0966 - val_accuracy: 0.9758\n",
            "Epoch 7/15\n",
            "375/375 [==============================] - 1s 3ms/step - loss: 0.0183 - accuracy: 0.9938 - val_loss: 0.0856 - val_accuracy: 0.9771\n",
            "Epoch 8/15\n",
            "375/375 [==============================] - 1s 3ms/step - loss: 0.0158 - accuracy: 0.9948 - val_loss: 0.1087 - val_accuracy: 0.9732\n",
            "Epoch 9/15\n",
            "375/375 [==============================] - 1s 3ms/step - loss: 0.0156 - accuracy: 0.9946 - val_loss: 0.0978 - val_accuracy: 0.9791\n",
            "Epoch 10/15\n",
            "375/375 [==============================] - 1s 3ms/step - loss: 0.0136 - accuracy: 0.9958 - val_loss: 0.1034 - val_accuracy: 0.9758\n",
            "Epoch 11/15\n",
            "375/375 [==============================] - 1s 3ms/step - loss: 0.0091 - accuracy: 0.9971 - val_loss: 0.1283 - val_accuracy: 0.9745\n",
            "Epoch 12/15\n",
            "375/375 [==============================] - 1s 3ms/step - loss: 0.0148 - accuracy: 0.9953 - val_loss: 0.1150 - val_accuracy: 0.9747\n",
            "Epoch 13/15\n",
            "375/375 [==============================] - 1s 3ms/step - loss: 0.0070 - accuracy: 0.9976 - val_loss: 0.1381 - val_accuracy: 0.9728\n",
            "Epoch 14/15\n",
            "375/375 [==============================] - 1s 3ms/step - loss: 0.0103 - accuracy: 0.9966 - val_loss: 0.1098 - val_accuracy: 0.9791\n",
            "Epoch 15/15\n",
            "375/375 [==============================] - 1s 3ms/step - loss: 0.0102 - accuracy: 0.9969 - val_loss: 0.1104 - val_accuracy: 0.9787\n"
          ],
          "name": "stdout"
        },
        {
          "output_type": "display_data",
          "data": {
            "image/png": "[encoded data removed]",
            "text/plain": [
              "<Figure size 432x288 with 1 Axes>"
            ]
          },
          "metadata": {
            "tags": [],
            "needs_background": "light"
          }
        },
        {
          "output_type": "stream",
          "text": [
            "Распознавание выбранного примера:  [[4.9275456e-10 1.7440417e-11 2.5587092e-06 6.5503657e-13 1.7011206e-12\n",
            "  7.3196423e-12 2.4837121e-09 2.8305431e-13 9.9999750e-01 4.4535033e-09]]\n",
            "Вывод результата (10 цифр):  8\n",
            "Индекс самого большого элемента (Итоговая цифра):  0\n",
            "Правильный ответ:  8\n"
          ],
          "name": "stdout"
        }
      ]
    },
    {
      "cell_type": "markdown",
      "metadata": {
        "id": "A9k9fJDdoRNe",
        "colab_type": "text"
      },
      "source": [
        "# Вариант 2"
      ]
    },
    {
      "cell_type": "code",
      "metadata": {
        "id": "0bVpbqNqk-g4",
        "colab_type": "code",
        "colab": {}
      },
      "source": [
        "def predict_hand_number(n_rec, hidden_size_f, hidden_size_s, activation, batch_size):\n",
        "  # Загрузка данных MNIST\n",
        "  (x_train_org, y_train_org), (x_test_org, y_test_org) = mnist.load_data()\n",
        "\n",
        "  # Изменение формата входных изображений с 28х28 на 784х1\n",
        "  x_train = x_train_org.reshape(60000, 784)\n",
        "  x_test = x_test_org.reshape(10000, 784)\n",
        "\n",
        "  # Нормализация входных изображений\n",
        "  x_train = x_train.astype('float32')\n",
        "  x_train = x_train / 255\n",
        "  x_test = x_test.astype('float32')\n",
        "  x_test = x_test / 255\n",
        "\n",
        "  # Преобразование ответов в формат one_hot_encoding\n",
        "  y_train = utils.to_categorical(y_train_org, 10)\n",
        "  y_test = utils.to_categorical(y_test_org, 10)\n",
        "\n",
        "  history = History()\n",
        "\n",
        "  # Создание НС\n",
        "  model = Sequential()\n",
        "  model.add(Dense(hidden_size_f, input_dim=784, activation=activation))\n",
        "  model.add(Dense(hidden_size_s, activation=activation))\n",
        "  model.add(Dense(10, activation='softmax'))\n",
        "  model.compile(loss='categorical_crossentropy', optimizer='adam', metrics=['accuracy'])\n",
        "  print(model.summary())\n",
        "\n",
        "  # Обучение НС\n",
        "  history = model.fit(x_train, y_train, batch_size=batch_size, epochs=15, verbose=1, validation_split=0.2)\n",
        "  print(history.history.keys())\n",
        "  #pprint(history.history)\n",
        "  df = pd.DataFrame(history.history)\n",
        "  pprint(df)\n",
        "\n",
        "  model.save_weights('model.h5')\n",
        "  model.load_weights('model.h5')\n",
        "\n",
        "  # Обучение и проверка точности значений\n",
        "  plt.plot(history.history['accuracy'])\n",
        "  plt.plot(history.history['val_accuracy'])\n",
        "  plt.title('Точность модели')\n",
        "  plt.xlabel('Epoch')\n",
        "  plt.ylabel('Accuracy')\n",
        "  plt.legend(['Train', 'Test'], loc='upper left')\n",
        "  plt.show()\n",
        "\n",
        "  # Распознавание рукописных цифр\n",
        "  #n_rec = 5245 # номер тестовой цифры, которую нужно распознать\n",
        "  plt.imshow(Image.fromarray(x_test_org[n_rec]).convert('RGBA')) # Отрисовка нужной цифры\n",
        "  plt.show()\n",
        "\n",
        "  x = x_test[n_rec] # Отбор нужного изображения из тестовой выборки\n",
        "  #print(x.shape)\n",
        "\n",
        "  x = np.expand_dims(x, axis=0)\n",
        "  #print(x.shape)\n",
        "\n",
        "  prediction = model.predict(x) # Распознавание выбранного примера\n",
        "  print('Распознавание выбранного примера: ', prediction)\n",
        "\n",
        "  prediction = np.argmax(prediction) # Вывод результата (10 цифр)\n",
        "  print('Вывод результата (10 цифр): ', prediction)\n",
        "\n",
        "  prediction = np.argmax(prediction) # Индекс самого большого элемента - итоговая цифра, которую распознала сеть\n",
        "  print('Индекс самого большого элемента (Итоговая цифра): ', prediction)\n",
        "\n",
        "  print('Правильный ответ: ', y_test_org[n_rec]) # Правильный ответ\n",
        "\n",
        "  return df"
      ],
      "execution_count": null,
      "outputs": []
    },
    {
      "cell_type": "code",
      "metadata": {
        "id": "d_T4APZGEnnk",
        "colab_type": "code",
        "colab": {}
      },
      "source": [
        "hidden_size_f = [800, 10, 100, 5000]\n",
        "hidden_size_s = [400, 5, 50, 2500]\n",
        "activation = ['relu', 'linear']\n",
        "batch_size = [128, 1, 10, 100, 60000]"
      ],
      "execution_count": null,
      "outputs": []
    },
    {
      "cell_type": "code",
      "metadata": {
        "id": "O1WP2zQCPk8g",
        "colab_type": "code",
        "colab": {
          "base_uri": "https://localhost:8080/",
          "height": 1000
        },
        "outputId": "819bff91-6d82-4a72-d93a-0cc96680c190"
      },
      "source": [
        "df1 = predict_hand_number(545, hidden_size_f[0], hidden_size_s[0], activation[0], batch_size[0])\n",
        "df1_m = df1['val_accuracy'].mean()"
      ],
      "execution_count": null,
      "outputs": [
        {
          "output_type": "stream",
          "text": [
            "Model: \"sequential_23\"\n",
            "_________________________________________________________________\n",
            "Layer (type)                 Output Shape              Param #   \n",
            "=================================================================\n",
            "dense_69 (Dense)             (None, 800)               628000    \n",
            "_________________________________________________________________\n",
            "dense_70 (Dense)             (None, 400)               320400    \n",
            "_________________________________________________________________\n",
            "dense_71 (Dense)             (None, 10)                4010      \n",
            "=================================================================\n",
            "Total params: 952,410\n",
            "Trainable params: 952,410\n",
            "Non-trainable params: 0\n",
            "_________________________________________________________________\n",
            "None\n",
            "Epoch 1/15\n",
            "375/375 [==============================] - 1s 3ms/step - loss: 0.2277 - accuracy: 0.9323 - val_loss: 0.1310 - val_accuracy: 0.9612\n",
            "Epoch 2/15\n",
            "375/375 [==============================] - 1s 3ms/step - loss: 0.0816 - accuracy: 0.9756 - val_loss: 0.1010 - val_accuracy: 0.9684\n",
            "Epoch 3/15\n",
            "375/375 [==============================] - 1s 3ms/step - loss: 0.0507 - accuracy: 0.9842 - val_loss: 0.0910 - val_accuracy: 0.9727\n",
            "Epoch 4/15\n",
            "375/375 [==============================] - 1s 3ms/step - loss: 0.0338 - accuracy: 0.9890 - val_loss: 0.0826 - val_accuracy: 0.9762\n",
            "Epoch 5/15\n",
            "375/375 [==============================] - 1s 3ms/step - loss: 0.0254 - accuracy: 0.9920 - val_loss: 0.0959 - val_accuracy: 0.9753\n",
            "Epoch 6/15\n",
            "375/375 [==============================] - 1s 3ms/step - loss: 0.0222 - accuracy: 0.9927 - val_loss: 0.0950 - val_accuracy: 0.9753\n",
            "Epoch 7/15\n",
            "375/375 [==============================] - 1s 3ms/step - loss: 0.0183 - accuracy: 0.9939 - val_loss: 0.0979 - val_accuracy: 0.9748\n",
            "Epoch 8/15\n",
            "375/375 [==============================] - 1s 3ms/step - loss: 0.0165 - accuracy: 0.9946 - val_loss: 0.1047 - val_accuracy: 0.9752\n",
            "Epoch 9/15\n",
            "375/375 [==============================] - 1s 3ms/step - loss: 0.0139 - accuracy: 0.9953 - val_loss: 0.0905 - val_accuracy: 0.9793\n",
            "Epoch 10/15\n",
            "375/375 [==============================] - 1s 3ms/step - loss: 0.0153 - accuracy: 0.9951 - val_loss: 0.0905 - val_accuracy: 0.9791\n",
            "Epoch 11/15\n",
            "375/375 [==============================] - 1s 3ms/step - loss: 0.0100 - accuracy: 0.9968 - val_loss: 0.1034 - val_accuracy: 0.9803\n",
            "Epoch 12/15\n",
            "375/375 [==============================] - 1s 3ms/step - loss: 0.0137 - accuracy: 0.9954 - val_loss: 0.1003 - val_accuracy: 0.9791\n",
            "Epoch 13/15\n",
            "375/375 [==============================] - 1s 3ms/step - loss: 0.0064 - accuracy: 0.9979 - val_loss: 0.1087 - val_accuracy: 0.9786\n",
            "Epoch 14/15\n",
            "375/375 [==============================] - 1s 3ms/step - loss: 0.0166 - accuracy: 0.9953 - val_loss: 0.1059 - val_accuracy: 0.9793\n",
            "Epoch 15/15\n",
            "375/375 [==============================] - 1s 3ms/step - loss: 0.0070 - accuracy: 0.9979 - val_loss: 0.1161 - val_accuracy: 0.9799\n",
            "dict_keys(['loss', 'accuracy', 'val_loss', 'val_accuracy'])\n",
            "        loss  accuracy  val_loss  val_accuracy\n",
            "0   0.227698  0.932250  0.130968      0.961167\n",
            "1   0.081646  0.975583  0.100995      0.968417\n",
            "2   0.050684  0.984208  0.090982      0.972667\n",
            "3   0.033818  0.989042  0.082580      0.976250\n",
            "4   0.025408  0.992021  0.095855      0.975333\n",
            "5   0.022215  0.992688  0.094957      0.975333\n",
            "6   0.018340  0.993854  0.097895      0.974833\n",
            "7   0.016490  0.994625  0.104730      0.975167\n",
            "8   0.013889  0.995313  0.090464      0.979250\n",
            "9   0.015293  0.995083  0.090542      0.979083\n",
            "10  0.010025  0.996771  0.103393      0.980333\n",
            "11  0.013732  0.995375  0.100332      0.979083\n",
            "12  0.006438  0.997854  0.108665      0.978583\n",
            "13  0.016635  0.995313  0.105947      0.979250\n",
            "14  0.007032  0.997917  0.116093      0.979917\n"
          ],
          "name": "stdout"
        },
        {
          "output_type": "display_data",
          "data": {
            "image/png": "[encoded data removed]",
            "text/plain": [
              "<Figure size 432x288 with 1 Axes>"
            ]
          },
          "metadata": {
            "tags": [],
            "needs_background": "light"
          }
        },
        {
          "output_type": "display_data",
          "data": {
            "image/png": "[encoded data removed]",
            "text/plain": [
              "<Figure size 432x288 with 1 Axes>"
            ]
          },
          "metadata": {
            "tags": [],
            "needs_background": "light"
          }
        },
        {
          "output_type": "stream",
          "text": [
            "WARNING:tensorflow:11 out of the last 11 calls to <function Model.make_predict_function.<locals>.predict_function at 0x7f595c26d158> triggered tf.function retracing. Tracing is expensive and the excessive number of tracings could be due to (1) creating @tf.function repeatedly in a loop, (2) passing tensors with different shapes, (3) passing Python objects instead of tensors. For (1), please define your @tf.function outside of the loop. For (2), @tf.function has experimental_relax_shapes=True option that relaxes argument shapes that can avoid unnecessary retracing. For (3), please refer to https://www.tensorflow.org/tutorials/customization/performance#python_or_tensor_args and https://www.tensorflow.org/api_docs/python/tf/function for  more details.\n",
            "Распознавание выбранного примера:  [[9.8529643e-01 3.6598542e-09 1.4693521e-02 3.3627236e-11 1.7032999e-08\n",
            "  9.0943713e-13 1.6194546e-08 7.2763169e-07 5.5326372e-11 9.3353656e-06]]\n",
            "Вывод результата (10 цифр):  0\n",
            "Индекс самого большого элемента (Итоговая цифра):  0\n",
            "Правильный ответ:  0\n"
          ],
          "name": "stdout"
        }
      ]
    },
    {
      "cell_type": "code",
      "metadata": {
        "id": "GV85H8mB_Y31",
        "colab_type": "code",
        "colab": {
          "base_uri": "https://localhost:8080/",
          "height": 1000
        },
        "outputId": "c3fb3d4c-37f8-427c-9573-a6098ff6f613"
      },
      "source": [
        "df2 = predict_hand_number(12, hidden_size_f[0], hidden_size_s[0], activation[0], batch_size[0])\n",
        "df2_m = df2['val_accuracy'].mean()"
      ],
      "execution_count": null,
      "outputs": [
        {
          "output_type": "stream",
          "text": [
            "Model: \"sequential_24\"\n",
            "_________________________________________________________________\n",
            "Layer (type)                 Output Shape              Param #   \n",
            "=================================================================\n",
            "dense_72 (Dense)             (None, 800)               628000    \n",
            "_________________________________________________________________\n",
            "dense_73 (Dense)             (None, 400)               320400    \n",
            "_________________________________________________________________\n",
            "dense_74 (Dense)             (None, 10)                4010      \n",
            "=================================================================\n",
            "Total params: 952,410\n",
            "Trainable params: 952,410\n",
            "Non-trainable params: 0\n",
            "_________________________________________________________________\n",
            "None\n",
            "Epoch 1/15\n",
            "  1/375 [..............................] - ETA: 0s - loss: 2.3736 - accuracy: 0.1250WARNING:tensorflow:Callbacks method `on_train_batch_end` is slow compared to the batch time (batch time: 0.0017s vs `on_train_batch_end` time: 0.0030s). Check your callbacks.\n",
            "375/375 [==============================] - 1s 3ms/step - loss: 0.2312 - accuracy: 0.9296 - val_loss: 0.1070 - val_accuracy: 0.9678\n",
            "Epoch 2/15\n",
            "375/375 [==============================] - 1s 3ms/step - loss: 0.0832 - accuracy: 0.9740 - val_loss: 0.0867 - val_accuracy: 0.9728\n",
            "Epoch 3/15\n",
            "375/375 [==============================] - 1s 3ms/step - loss: 0.0516 - accuracy: 0.9839 - val_loss: 0.0835 - val_accuracy: 0.9744\n",
            "Epoch 4/15\n",
            "375/375 [==============================] - 1s 3ms/step - loss: 0.0362 - accuracy: 0.9887 - val_loss: 0.0809 - val_accuracy: 0.9778\n",
            "Epoch 5/15\n",
            "375/375 [==============================] - 1s 3ms/step - loss: 0.0244 - accuracy: 0.9925 - val_loss: 0.0864 - val_accuracy: 0.9760\n",
            "Epoch 6/15\n",
            "375/375 [==============================] - 1s 3ms/step - loss: 0.0208 - accuracy: 0.9933 - val_loss: 0.0903 - val_accuracy: 0.9773\n",
            "Epoch 7/15\n",
            "375/375 [==============================] - 1s 3ms/step - loss: 0.0187 - accuracy: 0.9940 - val_loss: 0.0935 - val_accuracy: 0.9757\n",
            "Epoch 8/15\n",
            "375/375 [==============================] - 1s 3ms/step - loss: 0.0156 - accuracy: 0.9948 - val_loss: 0.0947 - val_accuracy: 0.9790\n",
            "Epoch 9/15\n",
            "375/375 [==============================] - 1s 3ms/step - loss: 0.0140 - accuracy: 0.9955 - val_loss: 0.0867 - val_accuracy: 0.9800\n",
            "Epoch 10/15\n",
            "375/375 [==============================] - 1s 3ms/step - loss: 0.0125 - accuracy: 0.9963 - val_loss: 0.1068 - val_accuracy: 0.9779\n",
            "Epoch 11/15\n",
            "375/375 [==============================] - 1s 3ms/step - loss: 0.0126 - accuracy: 0.9957 - val_loss: 0.0988 - val_accuracy: 0.9782\n",
            "Epoch 12/15\n",
            "375/375 [==============================] - 1s 3ms/step - loss: 0.0101 - accuracy: 0.9965 - val_loss: 0.1205 - val_accuracy: 0.9745\n",
            "Epoch 13/15\n",
            "375/375 [==============================] - 1s 3ms/step - loss: 0.0125 - accuracy: 0.9962 - val_loss: 0.0981 - val_accuracy: 0.9794\n",
            "Epoch 14/15\n",
            "375/375 [==============================] - 1s 3ms/step - loss: 0.0090 - accuracy: 0.9970 - val_loss: 0.1185 - val_accuracy: 0.9756\n",
            "Epoch 15/15\n",
            "375/375 [==============================] - 1s 3ms/step - loss: 0.0078 - accuracy: 0.9972 - val_loss: 0.1191 - val_accuracy: 0.9798\n",
            "dict_keys(['loss', 'accuracy', 'val_loss', 'val_accuracy'])\n",
            "        loss  accuracy  val_loss  val_accuracy\n",
            "0   0.231168  0.929625  0.106992      0.967833\n",
            "1   0.083173  0.974021  0.086699      0.972833\n",
            "2   0.051567  0.983896  0.083459      0.974417\n",
            "3   0.036188  0.988688  0.080878      0.977750\n",
            "4   0.024356  0.992521  0.086402      0.976000\n",
            "5   0.020794  0.993271  0.090271      0.977333\n",
            "6   0.018672  0.993958  0.093487      0.975667\n",
            "7   0.015637  0.994792  0.094728      0.979000\n",
            "8   0.013953  0.995479  0.086668      0.980000\n",
            "9   0.012532  0.996271  0.106754      0.977917\n",
            "10  0.012635  0.995708  0.098822      0.978167\n",
            "11  0.010086  0.996542  0.120542      0.974500\n",
            "12  0.012540  0.996167  0.098124      0.979417\n",
            "13  0.009029  0.997021  0.118549      0.975583\n",
            "14  0.007780  0.997208  0.119118      0.979833\n"
          ],
          "name": "stdout"
        },
        {
          "output_type": "display_data",
          "data": {
            "image/png": "[encoded data removed]",
            "text/plain": [
              "<Figure size 432x288 with 1 Axes>"
            ]
          },
          "metadata": {
            "tags": [],
            "needs_background": "light"
          }
        },
        {
          "output_type": "display_data",
          "data": {
            "image/png": "[encoded data removed]",
            "text/plain": [
              "<Figure size 432x288 with 1 Axes>"
            ]
          },
          "metadata": {
            "tags": [],
            "needs_background": "light"
          }
        },
        {
          "output_type": "stream",
          "text": [
            "WARNING:tensorflow:11 out of the last 11 calls to <function Model.make_predict_function.<locals>.predict_function at 0x7f5964c42d08> triggered tf.function retracing. Tracing is expensive and the excessive number of tracings could be due to (1) creating @tf.function repeatedly in a loop, (2) passing tensors with different shapes, (3) passing Python objects instead of tensors. For (1), please define your @tf.function outside of the loop. For (2), @tf.function has experimental_relax_shapes=True option that relaxes argument shapes that can avoid unnecessary retracing. For (3), please refer to https://www.tensorflow.org/tutorials/customization/performance#python_or_tensor_args and https://www.tensorflow.org/api_docs/python/tf/function for  more details.\n",
            "Распознавание выбранного примера:  [[1.9980897e-16 4.9165828e-14 2.0499921e-12 3.2065989e-11 1.1991188e-08\n",
            "  6.8532097e-11 1.2163024e-16 1.7784299e-12 1.3785703e-11 1.0000000e+00]]\n",
            "Вывод результата (10 цифр):  9\n",
            "Индекс самого большого элемента (Итоговая цифра):  0\n",
            "Правильный ответ:  9\n"
          ],
          "name": "stdout"
        }
      ]
    },
    {
      "cell_type": "code",
      "metadata": {
        "id": "JgCogFVqK94j",
        "colab_type": "code",
        "colab": {
          "base_uri": "https://localhost:8080/",
          "height": 1000
        },
        "outputId": "0e2c1e0f-56a9-4000-dfb6-0911b4867fea"
      },
      "source": [
        "df3 = predict_hand_number(1256, hidden_size_f[1], hidden_size_s[1], activation[0], batch_size[0])\n",
        "df3_m = df3['val_accuracy'].mean()"
      ],
      "execution_count": null,
      "outputs": [
        {
          "output_type": "stream",
          "text": [
            "Model: \"sequential_28\"\n",
            "_________________________________________________________________\n",
            "Layer (type)                 Output Shape              Param #   \n",
            "=================================================================\n",
            "dense_84 (Dense)             (None, 10)                7850      \n",
            "_________________________________________________________________\n",
            "dense_85 (Dense)             (None, 5)                 55        \n",
            "_________________________________________________________________\n",
            "dense_86 (Dense)             (None, 10)                60        \n",
            "=================================================================\n",
            "Total params: 7,965\n",
            "Trainable params: 7,965\n",
            "Non-trainable params: 0\n",
            "_________________________________________________________________\n",
            "None\n",
            "Epoch 1/15\n",
            "375/375 [==============================] - 1s 3ms/step - loss: 1.6259 - accuracy: 0.4320 - val_loss: 1.0162 - val_accuracy: 0.6998\n",
            "Epoch 2/15\n",
            "375/375 [==============================] - 1s 3ms/step - loss: 0.6866 - accuracy: 0.8066 - val_loss: 0.4726 - val_accuracy: 0.8721\n",
            "Epoch 3/15\n",
            "375/375 [==============================] - 1s 3ms/step - loss: 0.4420 - accuracy: 0.8798 - val_loss: 0.3866 - val_accuracy: 0.8963\n",
            "Epoch 4/15\n",
            "375/375 [==============================] - 1s 3ms/step - loss: 0.3848 - accuracy: 0.8946 - val_loss: 0.3552 - val_accuracy: 0.9017\n",
            "Epoch 5/15\n",
            "375/375 [==============================] - 1s 3ms/step - loss: 0.3541 - accuracy: 0.9034 - val_loss: 0.3351 - val_accuracy: 0.9047\n",
            "Epoch 6/15\n",
            "375/375 [==============================] - 1s 3ms/step - loss: 0.3347 - accuracy: 0.9087 - val_loss: 0.3255 - val_accuracy: 0.9099\n",
            "Epoch 7/15\n",
            "375/375 [==============================] - 1s 3ms/step - loss: 0.3197 - accuracy: 0.9117 - val_loss: 0.3111 - val_accuracy: 0.9093\n",
            "Epoch 8/15\n",
            "375/375 [==============================] - 1s 3ms/step - loss: 0.3086 - accuracy: 0.9147 - val_loss: 0.3134 - val_accuracy: 0.9104\n",
            "Epoch 9/15\n",
            "375/375 [==============================] - 1s 3ms/step - loss: 0.2997 - accuracy: 0.9173 - val_loss: 0.2969 - val_accuracy: 0.9135\n",
            "Epoch 10/15\n",
            "375/375 [==============================] - 1s 3ms/step - loss: 0.2925 - accuracy: 0.9192 - val_loss: 0.2938 - val_accuracy: 0.9168\n",
            "Epoch 11/15\n",
            "375/375 [==============================] - 1s 3ms/step - loss: 0.2846 - accuracy: 0.9209 - val_loss: 0.2874 - val_accuracy: 0.9177\n",
            "Epoch 12/15\n",
            "375/375 [==============================] - 1s 3ms/step - loss: 0.2798 - accuracy: 0.9221 - val_loss: 0.2925 - val_accuracy: 0.9162\n",
            "Epoch 13/15\n",
            "375/375 [==============================] - 1s 3ms/step - loss: 0.2748 - accuracy: 0.9241 - val_loss: 0.2834 - val_accuracy: 0.9173\n",
            "Epoch 14/15\n",
            "375/375 [==============================] - 1s 3ms/step - loss: 0.2702 - accuracy: 0.9251 - val_loss: 0.2798 - val_accuracy: 0.9201\n",
            "Epoch 15/15\n",
            "375/375 [==============================] - 1s 3ms/step - loss: 0.2656 - accuracy: 0.9256 - val_loss: 0.2843 - val_accuracy: 0.9181\n",
            "dict_keys(['loss', 'accuracy', 'val_loss', 'val_accuracy'])\n",
            "        loss  accuracy  val_loss  val_accuracy\n",
            "0   1.625866  0.431979  1.016187      0.699833\n",
            "1   0.686582  0.806646  0.472580      0.872083\n",
            "2   0.442013  0.879771  0.386560      0.896250\n",
            "3   0.384792  0.894646  0.355227      0.901667\n",
            "4   0.354086  0.903375  0.335130      0.904750\n",
            "5   0.334736  0.908750  0.325483      0.909917\n",
            "6   0.319665  0.911708  0.311134      0.909333\n",
            "7   0.308614  0.914667  0.313425      0.910417\n",
            "8   0.299650  0.917271  0.296944      0.913500\n",
            "9   0.292476  0.919167  0.293812      0.916833\n",
            "10  0.284625  0.920917  0.287406      0.917667\n",
            "11  0.279784  0.922104  0.292461      0.916167\n",
            "12  0.274808  0.924125  0.283392      0.917333\n",
            "13  0.270191  0.925146  0.279842      0.920083\n",
            "14  0.265602  0.925646  0.284303      0.918083\n"
          ],
          "name": "stdout"
        },
        {
          "output_type": "display_data",
          "data": {
            "image/png": "[encoded data removed]",
            "text/plain": [
              "<Figure size 432x288 with 1 Axes>"
            ]
          },
          "metadata": {
            "tags": [],
            "needs_background": "light"
          }
        },
        {
          "output_type": "display_data",
          "data": {
            "image/png": "[encoded data removed]",
            "text/plain": [
              "<Figure size 432x288 with 1 Axes>"
            ]
          },
          "metadata": {
            "tags": [],
            "needs_background": "light"
          }
        },
        {
          "output_type": "stream",
          "text": [
            "WARNING:tensorflow:11 out of the last 11 calls to <function Model.make_predict_function.<locals>.predict_function at 0x7f5964808ae8> triggered tf.function retracing. Tracing is expensive and the excessive number of tracings could be due to (1) creating @tf.function repeatedly in a loop, (2) passing tensors with different shapes, (3) passing Python objects instead of tensors. For (1), please define your @tf.function outside of the loop. For (2), @tf.function has experimental_relax_shapes=True option that relaxes argument shapes that can avoid unnecessary retracing. For (3), please refer to https://www.tensorflow.org/tutorials/customization/performance#python_or_tensor_args and https://www.tensorflow.org/api_docs/python/tf/function for  more details.\n",
            "Распознавание выбранного примера:  [[5.4149938e-01 1.3136646e-08 1.6757591e-01 2.2602803e-01 5.9138060e-06\n",
            "  1.6054794e-02 5.1467705e-05 8.8891685e-03 2.9044846e-02 1.0850452e-02]]\n",
            "Вывод результата (10 цифр):  0\n",
            "Индекс самого большого элемента (Итоговая цифра):  0\n",
            "Правильный ответ:  2\n"
          ],
          "name": "stdout"
        }
      ]
    },
    {
      "cell_type": "code",
      "metadata": {
        "id": "BBXRr0PeLXir",
        "colab_type": "code",
        "colab": {
          "base_uri": "https://localhost:8080/",
          "height": 1000
        },
        "outputId": "df06ccfe-d35c-40c0-86ef-cb853d2adad8"
      },
      "source": [
        "df4 = predict_hand_number(5435, hidden_size_f[2], hidden_size_s[2], activation[0], batch_size[0])\n",
        "df4_m = df4['val_accuracy'].mean()"
      ],
      "execution_count": null,
      "outputs": [
        {
          "output_type": "stream",
          "text": [
            "Model: \"sequential_29\"\n",
            "_________________________________________________________________\n",
            "Layer (type)                 Output Shape              Param #   \n",
            "=================================================================\n",
            "dense_87 (Dense)             (None, 100)               78500     \n",
            "_________________________________________________________________\n",
            "dense_88 (Dense)             (None, 50)                5050      \n",
            "_________________________________________________________________\n",
            "dense_89 (Dense)             (None, 10)                510       \n",
            "=================================================================\n",
            "Total params: 84,060\n",
            "Trainable params: 84,060\n",
            "Non-trainable params: 0\n",
            "_________________________________________________________________\n",
            "None\n",
            "Epoch 1/15\n",
            "375/375 [==============================] - 1s 3ms/step - loss: 0.3878 - accuracy: 0.8910 - val_loss: 0.1946 - val_accuracy: 0.9453\n",
            "Epoch 2/15\n",
            "375/375 [==============================] - 1s 3ms/step - loss: 0.1601 - accuracy: 0.9526 - val_loss: 0.1631 - val_accuracy: 0.9538\n",
            "Epoch 3/15\n",
            "375/375 [==============================] - 1s 3ms/step - loss: 0.1150 - accuracy: 0.9666 - val_loss: 0.1245 - val_accuracy: 0.9613\n",
            "Epoch 4/15\n",
            "375/375 [==============================] - 1s 3ms/step - loss: 0.0915 - accuracy: 0.9726 - val_loss: 0.1075 - val_accuracy: 0.9679\n",
            "Epoch 5/15\n",
            "375/375 [==============================] - 1s 3ms/step - loss: 0.0723 - accuracy: 0.9786 - val_loss: 0.1045 - val_accuracy: 0.9671\n",
            "Epoch 6/15\n",
            "375/375 [==============================] - 1s 3ms/step - loss: 0.0592 - accuracy: 0.9824 - val_loss: 0.1264 - val_accuracy: 0.9657\n",
            "Epoch 7/15\n",
            "375/375 [==============================] - 1s 3ms/step - loss: 0.0495 - accuracy: 0.9854 - val_loss: 0.0948 - val_accuracy: 0.9720\n",
            "Epoch 8/15\n",
            "375/375 [==============================] - 1s 3ms/step - loss: 0.0415 - accuracy: 0.9878 - val_loss: 0.0994 - val_accuracy: 0.9708\n",
            "Epoch 9/15\n",
            "375/375 [==============================] - 1s 3ms/step - loss: 0.0340 - accuracy: 0.9896 - val_loss: 0.1031 - val_accuracy: 0.9709\n",
            "Epoch 10/15\n",
            "375/375 [==============================] - 1s 3ms/step - loss: 0.0301 - accuracy: 0.9910 - val_loss: 0.1011 - val_accuracy: 0.9728\n",
            "Epoch 11/15\n",
            "375/375 [==============================] - 1s 3ms/step - loss: 0.0253 - accuracy: 0.9924 - val_loss: 0.1036 - val_accuracy: 0.9718\n",
            "Epoch 12/15\n",
            "375/375 [==============================] - 1s 3ms/step - loss: 0.0207 - accuracy: 0.9943 - val_loss: 0.1000 - val_accuracy: 0.9732\n",
            "Epoch 13/15\n",
            "375/375 [==============================] - 1s 3ms/step - loss: 0.0168 - accuracy: 0.9952 - val_loss: 0.1055 - val_accuracy: 0.9729\n",
            "Epoch 14/15\n",
            "375/375 [==============================] - 1s 3ms/step - loss: 0.0137 - accuracy: 0.9964 - val_loss: 0.1171 - val_accuracy: 0.9712\n",
            "Epoch 15/15\n",
            "375/375 [==============================] - 1s 3ms/step - loss: 0.0173 - accuracy: 0.9949 - val_loss: 0.1168 - val_accuracy: 0.9726\n",
            "dict_keys(['loss', 'accuracy', 'val_loss', 'val_accuracy'])\n",
            "        loss  accuracy  val_loss  val_accuracy\n",
            "0   0.387810  0.890958  0.194591      0.945333\n",
            "1   0.160133  0.952604  0.163108      0.953833\n",
            "2   0.115020  0.966563  0.124505      0.961333\n",
            "3   0.091483  0.972562  0.107485      0.967917\n",
            "4   0.072280  0.978604  0.104547      0.967083\n",
            "5   0.059208  0.982396  0.126434      0.965667\n",
            "6   0.049536  0.985396  0.094807      0.972000\n",
            "7   0.041539  0.987771  0.099427      0.970833\n",
            "8   0.033991  0.989646  0.103109      0.970917\n",
            "9   0.030059  0.990979  0.101088      0.972833\n",
            "10  0.025304  0.992354  0.103610      0.971750\n",
            "11  0.020661  0.994313  0.099979      0.973250\n",
            "12  0.016771  0.995167  0.105509      0.972917\n",
            "13  0.013734  0.996354  0.117124      0.971167\n",
            "14  0.017280  0.994854  0.116823      0.972583\n"
          ],
          "name": "stdout"
        },
        {
          "output_type": "display_data",
          "data": {
            "image/png": "[encoded data removed]",
            "text/plain": [
              "<Figure size 432x288 with 1 Axes>"
            ]
          },
          "metadata": {
            "tags": [],
            "needs_background": "light"
          }
        },
        {
          "output_type": "display_data",
          "data": {
            "image/png": "[encoded data removed]",
            "text/plain": [
              "<Figure size 432x288 with 1 Axes>"
            ]
          },
          "metadata": {
            "tags": [],
            "needs_background": "light"
          }
        },
        {
          "output_type": "stream",
          "text": [
            "WARNING:tensorflow:11 out of the last 11 calls to <function Model.make_predict_function.<locals>.predict_function at 0x7f59647b28c8> triggered tf.function retracing. Tracing is expensive and the excessive number of tracings could be due to (1) creating @tf.function repeatedly in a loop, (2) passing tensors with different shapes, (3) passing Python objects instead of tensors. For (1), please define your @tf.function outside of the loop. For (2), @tf.function has experimental_relax_shapes=True option that relaxes argument shapes that can avoid unnecessary retracing. For (3), please refer to https://www.tensorflow.org/tutorials/customization/performance#python_or_tensor_args and https://www.tensorflow.org/api_docs/python/tf/function for  more details.\n",
            "Распознавание выбранного примера:  [[9.9999988e-01 1.2010115e-12 5.8898504e-09 3.4181000e-13 1.4750491e-14\n",
            "  1.8368818e-09 6.4937313e-09 5.9266432e-13 5.0668445e-12 1.6865761e-07]]\n",
            "Вывод результата (10 цифр):  0\n",
            "Индекс самого большого элемента (Итоговая цифра):  0\n",
            "Правильный ответ:  0\n"
          ],
          "name": "stdout"
        }
      ]
    },
    {
      "cell_type": "code",
      "metadata": {
        "id": "OFxSM6suMs67",
        "colab_type": "code",
        "colab": {
          "base_uri": "https://localhost:8080/",
          "height": 1000
        },
        "outputId": "3592332b-aaf9-485b-f014-f738b225fb6a"
      },
      "source": [
        "df5 = predict_hand_number(23, hidden_size_f[3], hidden_size_s[3], activation[0], batch_size[0])\n",
        "df5_m = df5['val_accuracy'].mean()"
      ],
      "execution_count": null,
      "outputs": [
        {
          "output_type": "stream",
          "text": [
            "Model: \"sequential_27\"\n",
            "_________________________________________________________________\n",
            "Layer (type)                 Output Shape              Param #   \n",
            "=================================================================\n",
            "dense_81 (Dense)             (None, 5000)              3925000   \n",
            "_________________________________________________________________\n",
            "dense_82 (Dense)             (None, 2500)              12502500  \n",
            "_________________________________________________________________\n",
            "dense_83 (Dense)             (None, 10)                25010     \n",
            "=================================================================\n",
            "Total params: 16,452,510\n",
            "Trainable params: 16,452,510\n",
            "Non-trainable params: 0\n",
            "_________________________________________________________________\n",
            "None\n",
            "Epoch 1/15\n",
            "  1/375 [..............................] - ETA: 2s - loss: 2.2996 - accuracy: 0.1328WARNING:tensorflow:Callbacks method `on_train_batch_end` is slow compared to the batch time (batch time: 0.0024s vs `on_train_batch_end` time: 0.0069s). Check your callbacks.\n",
            "375/375 [==============================] - 3s 8ms/step - loss: 0.2069 - accuracy: 0.9361 - val_loss: 0.1134 - val_accuracy: 0.9664\n",
            "Epoch 2/15\n",
            "375/375 [==============================] - 3s 7ms/step - loss: 0.0780 - accuracy: 0.9754 - val_loss: 0.1021 - val_accuracy: 0.9686\n",
            "Epoch 3/15\n",
            "375/375 [==============================] - 3s 7ms/step - loss: 0.0528 - accuracy: 0.9829 - val_loss: 0.0977 - val_accuracy: 0.9740\n",
            "Epoch 4/15\n",
            "375/375 [==============================] - 3s 7ms/step - loss: 0.0368 - accuracy: 0.9881 - val_loss: 0.0997 - val_accuracy: 0.9735\n",
            "Epoch 5/15\n",
            "375/375 [==============================] - 3s 7ms/step - loss: 0.0303 - accuracy: 0.9900 - val_loss: 0.1036 - val_accuracy: 0.9754\n",
            "Epoch 6/15\n",
            "375/375 [==============================] - 3s 7ms/step - loss: 0.0312 - accuracy: 0.9902 - val_loss: 0.1114 - val_accuracy: 0.9740\n",
            "Epoch 7/15\n",
            "375/375 [==============================] - 3s 7ms/step - loss: 0.0247 - accuracy: 0.9922 - val_loss: 0.1040 - val_accuracy: 0.9762\n",
            "Epoch 8/15\n",
            "375/375 [==============================] - 3s 7ms/step - loss: 0.0197 - accuracy: 0.9934 - val_loss: 0.1059 - val_accuracy: 0.9766\n",
            "Epoch 9/15\n",
            "375/375 [==============================] - 3s 7ms/step - loss: 0.0213 - accuracy: 0.9936 - val_loss: 0.1088 - val_accuracy: 0.9788\n",
            "Epoch 10/15\n",
            "375/375 [==============================] - 3s 7ms/step - loss: 0.0153 - accuracy: 0.9950 - val_loss: 0.0963 - val_accuracy: 0.9797\n",
            "Epoch 11/15\n",
            "375/375 [==============================] - 3s 7ms/step - loss: 0.0170 - accuracy: 0.9951 - val_loss: 0.1176 - val_accuracy: 0.9782\n",
            "Epoch 12/15\n",
            "375/375 [==============================] - 3s 7ms/step - loss: 0.0185 - accuracy: 0.9942 - val_loss: 0.1260 - val_accuracy: 0.9772\n",
            "Epoch 13/15\n",
            "375/375 [==============================] - 3s 7ms/step - loss: 0.0135 - accuracy: 0.9962 - val_loss: 0.1071 - val_accuracy: 0.9812\n",
            "Epoch 14/15\n",
            "375/375 [==============================] - 3s 7ms/step - loss: 0.0155 - accuracy: 0.9954 - val_loss: 0.1169 - val_accuracy: 0.9803\n",
            "Epoch 15/15\n",
            "375/375 [==============================] - 3s 7ms/step - loss: 0.0177 - accuracy: 0.9952 - val_loss: 0.1293 - val_accuracy: 0.9762\n",
            "dict_keys(['loss', 'accuracy', 'val_loss', 'val_accuracy'])\n",
            "        loss  accuracy  val_loss  val_accuracy\n",
            "0   0.206927  0.936063  0.113397      0.966417\n",
            "1   0.078030  0.975417  0.102146      0.968583\n",
            "2   0.052815  0.982938  0.097716      0.974000\n",
            "3   0.036768  0.988083  0.099711      0.973500\n",
            "4   0.030302  0.990021  0.103640      0.975417\n",
            "5   0.031231  0.990208  0.111430      0.974000\n",
            "6   0.024707  0.992167  0.103979      0.976167\n",
            "7   0.019668  0.993438  0.105918      0.976583\n",
            "8   0.021333  0.993646  0.108815      0.978833\n",
            "9   0.015349  0.995021  0.096334      0.979750\n",
            "10  0.017027  0.995062  0.117590      0.978167\n",
            "11  0.018508  0.994187  0.125999      0.977167\n",
            "12  0.013457  0.996229  0.107075      0.981167\n",
            "13  0.015481  0.995354  0.116868      0.980333\n",
            "14  0.017661  0.995188  0.129339      0.976167\n"
          ],
          "name": "stdout"
        },
        {
          "output_type": "display_data",
          "data": {
            "image/png": "[encoded data removed]",
            "text/plain": [
              "<Figure size 432x288 with 1 Axes>"
            ]
          },
          "metadata": {
            "tags": [],
            "needs_background": "light"
          }
        },
        {
          "output_type": "display_data",
          "data": {
            "image/png": "[encoded data removed]",
            "text/plain": [
              "<Figure size 432x288 with 1 Axes>"
            ]
          },
          "metadata": {
            "tags": [],
            "needs_background": "light"
          }
        },
        {
          "output_type": "stream",
          "text": [
            "WARNING:tensorflow:11 out of the last 11 calls to <function Model.make_predict_function.<locals>.predict_function at 0x7f5964931f28> triggered tf.function retracing. Tracing is expensive and the excessive number of tracings could be due to (1) creating @tf.function repeatedly in a loop, (2) passing tensors with different shapes, (3) passing Python objects instead of tensors. For (1), please define your @tf.function outside of the loop. For (2), @tf.function has experimental_relax_shapes=True option that relaxes argument shapes that can avoid unnecessary retracing. For (3), please refer to https://www.tensorflow.org/tutorials/customization/performance#python_or_tensor_args and https://www.tensorflow.org/api_docs/python/tf/function for  more details.\n",
            "Распознавание выбранного примера:  [[6.4038379e-26 4.5488466e-22 1.2188695e-26 2.3972091e-16 2.3108812e-27\n",
            "  1.0000000e+00 1.3437758e-21 2.6127954e-26 1.1352286e-24 9.2019251e-17]]\n",
            "Вывод результата (10 цифр):  5\n",
            "Индекс самого большого элемента (Итоговая цифра):  0\n",
            "Правильный ответ:  5\n"
          ],
          "name": "stdout"
        }
      ]
    },
    {
      "cell_type": "code",
      "metadata": {
        "id": "uhkDYqSEMQq1",
        "colab_type": "code",
        "colab": {
          "base_uri": "https://localhost:8080/",
          "height": 1000
        },
        "outputId": "9e16523d-4bdb-4426-c30a-671d4c4b0bf5"
      },
      "source": [
        "df6 = predict_hand_number(1241, hidden_size_f[0], hidden_size_s[0], activation[0], batch_size[1])\n",
        "df6_m = df6['val_accuracy'].mean()"
      ],
      "execution_count": null,
      "outputs": [
        {
          "output_type": "stream",
          "text": [
            "Model: \"sequential_30\"\n",
            "_________________________________________________________________\n",
            "Layer (type)                 Output Shape              Param #   \n",
            "=================================================================\n",
            "dense_90 (Dense)             (None, 800)               628000    \n",
            "_________________________________________________________________\n",
            "dense_91 (Dense)             (None, 400)               320400    \n",
            "_________________________________________________________________\n",
            "dense_92 (Dense)             (None, 10)                4010      \n",
            "=================================================================\n",
            "Total params: 952,410\n",
            "Trainable params: 952,410\n",
            "Non-trainable params: 0\n",
            "_________________________________________________________________\n",
            "None\n",
            "Epoch 1/15\n",
            "48000/48000 [==============================] - 105s 2ms/step - loss: 0.2955 - accuracy: 0.9222 - val_loss: 0.1758 - val_accuracy: 0.9550\n",
            "Epoch 2/15\n",
            "48000/48000 [==============================] - 105s 2ms/step - loss: 0.2060 - accuracy: 0.9544 - val_loss: 0.2208 - val_accuracy: 0.9507\n",
            "Epoch 3/15\n",
            "48000/48000 [==============================] - 106s 2ms/step - loss: 0.1798 - accuracy: 0.9596 - val_loss: 0.1801 - val_accuracy: 0.9616\n",
            "Epoch 4/15\n",
            "48000/48000 [==============================] - 105s 2ms/step - loss: 0.1617 - accuracy: 0.9663 - val_loss: 0.1927 - val_accuracy: 0.9670\n",
            "Epoch 5/15\n",
            "48000/48000 [==============================] - 106s 2ms/step - loss: 0.1522 - accuracy: 0.9679 - val_loss: 0.2212 - val_accuracy: 0.9623\n",
            "Epoch 6/15\n",
            "48000/48000 [==============================] - 105s 2ms/step - loss: 0.1393 - accuracy: 0.9702 - val_loss: 0.3176 - val_accuracy: 0.9587\n",
            "Epoch 7/15\n",
            "48000/48000 [==============================] - 104s 2ms/step - loss: 0.1388 - accuracy: 0.9728 - val_loss: 0.2667 - val_accuracy: 0.9641\n",
            "Epoch 8/15\n",
            "48000/48000 [==============================] - 104s 2ms/step - loss: 0.1288 - accuracy: 0.9767 - val_loss: 0.3280 - val_accuracy: 0.9622\n",
            "Epoch 9/15\n",
            "48000/48000 [==============================] - 105s 2ms/step - loss: 0.1371 - accuracy: 0.9768 - val_loss: 0.3913 - val_accuracy: 0.9662\n",
            "Epoch 10/15\n",
            "48000/48000 [==============================] - 105s 2ms/step - loss: 0.1316 - accuracy: 0.9766 - val_loss: 0.3227 - val_accuracy: 0.9704\n",
            "Epoch 11/15\n",
            "48000/48000 [==============================] - 107s 2ms/step - loss: 0.1285 - accuracy: 0.9769 - val_loss: 0.3479 - val_accuracy: 0.9677\n",
            "Epoch 12/15\n",
            "48000/48000 [==============================] - 107s 2ms/step - loss: 0.1284 - accuracy: 0.9774 - val_loss: 0.4387 - val_accuracy: 0.9664\n",
            "Epoch 13/15\n",
            "48000/48000 [==============================] - 106s 2ms/step - loss: 0.1275 - accuracy: 0.9790 - val_loss: 0.4051 - val_accuracy: 0.9669\n",
            "Epoch 14/15\n",
            "48000/48000 [==============================] - 107s 2ms/step - loss: 0.1296 - accuracy: 0.9800 - val_loss: 0.5076 - val_accuracy: 0.9672\n",
            "Epoch 15/15\n",
            "48000/48000 [==============================] - 105s 2ms/step - loss: 0.1328 - accuracy: 0.9809 - val_loss: 0.5296 - val_accuracy: 0.9657\n",
            "dict_keys(['loss', 'accuracy', 'val_loss', 'val_accuracy'])\n",
            "        loss  accuracy  val_loss  val_accuracy\n",
            "0   0.295495  0.922208  0.175822      0.955000\n",
            "1   0.206014  0.954375  0.220802      0.950750\n",
            "2   0.179836  0.959583  0.180064      0.961583\n",
            "3   0.161725  0.966333  0.192669      0.967000\n",
            "4   0.152199  0.967854  0.221213      0.962333\n",
            "5   0.139281  0.970187  0.317575      0.958667\n",
            "6   0.138840  0.972792  0.266749      0.964083\n",
            "7   0.128797  0.976687  0.327976      0.962167\n",
            "8   0.137106  0.976771  0.391322      0.966167\n",
            "9   0.131635  0.976646  0.322679      0.970417\n",
            "10  0.128526  0.976896  0.347947      0.967667\n",
            "11  0.128419  0.977417  0.438749      0.966417\n",
            "12  0.127514  0.978958  0.405097      0.966917\n",
            "13  0.129587  0.980021  0.507636      0.967250\n",
            "14  0.132792  0.980917  0.529575      0.965750\n"
          ],
          "name": "stdout"
        },
        {
          "output_type": "display_data",
          "data": {
            "image/png": "[encoded data removed]",
            "text/plain": [
              "<Figure size 432x288 with 1 Axes>"
            ]
          },
          "metadata": {
            "tags": [],
            "needs_background": "light"
          }
        },
        {
          "output_type": "display_data",
          "data": {
            "image/png": "[encoded data removed]",
            "text/plain": [
              "<Figure size 432x288 with 1 Axes>"
            ]
          },
          "metadata": {
            "tags": [],
            "needs_background": "light"
          }
        },
        {
          "output_type": "stream",
          "text": [
            "WARNING:tensorflow:11 out of the last 11 calls to <function Model.make_predict_function.<locals>.predict_function at 0x7f595c05b378> triggered tf.function retracing. Tracing is expensive and the excessive number of tracings could be due to (1) creating @tf.function repeatedly in a loop, (2) passing tensors with different shapes, (3) passing Python objects instead of tensors. For (1), please define your @tf.function outside of the loop. For (2), @tf.function has experimental_relax_shapes=True option that relaxes argument shapes that can avoid unnecessary retracing. For (3), please refer to https://www.tensorflow.org/tutorials/customization/performance#python_or_tensor_args and https://www.tensorflow.org/api_docs/python/tf/function for  more details.\n",
            "Распознавание выбранного примера:  [[0. 0. 0. 0. 0. 0. 0. 1. 0. 0.]]\n",
            "Вывод результата (10 цифр):  7\n",
            "Индекс самого большого элемента (Итоговая цифра):  0\n",
            "Правильный ответ:  7\n"
          ],
          "name": "stdout"
        }
      ]
    },
    {
      "cell_type": "code",
      "metadata": {
        "id": "BLBtTsuwZQt_",
        "colab_type": "code",
        "colab": {
          "base_uri": "https://localhost:8080/",
          "height": 1000
        },
        "outputId": "ce6e538e-d48f-4053-ad6f-6f54e13e2157"
      },
      "source": [
        "df7 = predict_hand_number(1562, hidden_size_f[0], hidden_size_s[0], activation[0], batch_size[3])\n",
        "df7_m = df7['val_accuracy'].mean()"
      ],
      "execution_count": null,
      "outputs": [
        {
          "output_type": "stream",
          "text": [
            "Model: \"sequential_31\"\n",
            "_________________________________________________________________\n",
            "Layer (type)                 Output Shape              Param #   \n",
            "=================================================================\n",
            "dense_93 (Dense)             (None, 800)               628000    \n",
            "_________________________________________________________________\n",
            "dense_94 (Dense)             (None, 400)               320400    \n",
            "_________________________________________________________________\n",
            "dense_95 (Dense)             (None, 10)                4010      \n",
            "=================================================================\n",
            "Total params: 952,410\n",
            "Trainable params: 952,410\n",
            "Non-trainable params: 0\n",
            "_________________________________________________________________\n",
            "None\n",
            "Epoch 1/15\n",
            "480/480 [==============================] - 2s 4ms/step - loss: 0.2193 - accuracy: 0.9350 - val_loss: 0.1108 - val_accuracy: 0.9665\n",
            "Epoch 2/15\n",
            "480/480 [==============================] - 1s 3ms/step - loss: 0.0801 - accuracy: 0.9757 - val_loss: 0.0804 - val_accuracy: 0.9737\n",
            "Epoch 3/15\n",
            "480/480 [==============================] - 1s 3ms/step - loss: 0.0518 - accuracy: 0.9836 - val_loss: 0.0841 - val_accuracy: 0.9737\n",
            "Epoch 4/15\n",
            "480/480 [==============================] - 1s 3ms/step - loss: 0.0376 - accuracy: 0.9876 - val_loss: 0.0872 - val_accuracy: 0.9760\n",
            "Epoch 5/15\n",
            "480/480 [==============================] - 1s 3ms/step - loss: 0.0287 - accuracy: 0.9903 - val_loss: 0.0921 - val_accuracy: 0.9753\n",
            "Epoch 6/15\n",
            "480/480 [==============================] - 1s 3ms/step - loss: 0.0211 - accuracy: 0.9930 - val_loss: 0.1037 - val_accuracy: 0.9728\n",
            "Epoch 7/15\n",
            "480/480 [==============================] - 1s 3ms/step - loss: 0.0189 - accuracy: 0.9938 - val_loss: 0.0929 - val_accuracy: 0.9766\n",
            "Epoch 8/15\n",
            "480/480 [==============================] - 1s 3ms/step - loss: 0.0181 - accuracy: 0.9934 - val_loss: 0.1004 - val_accuracy: 0.9757\n",
            "Epoch 9/15\n",
            "480/480 [==============================] - 1s 3ms/step - loss: 0.0137 - accuracy: 0.9954 - val_loss: 0.0995 - val_accuracy: 0.9793\n",
            "Epoch 10/15\n",
            "480/480 [==============================] - 2s 3ms/step - loss: 0.0167 - accuracy: 0.9946 - val_loss: 0.1114 - val_accuracy: 0.9761\n",
            "Epoch 11/15\n",
            "480/480 [==============================] - 1s 3ms/step - loss: 0.0106 - accuracy: 0.9968 - val_loss: 0.1056 - val_accuracy: 0.9776\n",
            "Epoch 12/15\n",
            "480/480 [==============================] - 1s 3ms/step - loss: 0.0119 - accuracy: 0.9962 - val_loss: 0.1126 - val_accuracy: 0.9768\n",
            "Epoch 13/15\n",
            "480/480 [==============================] - 1s 3ms/step - loss: 0.0143 - accuracy: 0.9950 - val_loss: 0.1119 - val_accuracy: 0.9792\n",
            "Epoch 14/15\n",
            "480/480 [==============================] - 1s 3ms/step - loss: 0.0093 - accuracy: 0.9969 - val_loss: 0.1110 - val_accuracy: 0.9778\n",
            "Epoch 15/15\n",
            "480/480 [==============================] - 1s 3ms/step - loss: 0.0051 - accuracy: 0.9984 - val_loss: 0.1376 - val_accuracy: 0.9774\n",
            "dict_keys(['loss', 'accuracy', 'val_loss', 'val_accuracy'])\n",
            "        loss  accuracy  val_loss  val_accuracy\n",
            "0   0.219308  0.935000  0.110828      0.966500\n",
            "1   0.080148  0.975688  0.080362      0.973667\n",
            "2   0.051795  0.983625  0.084105      0.973667\n",
            "3   0.037650  0.987625  0.087186      0.976000\n",
            "4   0.028702  0.990292  0.092119      0.975333\n",
            "5   0.021142  0.993021  0.103668      0.972750\n",
            "6   0.018913  0.993771  0.092904      0.976583\n",
            "7   0.018091  0.993396  0.100415      0.975667\n",
            "8   0.013741  0.995396  0.099499      0.979333\n",
            "9   0.016721  0.994604  0.111431      0.976083\n",
            "10  0.010551  0.996833  0.105606      0.977583\n",
            "11  0.011863  0.996188  0.112601      0.976750\n",
            "12  0.014319  0.994958  0.111917      0.979167\n",
            "13  0.009281  0.996875  0.110961      0.977833\n",
            "14  0.005126  0.998438  0.137560      0.977417\n"
          ],
          "name": "stdout"
        },
        {
          "output_type": "display_data",
          "data": {
            "image/png": "[encoded data removed]",
            "text/plain": [
              "<Figure size 432x288 with 1 Axes>"
            ]
          },
          "metadata": {
            "tags": [],
            "needs_background": "light"
          }
        },
        {
          "output_type": "display_data",
          "data": {
            "image/png": "[encoded data removed]",
            "text/plain": [
              "<Figure size 432x288 with 1 Axes>"
            ]
          },
          "metadata": {
            "tags": [],
            "needs_background": "light"
          }
        },
        {
          "output_type": "stream",
          "text": [
            "WARNING:tensorflow:11 out of the last 11 calls to <function Model.make_predict_function.<locals>.predict_function at 0x7f5964c210d0> triggered tf.function retracing. Tracing is expensive and the excessive number of tracings could be due to (1) creating @tf.function repeatedly in a loop, (2) passing tensors with different shapes, (3) passing Python objects instead of tensors. For (1), please define your @tf.function outside of the loop. For (2), @tf.function has experimental_relax_shapes=True option that relaxes argument shapes that can avoid unnecessary retracing. For (3), please refer to https://www.tensorflow.org/tutorials/customization/performance#python_or_tensor_args and https://www.tensorflow.org/api_docs/python/tf/function for  more details.\n",
            "Распознавание выбранного примера:  [[4.39522090e-08 5.08862527e-12 5.36574651e-09 1.79238735e-09\n",
            "  5.40062515e-13 1.29092035e-08 1.28011905e-07 1.22419999e-11\n",
            "  9.99999762e-01 4.55299043e-09]]\n",
            "Вывод результата (10 цифр):  8\n",
            "Индекс самого большого элемента (Итоговая цифра):  0\n",
            "Правильный ответ:  8\n"
          ],
          "name": "stdout"
        }
      ]
    },
    {
      "cell_type": "code",
      "metadata": {
        "id": "9lkyWqhVa3Ti",
        "colab_type": "code",
        "colab": {
          "base_uri": "https://localhost:8080/",
          "height": 1000
        },
        "outputId": "8360f744-aa8e-4eb3-d707-0897526eae1f"
      },
      "source": [
        "df8 = predict_hand_number(1111, hidden_size_f[0], hidden_size_s[0], activation[0], batch_size[2])\n",
        "df8_m = df8['val_accuracy'].mean()"
      ],
      "execution_count": null,
      "outputs": [
        {
          "output_type": "stream",
          "text": [
            "Model: \"sequential_32\"\n",
            "_________________________________________________________________\n",
            "Layer (type)                 Output Shape              Param #   \n",
            "=================================================================\n",
            "dense_96 (Dense)             (None, 800)               628000    \n",
            "_________________________________________________________________\n",
            "dense_97 (Dense)             (None, 400)               320400    \n",
            "_________________________________________________________________\n",
            "dense_98 (Dense)             (None, 10)                4010      \n",
            "=================================================================\n",
            "Total params: 952,410\n",
            "Trainable params: 952,410\n",
            "Non-trainable params: 0\n",
            "_________________________________________________________________\n",
            "None\n",
            "Epoch 1/15\n",
            "4800/4800 [==============================] - 11s 2ms/step - loss: 0.2032 - accuracy: 0.9394 - val_loss: 0.1173 - val_accuracy: 0.9638\n",
            "Epoch 2/15\n",
            "4800/4800 [==============================] - 11s 2ms/step - loss: 0.0984 - accuracy: 0.9700 - val_loss: 0.1624 - val_accuracy: 0.9561\n",
            "Epoch 3/15\n",
            "4800/4800 [==============================] - 11s 2ms/step - loss: 0.0734 - accuracy: 0.9773 - val_loss: 0.0920 - val_accuracy: 0.9732\n",
            "Epoch 4/15\n",
            "4800/4800 [==============================] - 11s 2ms/step - loss: 0.0560 - accuracy: 0.9830 - val_loss: 0.1004 - val_accuracy: 0.9751\n",
            "Epoch 5/15\n",
            "4800/4800 [==============================] - 11s 2ms/step - loss: 0.0497 - accuracy: 0.9857 - val_loss: 0.1196 - val_accuracy: 0.9755\n",
            "Epoch 6/15\n",
            "4800/4800 [==============================] - 11s 2ms/step - loss: 0.0437 - accuracy: 0.9878 - val_loss: 0.1554 - val_accuracy: 0.9734\n",
            "Epoch 7/15\n",
            "4800/4800 [==============================] - 11s 2ms/step - loss: 0.0367 - accuracy: 0.9894 - val_loss: 0.1552 - val_accuracy: 0.9745\n",
            "Epoch 8/15\n",
            "4800/4800 [==============================] - 11s 2ms/step - loss: 0.0352 - accuracy: 0.9910 - val_loss: 0.1442 - val_accuracy: 0.9767\n",
            "Epoch 9/15\n",
            "4800/4800 [==============================] - 11s 2ms/step - loss: 0.0342 - accuracy: 0.9911 - val_loss: 0.2150 - val_accuracy: 0.9712\n",
            "Epoch 10/15\n",
            "4800/4800 [==============================] - 11s 2ms/step - loss: 0.0312 - accuracy: 0.9920 - val_loss: 0.1641 - val_accuracy: 0.9761\n",
            "Epoch 11/15\n",
            "4800/4800 [==============================] - 11s 2ms/step - loss: 0.0328 - accuracy: 0.9919 - val_loss: 0.1972 - val_accuracy: 0.9768\n",
            "Epoch 12/15\n",
            "4800/4800 [==============================] - 11s 2ms/step - loss: 0.0299 - accuracy: 0.9931 - val_loss: 0.1872 - val_accuracy: 0.9793\n",
            "Epoch 13/15\n",
            "4800/4800 [==============================] - 11s 2ms/step - loss: 0.0289 - accuracy: 0.9932 - val_loss: 0.2359 - val_accuracy: 0.9758\n",
            "Epoch 14/15\n",
            "4800/4800 [==============================] - 11s 2ms/step - loss: 0.0265 - accuracy: 0.9944 - val_loss: 0.1972 - val_accuracy: 0.9762\n",
            "Epoch 15/15\n",
            "4800/4800 [==============================] - 11s 2ms/step - loss: 0.0265 - accuracy: 0.9942 - val_loss: 0.2368 - val_accuracy: 0.9765\n",
            "dict_keys(['loss', 'accuracy', 'val_loss', 'val_accuracy'])\n",
            "        loss  accuracy  val_loss  val_accuracy\n",
            "0   0.203176  0.939354  0.117296      0.963833\n",
            "1   0.098393  0.970042  0.162446      0.956083\n",
            "2   0.073429  0.977292  0.091987      0.973167\n",
            "3   0.055956  0.983000  0.100440      0.975083\n",
            "4   0.049731  0.985708  0.119626      0.975500\n",
            "5   0.043748  0.987792  0.155368      0.973417\n",
            "6   0.036665  0.989438  0.155175      0.974500\n",
            "7   0.035189  0.991042  0.144228      0.976667\n",
            "8   0.034175  0.991063  0.214968      0.971167\n",
            "9   0.031212  0.992021  0.164109      0.976083\n",
            "10  0.032796  0.991917  0.197152      0.976833\n",
            "11  0.029938  0.993125  0.187199      0.979250\n",
            "12  0.028924  0.993187  0.235923      0.975750\n",
            "13  0.026484  0.994438  0.197231      0.976250\n",
            "14  0.026481  0.994167  0.236773      0.976500\n"
          ],
          "name": "stdout"
        },
        {
          "output_type": "display_data",
          "data": {
            "image/png": "[encoded data removed]",
            "text/plain": [
              "<Figure size 432x288 with 1 Axes>"
            ]
          },
          "metadata": {
            "tags": [],
            "needs_background": "light"
          }
        },
        {
          "output_type": "display_data",
          "data": {
            "image/png": "[encoded data removed]",
            "text/plain": [
              "<Figure size 432x288 with 1 Axes>"
            ]
          },
          "metadata": {
            "tags": [],
            "needs_background": "light"
          }
        },
        {
          "output_type": "stream",
          "text": [
            "WARNING:tensorflow:11 out of the last 11 calls to <function Model.make_predict_function.<locals>.predict_function at 0x7f5964931bf8> triggered tf.function retracing. Tracing is expensive and the excessive number of tracings could be due to (1) creating @tf.function repeatedly in a loop, (2) passing tensors with different shapes, (3) passing Python objects instead of tensors. For (1), please define your @tf.function outside of the loop. For (2), @tf.function has experimental_relax_shapes=True option that relaxes argument shapes that can avoid unnecessary retracing. For (3), please refer to https://www.tensorflow.org/tutorials/customization/performance#python_or_tensor_args and https://www.tensorflow.org/api_docs/python/tf/function for  more details.\n",
            "Распознавание выбранного примера:  [[0.0000000e+00 1.2847616e-28 6.3556720e-27 1.9888305e-28 1.0000000e+00\n",
            "  2.0749719e-27 2.4934866e-28 6.1359003e-35 1.3289162e-28 1.8250312e-22]]\n",
            "Вывод результата (10 цифр):  4\n",
            "Индекс самого большого элемента (Итоговая цифра):  0\n",
            "Правильный ответ:  4\n"
          ],
          "name": "stdout"
        }
      ]
    },
    {
      "cell_type": "code",
      "metadata": {
        "id": "QFv_pByoHujy",
        "colab_type": "code",
        "colab": {
          "base_uri": "https://localhost:8080/",
          "height": 300
        },
        "outputId": "e135ab59-6625-47ab-b582-693b3ce15422"
      },
      "source": [
        "\n",
        "df_sum = pd.DataFrame({'n_rec':[545, 12, 1256, 5435, 23, 1241, 1562, 1111],\n",
        "                       'hidden_size_f':[800, 800, 10, 100, 5000, 800, 800, 800],\n",
        "                       'hidden_size_s':[400, 400, 5, 50, 2500, 400, 400, 400],\n",
        "                       'activation':['relu', 'linear', 'relu', 'relu', 'relu', 'relu', 'relu', 'relu'],\n",
        "                       'batch_size':[128, 128, 128, 128, 128, 1, 60000, 10],\n",
        "                       'val_accuracy_mean':[df1_m, df2_m, df3_m, df4_m, df5_m, df6_m, df7_m, df8_m]})\n",
        "df_sum"
      ],
      "execution_count": null,
      "outputs": [
        {
          "output_type": "execute_result",
          "data": {
            "text/html": [
              "<div>\n",
              "<style scoped>\n",
              "    .dataframe tbody tr th:only-of-type {\n",
              "        vertical-align: middle;\n",
              "    }\n",
              "\n",
              "    .dataframe tbody tr th {\n",
              "        vertical-align: top;\n",
              "    }\n",
              "\n",
              "    .dataframe thead th {\n",
              "        text-align: right;\n",
              "    }\n",
              "</style>\n",
              "<table border=\"1\" class=\"dataframe\">\n",
              "  <thead>\n",
              "    <tr style=\"text-align: right;\">\n",
              "      <th></th>\n",
              "      <th>n_rec</th>\n",
              "      <th>hidden_size_f</th>\n",
              "      <th>hidden_size_s</th>\n",
              "      <th>activation</th>\n",
              "      <th>batch_size</th>\n",
              "      <th>val_accuracy_mean</th>\n",
              "    </tr>\n",
              "  </thead>\n",
              "  <tbody>\n",
              "    <tr>\n",
              "      <th>0</th>\n",
              "      <td>545</td>\n",
              "      <td>800</td>\n",
              "      <td>400</td>\n",
              "      <td>relu</td>\n",
              "      <td>128</td>\n",
              "      <td>0.975644</td>\n",
              "    </tr>\n",
              "    <tr>\n",
              "      <th>1</th>\n",
              "      <td>12</td>\n",
              "      <td>800</td>\n",
              "      <td>400</td>\n",
              "      <td>linear</td>\n",
              "      <td>128</td>\n",
              "      <td>0.976417</td>\n",
              "    </tr>\n",
              "    <tr>\n",
              "      <th>2</th>\n",
              "      <td>1256</td>\n",
              "      <td>10</td>\n",
              "      <td>5</td>\n",
              "      <td>relu</td>\n",
              "      <td>128</td>\n",
              "      <td>0.894928</td>\n",
              "    </tr>\n",
              "    <tr>\n",
              "      <th>3</th>\n",
              "      <td>5435</td>\n",
              "      <td>100</td>\n",
              "      <td>50</td>\n",
              "      <td>relu</td>\n",
              "      <td>128</td>\n",
              "      <td>0.967294</td>\n",
              "    </tr>\n",
              "    <tr>\n",
              "      <th>4</th>\n",
              "      <td>23</td>\n",
              "      <td>5000</td>\n",
              "      <td>2500</td>\n",
              "      <td>relu</td>\n",
              "      <td>128</td>\n",
              "      <td>0.975750</td>\n",
              "    </tr>\n",
              "    <tr>\n",
              "      <th>5</th>\n",
              "      <td>1241</td>\n",
              "      <td>800</td>\n",
              "      <td>400</td>\n",
              "      <td>relu</td>\n",
              "      <td>1</td>\n",
              "      <td>0.963478</td>\n",
              "    </tr>\n",
              "    <tr>\n",
              "      <th>6</th>\n",
              "      <td>1562</td>\n",
              "      <td>800</td>\n",
              "      <td>400</td>\n",
              "      <td>relu</td>\n",
              "      <td>60000</td>\n",
              "      <td>0.975622</td>\n",
              "    </tr>\n",
              "    <tr>\n",
              "      <th>7</th>\n",
              "      <td>1111</td>\n",
              "      <td>800</td>\n",
              "      <td>400</td>\n",
              "      <td>relu</td>\n",
              "      <td>10</td>\n",
              "      <td>0.973339</td>\n",
              "    </tr>\n",
              "  </tbody>\n",
              "</table>\n",
              "</div>"
            ],
            "text/plain": [
              "   n_rec  hidden_size_f  ...  batch_size val_accuracy_mean\n",
              "0    545            800  ...         128          0.975644\n",
              "1     12            800  ...         128          0.976417\n",
              "2   1256             10  ...         128          0.894928\n",
              "3   5435            100  ...         128          0.967294\n",
              "4     23           5000  ...         128          0.975750\n",
              "5   1241            800  ...           1          0.963478\n",
              "6   1562            800  ...       60000          0.975622\n",
              "7   1111            800  ...          10          0.973339\n",
              "\n",
              "[8 rows x 6 columns]"
            ]
          },
          "metadata": {
            "tags": []
          },
          "execution_count": 117
        }
      ]
    },
    {
      "cell_type": "markdown",
      "metadata": {
        "id": "clebzGNwU1X-",
        "colab_type": "text"
      },
      "source": [
        "При изменении функции активации с 'relu' на 'linear' - точность практически не меняется (почти одинакова).\n",
        "Уменьшение количества нейронов уменьшает точность, при увеличении количества нейронов точность не меняется. В некоторых случаях предсказывает число неверно.\n",
        "При малом количестве batch_size - время обучения сильно возрастает. Точность слегка уменьшается или не изменяется. При размере batch_size=60000 (вся база) - точность не изменилась, с ранее начальными установленными базовыми значениями. Скорость обучения нормальная"
      ]
    },
    {
      "cell_type": "code",
      "metadata": {
        "id": "GDf-1_OVAp0F",
        "colab_type": "code",
        "colab": {}
      },
      "source": [
        ""
      ],
      "execution_count": null,
      "outputs": []
    },
    {
      "cell_type": "markdown",
      "metadata": {
        "id": "1Bo8nmkFoXxq",
        "colab_type": "text"
      },
      "source": [
        "# Pro задание"
      ]
    },
    {
      "cell_type": "code",
      "metadata": {
        "id": "uWrYWPRNjLy1",
        "colab_type": "code",
        "colab": {}
      },
      "source": [
        "# Загрузка данных MNIST\n",
        "(x_train_org, y_train_org), (x_test_org, y_test_org) = mnist.load_data()"
      ],
      "execution_count": null,
      "outputs": []
    },
    {
      "cell_type": "code",
      "metadata": {
        "id": "7oUG-z9-jNrI",
        "colab_type": "code",
        "colab": {}
      },
      "source": [
        "# Изменение формата входных изображений с 28х28 на 784х1\n",
        "x_train = x_train_org.reshape(60000, 784)\n",
        "x_test = x_test_org.reshape(10000, 784)"
      ],
      "execution_count": null,
      "outputs": []
    },
    {
      "cell_type": "code",
      "metadata": {
        "id": "3pTEiKChjSLB",
        "colab_type": "code",
        "colab": {}
      },
      "source": [
        "# Нормализация входных изображений\n",
        "x_train = x_train.astype('float32')\n",
        "x_train = x_train / 255\n",
        "x_test = x_test.astype('float32')\n",
        "x_test = x_test / 255"
      ],
      "execution_count": null,
      "outputs": []
    },
    {
      "cell_type": "code",
      "metadata": {
        "id": "ZZi3jDY0jduy",
        "colab_type": "code",
        "colab": {}
      },
      "source": [
        "# Преобразование ответов в формат one_hot_encoding\n",
        "y_train = utils.to_categorical(y_train_org, 10)\n",
        "y_test = utils.to_categorical(y_test_org, 10)"
      ],
      "execution_count": null,
      "outputs": []
    },
    {
      "cell_type": "code",
      "metadata": {
        "id": "aGOyY_fSk_gB",
        "colab_type": "code",
        "colab": {}
      },
      "source": [
        "history = History()"
      ],
      "execution_count": null,
      "outputs": []
    },
    {
      "cell_type": "code",
      "metadata": {
        "id": "E_xs9y-njiL0",
        "colab_type": "code",
        "colab": {
          "base_uri": "https://localhost:8080/",
          "height": 293
        },
        "outputId": "bfa7629f-2f8c-4e17-a5d8-1748f64354b9"
      },
      "source": [
        "# Создание НС\n",
        "model_img = Sequential()\n",
        "model_img.add(Dense(800, input_dim=784, activation='relu'))\n",
        "model_img.add(Dense(400, activation='relu'))\n",
        "model_img.add(Dense(10, activation='softmax'))\n",
        "model_img.compile(loss='categorical_crossentropy', optimizer='adam', metrics=['accuracy'])\n",
        "print(model_img.summary())"
      ],
      "execution_count": null,
      "outputs": [
        {
          "output_type": "stream",
          "text": [
            "Model: \"sequential\"\n",
            "_________________________________________________________________\n",
            "Layer (type)                 Output Shape              Param #   \n",
            "=================================================================\n",
            "dense (Dense)                (None, 800)               628000    \n",
            "_________________________________________________________________\n",
            "dense_1 (Dense)              (None, 400)               320400    \n",
            "_________________________________________________________________\n",
            "dense_2 (Dense)              (None, 10)                4010      \n",
            "=================================================================\n",
            "Total params: 952,410\n",
            "Trainable params: 952,410\n",
            "Non-trainable params: 0\n",
            "_________________________________________________________________\n",
            "None\n"
          ],
          "name": "stdout"
        }
      ]
    },
    {
      "cell_type": "code",
      "metadata": {
        "id": "QL53A3u0jmNe",
        "colab_type": "code",
        "colab": {
          "base_uri": "https://localhost:8080/",
          "height": 586
        },
        "outputId": "ac43ff01-4147-409f-de12-82b581f98c70"
      },
      "source": [
        "# Обучение НС\n",
        "history = model_img.fit(x_train, y_train, batch_size=128, epochs=15, verbose=1, validation_split=0.5)\n",
        "print(history.history.keys())"
      ],
      "execution_count": null,
      "outputs": [
        {
          "output_type": "stream",
          "text": [
            "Epoch 1/15\n",
            "235/235 [==============================] - 1s 6ms/step - loss: 0.2816 - accuracy: 0.9178 - val_loss: 0.1460 - val_accuracy: 0.9566\n",
            "Epoch 2/15\n",
            "235/235 [==============================] - 1s 5ms/step - loss: 0.1001 - accuracy: 0.9689 - val_loss: 0.1154 - val_accuracy: 0.9651\n",
            "Epoch 3/15\n",
            "235/235 [==============================] - 1s 5ms/step - loss: 0.0579 - accuracy: 0.9819 - val_loss: 0.1066 - val_accuracy: 0.9674\n",
            "Epoch 4/15\n",
            "235/235 [==============================] - 1s 5ms/step - loss: 0.0375 - accuracy: 0.9882 - val_loss: 0.1119 - val_accuracy: 0.9683\n",
            "Epoch 5/15\n",
            "235/235 [==============================] - 1s 5ms/step - loss: 0.0233 - accuracy: 0.9928 - val_loss: 0.1096 - val_accuracy: 0.9697\n",
            "Epoch 6/15\n",
            "235/235 [==============================] - 1s 5ms/step - loss: 0.0205 - accuracy: 0.9931 - val_loss: 0.1298 - val_accuracy: 0.9685\n",
            "Epoch 7/15\n",
            "235/235 [==============================] - 1s 5ms/step - loss: 0.0149 - accuracy: 0.9955 - val_loss: 0.1230 - val_accuracy: 0.9715\n",
            "Epoch 8/15\n",
            "235/235 [==============================] - 1s 5ms/step - loss: 0.0154 - accuracy: 0.9947 - val_loss: 0.1255 - val_accuracy: 0.9701\n",
            "Epoch 9/15\n",
            "235/235 [==============================] - 1s 5ms/step - loss: 0.0115 - accuracy: 0.9963 - val_loss: 0.1396 - val_accuracy: 0.9685\n",
            "Epoch 10/15\n",
            "235/235 [==============================] - 1s 5ms/step - loss: 0.0170 - accuracy: 0.9945 - val_loss: 0.1632 - val_accuracy: 0.9653\n",
            "Epoch 11/15\n",
            "235/235 [==============================] - 1s 5ms/step - loss: 0.0144 - accuracy: 0.9954 - val_loss: 0.1179 - val_accuracy: 0.9742\n",
            "Epoch 12/15\n",
            "235/235 [==============================] - 1s 5ms/step - loss: 0.0085 - accuracy: 0.9975 - val_loss: 0.1366 - val_accuracy: 0.9728\n",
            "Epoch 13/15\n",
            "235/235 [==============================] - 1s 5ms/step - loss: 0.0072 - accuracy: 0.9977 - val_loss: 0.1329 - val_accuracy: 0.9736\n",
            "Epoch 14/15\n",
            "235/235 [==============================] - 1s 5ms/step - loss: 0.0040 - accuracy: 0.9988 - val_loss: 0.1385 - val_accuracy: 0.9731\n",
            "Epoch 15/15\n",
            "235/235 [==============================] - 1s 5ms/step - loss: 0.0132 - accuracy: 0.9958 - val_loss: 0.1461 - val_accuracy: 0.9720\n",
            "dict_keys(['loss', 'accuracy', 'val_loss', 'val_accuracy'])\n"
          ],
          "name": "stdout"
        }
      ]
    },
    {
      "cell_type": "code",
      "metadata": {
        "id": "hHlQ4EPdlTX1",
        "colab_type": "code",
        "colab": {
          "base_uri": "https://localhost:8080/",
          "height": 311
        },
        "outputId": "0c2b5065-de94-454f-ec51-a0c16fa7f6bb"
      },
      "source": [
        "#pprint(history.history)\n",
        "df = pd.DataFrame(history.history)\n",
        "pprint(df)"
      ],
      "execution_count": null,
      "outputs": [
        {
          "output_type": "stream",
          "text": [
            "        loss  accuracy  val_loss  val_accuracy\n",
            "0   0.281602  0.917833  0.145961      0.956633\n",
            "1   0.100101  0.968867  0.115389      0.965133\n",
            "2   0.057900  0.981867  0.106575      0.967400\n",
            "3   0.037455  0.988233  0.111857      0.968267\n",
            "4   0.023288  0.992767  0.109615      0.969700\n",
            "5   0.020501  0.993100  0.129849      0.968533\n",
            "6   0.014899  0.995500  0.123015      0.971467\n",
            "7   0.015398  0.994700  0.125509      0.970100\n",
            "8   0.011519  0.996267  0.139611      0.968533\n",
            "9   0.016998  0.994500  0.163181      0.965267\n",
            "10  0.014408  0.995400  0.117871      0.974200\n",
            "11  0.008549  0.997533  0.136630      0.972767\n",
            "12  0.007205  0.997733  0.132932      0.973567\n",
            "13  0.003975  0.998767  0.138462      0.973133\n",
            "14  0.013245  0.995767  0.146106      0.971967\n"
          ],
          "name": "stdout"
        }
      ]
    },
    {
      "cell_type": "code",
      "metadata": {
        "id": "qVIQlr5VldTS",
        "colab_type": "code",
        "colab": {
          "base_uri": "https://localhost:8080/",
          "height": 295
        },
        "outputId": "f1c2764e-333d-4feb-c097-b1bdd345228c"
      },
      "source": [
        "  # Обучение и проверка точности значений\n",
        "  plt.plot(history.history['accuracy'])\n",
        "  plt.plot(history.history['val_accuracy'])\n",
        "  plt.title('Точность модели')\n",
        "  plt.xlabel('Epoch')\n",
        "  plt.ylabel('Accuracy')\n",
        "  plt.legend(['Train', 'Test'], loc='upper left')\n",
        "  plt.show()"
      ],
      "execution_count": null,
      "outputs": [
        {
          "output_type": "display_data",
          "data": {
            "image/png": "[encoded data removed]",
            "text/plain": [
              "<Figure size 432x288 with 1 Axes>"
            ]
          },
          "metadata": {
            "tags": [],
            "needs_background": "light"
          }
        }
      ]
    },
    {
      "cell_type": "code",
      "metadata": {
        "id": "UOAnvBvukFLN",
        "colab_type": "code",
        "colab": {}
      },
      "source": [
        "model_img.save_weights('model_pro.h5')\n",
        "model_img.load_weights('model_pro.h5')"
      ],
      "execution_count": null,
      "outputs": []
    },
    {
      "cell_type": "code",
      "metadata": {
        "id": "BdcvGfAEmzvo",
        "colab_type": "code",
        "colab": {}
      },
      "source": [
        "# img = image.load_img('/content/1.png', target_size=(28, 28), color_mode='grayscale')\n",
        "# plt.imshow(img.convert('RGBA'))"
      ],
      "execution_count": null,
      "outputs": []
    },
    {
      "cell_type": "code",
      "metadata": {
        "id": "BvKXlIwct9DG",
        "colab_type": "code",
        "colab": {}
      },
      "source": [
        "# img = image.load_img('/content/2.png', target_size=(28, 28), color_mode='grayscale')\n",
        "# plt.imshow(img.convert('RGBA'))"
      ],
      "execution_count": null,
      "outputs": []
    },
    {
      "cell_type": "code",
      "metadata": {
        "id": "B7t1fUR8uOPZ",
        "colab_type": "code",
        "colab": {}
      },
      "source": [
        "# img = image.load_img('/content/3.png', target_size=(28, 28), color_mode='grayscale')\n",
        "# plt.imshow(img.convert('RGBA'))"
      ],
      "execution_count": null,
      "outputs": []
    },
    {
      "cell_type": "code",
      "metadata": {
        "id": "6rw59AX7kFQR",
        "colab_type": "code",
        "colab": {}
      },
      "source": [
        "# img = image.load_img('/content/4.png', target_size=(28, 28), color_mode='grayscale')\n",
        "# plt.imshow(img.convert('RGBA'))"
      ],
      "execution_count": null,
      "outputs": []
    },
    {
      "cell_type": "code",
      "metadata": {
        "id": "kdYhfdXks1Pd",
        "colab_type": "code",
        "colab": {}
      },
      "source": [
        "# img = image.load_img('/content/5.png', target_size=(28, 28), color_mode='grayscale')\n",
        "# plt.imshow(img.convert('RGBA'))"
      ],
      "execution_count": null,
      "outputs": []
    },
    {
      "cell_type": "code",
      "metadata": {
        "id": "_nKKwLGq7Qib",
        "colab_type": "code",
        "colab": {
          "base_uri": "https://localhost:8080/",
          "height": 283
        },
        "outputId": "948315e2-ddf0-4b5e-846d-a10e48a2433d"
      },
      "source": [
        "img = image.load_img('/content/Scan_2.jpg', target_size=(28, 28), color_mode='grayscale')\n",
        "plt.imshow(img.convert('RGBA'))"
      ],
      "execution_count": null,
      "outputs": [
        {
          "output_type": "execute_result",
          "data": {
            "text/plain": [
              "<matplotlib.image.AxesImage at 0x7f596a094128>"
            ]
          },
          "metadata": {
            "tags": []
          },
          "execution_count": 17
        },
        {
          "output_type": "display_data",
          "data": {
            "image/png": "[encoded data removed]",
            "text/plain": [
              "<Figure size 432x288 with 1 Axes>"
            ]
          },
          "metadata": {
            "tags": [],
            "needs_background": "light"
          }
        }
      ]
    },
    {
      "cell_type": "code",
      "metadata": {
        "id": "_vW35DV9vJ9Z",
        "colab_type": "code",
        "colab": {}
      },
      "source": [
        "# img = image.load_img('/content/6.png', target_size=(28, 28), color_mode='grayscale')\n",
        "# plt.imshow(img.convert('RGBA'))"
      ],
      "execution_count": null,
      "outputs": []
    },
    {
      "cell_type": "code",
      "metadata": {
        "id": "lnHDQbadvQUD",
        "colab_type": "code",
        "colab": {}
      },
      "source": [
        "# img = image.load_img('/content/7.png', target_size=(28, 28), color_mode='grayscale')\n",
        "# plt.imshow(img.convert('RGBA'))"
      ],
      "execution_count": null,
      "outputs": []
    },
    {
      "cell_type": "code",
      "metadata": {
        "id": "WiA0eXNdtJy3",
        "colab_type": "code",
        "colab": {}
      },
      "source": [
        "# img = image.load_img('/content/8.png', target_size=(28, 28), color_mode='grayscale')\n",
        "# plt.imshow(img.convert('RGBA'))"
      ],
      "execution_count": null,
      "outputs": []
    },
    {
      "cell_type": "code",
      "metadata": {
        "id": "Q4irGL4ovieo",
        "colab_type": "code",
        "colab": {}
      },
      "source": [
        "# img = image.load_img('/content/9.png', target_size=(28, 28), color_mode='grayscale')\n",
        "# plt.imshow(img.convert('RGBA'))"
      ],
      "execution_count": null,
      "outputs": []
    },
    {
      "cell_type": "code",
      "metadata": {
        "id": "p7zrJnOwkSlo",
        "colab_type": "code",
        "colab": {}
      },
      "source": [
        "# преобразование изображения в массив\n",
        "img_arr = image.img_to_array(img)\n",
        "# Изменение формы массива в плоский вектор\n",
        "img_arr = img_arr.reshape(1, 784)\n",
        "# Инверсия изображения\n",
        "img_arr = 255 - img_arr\n",
        "# Нормализация изображения\n",
        "img_arr /= 255"
      ],
      "execution_count": null,
      "outputs": []
    },
    {
      "cell_type": "code",
      "metadata": {
        "id": "hRRP-BezdSUw",
        "colab_type": "code",
        "colab": {
          "base_uri": "https://localhost:8080/",
          "height": 72
        },
        "outputId": "4249e7f9-68e8-4a2e-c93a-c8bfd5ad1c23"
      },
      "source": [
        "# Распознавание\n",
        "prediction_img = model_img.predict(img_arr)\n",
        "print(prediction_img)\n",
        "print('Распознанная цифра: ', np.argmax(prediction_img))"
      ],
      "execution_count": null,
      "outputs": [
        {
          "output_type": "stream",
          "text": [
            "[[1.1986908e-01 2.0961773e-02 4.3985391e-01 1.8003916e-04 2.9929316e-01\n",
            "  1.1226124e-03 2.4055124e-04 1.1792778e-01 1.2616995e-05 5.3846888e-04]]\n",
            "Распознанная цифра:  2\n"
          ],
          "name": "stdout"
        }
      ]
    },
    {
      "cell_type": "code",
      "metadata": {
        "id": "ROYBKzFZnal5",
        "colab_type": "code",
        "colab": {}
      },
      "source": [
        "\n"
      ],
      "execution_count": null,
      "outputs": []
    },
    {
      "cell_type": "code",
      "metadata": {
        "id": "k-zOnWIsuA4_",
        "colab_type": "code",
        "colab": {}
      },
      "source": [
        ""
      ],
      "execution_count": null,
      "outputs": []
    }
  ]
}